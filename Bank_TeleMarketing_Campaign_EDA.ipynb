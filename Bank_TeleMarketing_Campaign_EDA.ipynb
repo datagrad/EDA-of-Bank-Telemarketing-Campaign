{
  "cells": [
    {
      "cell_type": "markdown",
      "metadata": {
        "id": "view-in-github",
        "colab_type": "text"
      },
      "source": [
        "<a href=\"https://colab.research.google.com/github/datagrad/EDA-of-Bank-Telemarketing-Campaign/blob/main/Bank_TeleMarketing_Campaign_EDA.ipynb\" target=\"_parent\"><img src=\"https://colab.research.google.com/assets/colab-badge.svg\" alt=\"Open In Colab\"/></a>"
      ]
    },
    {
      "cell_type": "markdown",
      "metadata": {
        "id": "bg12Yrb_pIdK"
      },
      "source": [
        "## Bank Telemarketing Campaign Case Study."
      ]
    },
    {
      "cell_type": "markdown",
      "metadata": {
        "id": "EJWRXmOspIdR"
      },
      "source": [
        "In this case study you’ll be learning Exploratory Data Analytics with the help of a case study on \"Bank marketing campaign\". This will enable you to understand why EDA is a most important step in the process of Machine Learning."
      ]
    },
    {
      "cell_type": "markdown",
      "metadata": {
        "id": "KD1xCE7xpIdS"
      },
      "source": [
        "#### Problem Statement:"
      ]
    },
    {
      "cell_type": "markdown",
      "metadata": {
        "id": "nt8wjV_KpIdU"
      },
      "source": [
        " \n",
        "\n",
        "The bank provides financial services/products such as savings accounts, current accounts, debit cards, etc. to its customers. In order to increase its overall revenue, the bank conducts various marketing campaigns for its financial products such as credit cards, term deposits, loans, etc. These campaigns are intended for the bank’s existing customers. However, the marketing campaigns need to be cost-efficient so that the bank not only increases their overall revenues but also the total profit. You need to apply your knowledge of EDA on the given dataset to analyse the patterns and provide inferences/solutions for the future marketing campaign.\n",
        "\n",
        "The bank conducted a telemarketing campaign for one of its financial products ‘Term Deposits’ to help foster long-term relationships with existing customers. The dataset contains information about all the customers who were contacted during a particular year to open term deposit accounts.\n",
        "\n",
        "\n",
        "**What is the term Deposit?**\n",
        "\n",
        "Term deposits also called fixed deposits, are the cash investments made for a specific time period ranging from 1 month to 5 years for predetermined fixed interest rates. The fixed interest rates offered for term deposits are higher than the regular interest rates for savings accounts. The customers receive the total amount (investment plus the interest) at the end of the maturity period. Also, the money can only be withdrawn at the end of the maturity period. Withdrawing money before that will result in an added penalty associated, and the customer will not receive any interest returns.\n",
        "\n",
        "Your target is to do end to end EDA on this bank telemarketing campaign data set to infer knowledge that where bank has to put more effort to improve it's positive response rate. "
      ]
    },
    {
      "cell_type": "markdown",
      "metadata": {
        "id": "wlDUTO7ZpIdW"
      },
      "source": [
        "#### Importing the libraries."
      ]
    },
    {
      "cell_type": "code",
      "execution_count": 2,
      "metadata": {
        "id": "X-Cns0zdpIdX"
      },
      "outputs": [],
      "source": [
        "#import the warnings.\n",
        "import warnings\n",
        "warnings.filterwarnings(\"ignore\")\n"
      ]
    },
    {
      "cell_type": "code",
      "execution_count": 3,
      "metadata": {
        "id": "X8d_FzDepIda"
      },
      "outputs": [],
      "source": [
        "#import the useful libraries.\n",
        "import numpy as np\n",
        "import pandas as pd\n",
        "import seaborn as sns\n",
        "import matplotlib.pyplot as plt\n",
        "%matplotlib inline\n"
      ]
    },
    {
      "cell_type": "markdown",
      "metadata": {
        "id": "s14gC1XdpIdb"
      },
      "source": [
        "## Session- 2, Data Cleaning "
      ]
    },
    {
      "cell_type": "markdown",
      "metadata": {
        "id": "Sv63MJpYpIdd"
      },
      "source": [
        "### Segment- 2, Data Types "
      ]
    },
    {
      "cell_type": "markdown",
      "metadata": {
        "id": "Azk3BL1QpIde"
      },
      "source": [
        "There are multiple types of data types available in the data set. some of them are numerical type and some of categorical type. You are required to get the idea about the data types after reading the data frame. \n",
        "\n",
        "Following are the some of the types of variables:\n",
        "- **Numeric data type**: banking dataset: salary, balance, duration and age.\n",
        "- **Categorical data type**: banking dataset: education, job, marital, poutcome and month etc.\n",
        "- **Ordinal data type**: banking dataset: Age group.\n",
        "- **Time and date type** \n",
        "- **Coordinates type of data**: latitude and longitude type.\n"
      ]
    },
    {
      "cell_type": "markdown",
      "metadata": {
        "id": "hUbZXiwmpIdf"
      },
      "source": [
        "#### Read in the Data set. "
      ]
    },
    {
      "cell_type": "markdown",
      "source": [
        "#### 1. Read CSV FILE\n"
      ],
      "metadata": {
        "id": "FiDoPaVdot2o"
      }
    },
    {
      "cell_type": "code",
      "execution_count": 4,
      "metadata": {
        "id": "DZHqze9upIdg"
      },
      "outputs": [],
      "source": [
        "#read the data set of \"bank telemarketing campaign\" in inp0.\n",
        "df= pd.read_csv(\"https://raw.githubusercontent.com/datagrad/EDA-of-Bank-Telemarketing-Campaign/main/bank_marketing_updated_v1.csv?token=GHSAT0AAAAAABT3FJQMBRCCFK2Z5F4BT3TKYTTSUHA\")\n"
      ]
    },
    {
      "cell_type": "code",
      "execution_count": 5,
      "metadata": {
        "colab": {
          "base_uri": "https://localhost:8080/",
          "height": 409
        },
        "id": "be6nvm9fpIdh",
        "outputId": "30df29c9-f2e2-4611-d776-73134eb258a1"
      },
      "outputs": [
        {
          "output_type": "execute_result",
          "data": {
            "text/plain": [
              "      banking marketing Unnamed: 1                    Unnamed: 2 Unnamed: 3  \\\n",
              "0  customer id and age.        NaN  Customer salary and balance.        NaN   \n",
              "1            customerid        age                        salary    balance   \n",
              "2                     1         58                        100000       2143   \n",
              "3                     2         44                         60000         29   \n",
              "4                     3         33                        120000          2   \n",
              "\n",
              "                                          Unnamed: 4              Unnamed: 5  \\\n",
              "0  Customer marital status and job with education...                     NaN   \n",
              "1                                            marital                  jobedu   \n",
              "2                                            married     management,tertiary   \n",
              "3                                             single    technician,secondary   \n",
              "4                                            married  entrepreneur,secondary   \n",
              "\n",
              "                                   Unnamed: 6 Unnamed: 7  \\\n",
              "0  particular customer before targeted or not        NaN   \n",
              "1                                    targeted    default   \n",
              "2                                         yes         no   \n",
              "3                                         yes         no   \n",
              "4                                         yes         no   \n",
              "\n",
              "                           Unnamed: 8 Unnamed: 9   Unnamed: 10 Unnamed: 11  \\\n",
              "0  Loan types: loans or housing loans        NaN  Contact type         NaN   \n",
              "1                             housing       loan       contact         day   \n",
              "2                                 yes         no       unknown           5   \n",
              "3                                 yes         no       unknown           5   \n",
              "4                                 yes        yes       unknown           5   \n",
              "\n",
              "        Unnamed: 12       Unnamed: 13 Unnamed: 14 Unnamed: 15 Unnamed: 16  \\\n",
              "0  month of contact  duration of call         NaN         NaN         NaN   \n",
              "1             month          duration    campaign       pdays    previous   \n",
              "2         may, 2017           261 sec           1          -1           0   \n",
              "3         may, 2017           151 sec           1          -1           0   \n",
              "4         may, 2017            76 sec           1          -1           0   \n",
              "\n",
              "                   Unnamed: 17                              Unnamed: 18  \n",
              "0  outcome of previous contact  response of customer after call happned  \n",
              "1                     poutcome                                 response  \n",
              "2                      unknown                                       no  \n",
              "3                      unknown                                       no  \n",
              "4                      unknown                                       no  "
            ],
            "text/html": [
              "\n",
              "  <div id=\"df-812e056b-d23a-4129-948a-349332fabd24\">\n",
              "    <div class=\"colab-df-container\">\n",
              "      <div>\n",
              "<style scoped>\n",
              "    .dataframe tbody tr th:only-of-type {\n",
              "        vertical-align: middle;\n",
              "    }\n",
              "\n",
              "    .dataframe tbody tr th {\n",
              "        vertical-align: top;\n",
              "    }\n",
              "\n",
              "    .dataframe thead th {\n",
              "        text-align: right;\n",
              "    }\n",
              "</style>\n",
              "<table border=\"1\" class=\"dataframe\">\n",
              "  <thead>\n",
              "    <tr style=\"text-align: right;\">\n",
              "      <th></th>\n",
              "      <th>banking marketing</th>\n",
              "      <th>Unnamed: 1</th>\n",
              "      <th>Unnamed: 2</th>\n",
              "      <th>Unnamed: 3</th>\n",
              "      <th>Unnamed: 4</th>\n",
              "      <th>Unnamed: 5</th>\n",
              "      <th>Unnamed: 6</th>\n",
              "      <th>Unnamed: 7</th>\n",
              "      <th>Unnamed: 8</th>\n",
              "      <th>Unnamed: 9</th>\n",
              "      <th>Unnamed: 10</th>\n",
              "      <th>Unnamed: 11</th>\n",
              "      <th>Unnamed: 12</th>\n",
              "      <th>Unnamed: 13</th>\n",
              "      <th>Unnamed: 14</th>\n",
              "      <th>Unnamed: 15</th>\n",
              "      <th>Unnamed: 16</th>\n",
              "      <th>Unnamed: 17</th>\n",
              "      <th>Unnamed: 18</th>\n",
              "    </tr>\n",
              "  </thead>\n",
              "  <tbody>\n",
              "    <tr>\n",
              "      <th>0</th>\n",
              "      <td>customer id and age.</td>\n",
              "      <td>NaN</td>\n",
              "      <td>Customer salary and balance.</td>\n",
              "      <td>NaN</td>\n",
              "      <td>Customer marital status and job with education...</td>\n",
              "      <td>NaN</td>\n",
              "      <td>particular customer before targeted or not</td>\n",
              "      <td>NaN</td>\n",
              "      <td>Loan types: loans or housing loans</td>\n",
              "      <td>NaN</td>\n",
              "      <td>Contact type</td>\n",
              "      <td>NaN</td>\n",
              "      <td>month of contact</td>\n",
              "      <td>duration of call</td>\n",
              "      <td>NaN</td>\n",
              "      <td>NaN</td>\n",
              "      <td>NaN</td>\n",
              "      <td>outcome of previous contact</td>\n",
              "      <td>response of customer after call happned</td>\n",
              "    </tr>\n",
              "    <tr>\n",
              "      <th>1</th>\n",
              "      <td>customerid</td>\n",
              "      <td>age</td>\n",
              "      <td>salary</td>\n",
              "      <td>balance</td>\n",
              "      <td>marital</td>\n",
              "      <td>jobedu</td>\n",
              "      <td>targeted</td>\n",
              "      <td>default</td>\n",
              "      <td>housing</td>\n",
              "      <td>loan</td>\n",
              "      <td>contact</td>\n",
              "      <td>day</td>\n",
              "      <td>month</td>\n",
              "      <td>duration</td>\n",
              "      <td>campaign</td>\n",
              "      <td>pdays</td>\n",
              "      <td>previous</td>\n",
              "      <td>poutcome</td>\n",
              "      <td>response</td>\n",
              "    </tr>\n",
              "    <tr>\n",
              "      <th>2</th>\n",
              "      <td>1</td>\n",
              "      <td>58</td>\n",
              "      <td>100000</td>\n",
              "      <td>2143</td>\n",
              "      <td>married</td>\n",
              "      <td>management,tertiary</td>\n",
              "      <td>yes</td>\n",
              "      <td>no</td>\n",
              "      <td>yes</td>\n",
              "      <td>no</td>\n",
              "      <td>unknown</td>\n",
              "      <td>5</td>\n",
              "      <td>may, 2017</td>\n",
              "      <td>261 sec</td>\n",
              "      <td>1</td>\n",
              "      <td>-1</td>\n",
              "      <td>0</td>\n",
              "      <td>unknown</td>\n",
              "      <td>no</td>\n",
              "    </tr>\n",
              "    <tr>\n",
              "      <th>3</th>\n",
              "      <td>2</td>\n",
              "      <td>44</td>\n",
              "      <td>60000</td>\n",
              "      <td>29</td>\n",
              "      <td>single</td>\n",
              "      <td>technician,secondary</td>\n",
              "      <td>yes</td>\n",
              "      <td>no</td>\n",
              "      <td>yes</td>\n",
              "      <td>no</td>\n",
              "      <td>unknown</td>\n",
              "      <td>5</td>\n",
              "      <td>may, 2017</td>\n",
              "      <td>151 sec</td>\n",
              "      <td>1</td>\n",
              "      <td>-1</td>\n",
              "      <td>0</td>\n",
              "      <td>unknown</td>\n",
              "      <td>no</td>\n",
              "    </tr>\n",
              "    <tr>\n",
              "      <th>4</th>\n",
              "      <td>3</td>\n",
              "      <td>33</td>\n",
              "      <td>120000</td>\n",
              "      <td>2</td>\n",
              "      <td>married</td>\n",
              "      <td>entrepreneur,secondary</td>\n",
              "      <td>yes</td>\n",
              "      <td>no</td>\n",
              "      <td>yes</td>\n",
              "      <td>yes</td>\n",
              "      <td>unknown</td>\n",
              "      <td>5</td>\n",
              "      <td>may, 2017</td>\n",
              "      <td>76 sec</td>\n",
              "      <td>1</td>\n",
              "      <td>-1</td>\n",
              "      <td>0</td>\n",
              "      <td>unknown</td>\n",
              "      <td>no</td>\n",
              "    </tr>\n",
              "  </tbody>\n",
              "</table>\n",
              "</div>\n",
              "      <button class=\"colab-df-convert\" onclick=\"convertToInteractive('df-812e056b-d23a-4129-948a-349332fabd24')\"\n",
              "              title=\"Convert this dataframe to an interactive table.\"\n",
              "              style=\"display:none;\">\n",
              "        \n",
              "  <svg xmlns=\"http://www.w3.org/2000/svg\" height=\"24px\"viewBox=\"0 0 24 24\"\n",
              "       width=\"24px\">\n",
              "    <path d=\"M0 0h24v24H0V0z\" fill=\"none\"/>\n",
              "    <path d=\"M18.56 5.44l.94 2.06.94-2.06 2.06-.94-2.06-.94-.94-2.06-.94 2.06-2.06.94zm-11 1L8.5 8.5l.94-2.06 2.06-.94-2.06-.94L8.5 2.5l-.94 2.06-2.06.94zm10 10l.94 2.06.94-2.06 2.06-.94-2.06-.94-.94-2.06-.94 2.06-2.06.94z\"/><path d=\"M17.41 7.96l-1.37-1.37c-.4-.4-.92-.59-1.43-.59-.52 0-1.04.2-1.43.59L10.3 9.45l-7.72 7.72c-.78.78-.78 2.05 0 2.83L4 21.41c.39.39.9.59 1.41.59.51 0 1.02-.2 1.41-.59l7.78-7.78 2.81-2.81c.8-.78.8-2.07 0-2.86zM5.41 20L4 18.59l7.72-7.72 1.47 1.35L5.41 20z\"/>\n",
              "  </svg>\n",
              "      </button>\n",
              "      \n",
              "  <style>\n",
              "    .colab-df-container {\n",
              "      display:flex;\n",
              "      flex-wrap:wrap;\n",
              "      gap: 12px;\n",
              "    }\n",
              "\n",
              "    .colab-df-convert {\n",
              "      background-color: #E8F0FE;\n",
              "      border: none;\n",
              "      border-radius: 50%;\n",
              "      cursor: pointer;\n",
              "      display: none;\n",
              "      fill: #1967D2;\n",
              "      height: 32px;\n",
              "      padding: 0 0 0 0;\n",
              "      width: 32px;\n",
              "    }\n",
              "\n",
              "    .colab-df-convert:hover {\n",
              "      background-color: #E2EBFA;\n",
              "      box-shadow: 0px 1px 2px rgba(60, 64, 67, 0.3), 0px 1px 3px 1px rgba(60, 64, 67, 0.15);\n",
              "      fill: #174EA6;\n",
              "    }\n",
              "\n",
              "    [theme=dark] .colab-df-convert {\n",
              "      background-color: #3B4455;\n",
              "      fill: #D2E3FC;\n",
              "    }\n",
              "\n",
              "    [theme=dark] .colab-df-convert:hover {\n",
              "      background-color: #434B5C;\n",
              "      box-shadow: 0px 1px 3px 1px rgba(0, 0, 0, 0.15);\n",
              "      filter: drop-shadow(0px 1px 2px rgba(0, 0, 0, 0.3));\n",
              "      fill: #FFFFFF;\n",
              "    }\n",
              "  </style>\n",
              "\n",
              "      <script>\n",
              "        const buttonEl =\n",
              "          document.querySelector('#df-812e056b-d23a-4129-948a-349332fabd24 button.colab-df-convert');\n",
              "        buttonEl.style.display =\n",
              "          google.colab.kernel.accessAllowed ? 'block' : 'none';\n",
              "\n",
              "        async function convertToInteractive(key) {\n",
              "          const element = document.querySelector('#df-812e056b-d23a-4129-948a-349332fabd24');\n",
              "          const dataTable =\n",
              "            await google.colab.kernel.invokeFunction('convertToInteractive',\n",
              "                                                     [key], {});\n",
              "          if (!dataTable) return;\n",
              "\n",
              "          const docLinkHtml = 'Like what you see? Visit the ' +\n",
              "            '<a target=\"_blank\" href=https://colab.research.google.com/notebooks/data_table.ipynb>data table notebook</a>'\n",
              "            + ' to learn more about interactive tables.';\n",
              "          element.innerHTML = '';\n",
              "          dataTable['output_type'] = 'display_data';\n",
              "          await google.colab.output.renderOutput(dataTable, element);\n",
              "          const docLink = document.createElement('div');\n",
              "          docLink.innerHTML = docLinkHtml;\n",
              "          element.appendChild(docLink);\n",
              "        }\n",
              "      </script>\n",
              "    </div>\n",
              "  </div>\n",
              "  "
            ]
          },
          "metadata": {},
          "execution_count": 5
        }
      ],
      "source": [
        "#Print the head of the data frame.\n",
        "df= pd.read_csv(\"https://raw.githubusercontent.com/datagrad/EDA-of-Bank-Telemarketing-Campaign/main/bank_marketing_updated_v1.csv?token=GHSAT0AAAAAABT3FJQMBRCCFK2Z5F4BT3TKYTTSUHA\")\n",
        "df.head()"
      ]
    },
    {
      "cell_type": "code",
      "source": [
        "#Print the head of the data without first 2 rows.\n",
        "df= pd.read_csv(\"https://raw.githubusercontent.com/datagrad/EDA-of-Bank-Telemarketing-Campaign/main/bank_marketing_updated_v1.csv?token=GHSAT0AAAAAABT3FJQMBRCCFK2Z5F4BT3TKYTTSUHA\",skiprows=2)\n",
        "df.head()"
      ],
      "metadata": {
        "colab": {
          "base_uri": "https://localhost:8080/",
          "height": 357
        },
        "id": "WWvMChZgpK57",
        "outputId": "8beb24ab-63cb-405e-9c9e-85a21699d526"
      },
      "execution_count": 6,
      "outputs": [
        {
          "output_type": "execute_result",
          "data": {
            "text/plain": [
              "   customerid   age  salary  balance  marital                  jobedu  \\\n",
              "0           1  58.0  100000     2143  married     management,tertiary   \n",
              "1           2  44.0   60000       29   single    technician,secondary   \n",
              "2           3  33.0  120000        2  married  entrepreneur,secondary   \n",
              "3           4  47.0   20000     1506  married     blue-collar,unknown   \n",
              "4           5  33.0       0        1   single         unknown,unknown   \n",
              "\n",
              "  targeted default housing loan  contact  day      month duration  campaign  \\\n",
              "0      yes      no     yes   no  unknown    5  may, 2017  261 sec         1   \n",
              "1      yes      no     yes   no  unknown    5  may, 2017  151 sec         1   \n",
              "2      yes      no     yes  yes  unknown    5  may, 2017   76 sec         1   \n",
              "3       no      no     yes   no  unknown    5  may, 2017   92 sec         1   \n",
              "4       no      no      no   no  unknown    5  may, 2017  198 sec         1   \n",
              "\n",
              "   pdays  previous poutcome response  \n",
              "0     -1         0  unknown       no  \n",
              "1     -1         0  unknown       no  \n",
              "2     -1         0  unknown       no  \n",
              "3     -1         0  unknown       no  \n",
              "4     -1         0  unknown       no  "
            ],
            "text/html": [
              "\n",
              "  <div id=\"df-7e3ba8de-f47d-4083-b412-5ce248d37553\">\n",
              "    <div class=\"colab-df-container\">\n",
              "      <div>\n",
              "<style scoped>\n",
              "    .dataframe tbody tr th:only-of-type {\n",
              "        vertical-align: middle;\n",
              "    }\n",
              "\n",
              "    .dataframe tbody tr th {\n",
              "        vertical-align: top;\n",
              "    }\n",
              "\n",
              "    .dataframe thead th {\n",
              "        text-align: right;\n",
              "    }\n",
              "</style>\n",
              "<table border=\"1\" class=\"dataframe\">\n",
              "  <thead>\n",
              "    <tr style=\"text-align: right;\">\n",
              "      <th></th>\n",
              "      <th>customerid</th>\n",
              "      <th>age</th>\n",
              "      <th>salary</th>\n",
              "      <th>balance</th>\n",
              "      <th>marital</th>\n",
              "      <th>jobedu</th>\n",
              "      <th>targeted</th>\n",
              "      <th>default</th>\n",
              "      <th>housing</th>\n",
              "      <th>loan</th>\n",
              "      <th>contact</th>\n",
              "      <th>day</th>\n",
              "      <th>month</th>\n",
              "      <th>duration</th>\n",
              "      <th>campaign</th>\n",
              "      <th>pdays</th>\n",
              "      <th>previous</th>\n",
              "      <th>poutcome</th>\n",
              "      <th>response</th>\n",
              "    </tr>\n",
              "  </thead>\n",
              "  <tbody>\n",
              "    <tr>\n",
              "      <th>0</th>\n",
              "      <td>1</td>\n",
              "      <td>58.0</td>\n",
              "      <td>100000</td>\n",
              "      <td>2143</td>\n",
              "      <td>married</td>\n",
              "      <td>management,tertiary</td>\n",
              "      <td>yes</td>\n",
              "      <td>no</td>\n",
              "      <td>yes</td>\n",
              "      <td>no</td>\n",
              "      <td>unknown</td>\n",
              "      <td>5</td>\n",
              "      <td>may, 2017</td>\n",
              "      <td>261 sec</td>\n",
              "      <td>1</td>\n",
              "      <td>-1</td>\n",
              "      <td>0</td>\n",
              "      <td>unknown</td>\n",
              "      <td>no</td>\n",
              "    </tr>\n",
              "    <tr>\n",
              "      <th>1</th>\n",
              "      <td>2</td>\n",
              "      <td>44.0</td>\n",
              "      <td>60000</td>\n",
              "      <td>29</td>\n",
              "      <td>single</td>\n",
              "      <td>technician,secondary</td>\n",
              "      <td>yes</td>\n",
              "      <td>no</td>\n",
              "      <td>yes</td>\n",
              "      <td>no</td>\n",
              "      <td>unknown</td>\n",
              "      <td>5</td>\n",
              "      <td>may, 2017</td>\n",
              "      <td>151 sec</td>\n",
              "      <td>1</td>\n",
              "      <td>-1</td>\n",
              "      <td>0</td>\n",
              "      <td>unknown</td>\n",
              "      <td>no</td>\n",
              "    </tr>\n",
              "    <tr>\n",
              "      <th>2</th>\n",
              "      <td>3</td>\n",
              "      <td>33.0</td>\n",
              "      <td>120000</td>\n",
              "      <td>2</td>\n",
              "      <td>married</td>\n",
              "      <td>entrepreneur,secondary</td>\n",
              "      <td>yes</td>\n",
              "      <td>no</td>\n",
              "      <td>yes</td>\n",
              "      <td>yes</td>\n",
              "      <td>unknown</td>\n",
              "      <td>5</td>\n",
              "      <td>may, 2017</td>\n",
              "      <td>76 sec</td>\n",
              "      <td>1</td>\n",
              "      <td>-1</td>\n",
              "      <td>0</td>\n",
              "      <td>unknown</td>\n",
              "      <td>no</td>\n",
              "    </tr>\n",
              "    <tr>\n",
              "      <th>3</th>\n",
              "      <td>4</td>\n",
              "      <td>47.0</td>\n",
              "      <td>20000</td>\n",
              "      <td>1506</td>\n",
              "      <td>married</td>\n",
              "      <td>blue-collar,unknown</td>\n",
              "      <td>no</td>\n",
              "      <td>no</td>\n",
              "      <td>yes</td>\n",
              "      <td>no</td>\n",
              "      <td>unknown</td>\n",
              "      <td>5</td>\n",
              "      <td>may, 2017</td>\n",
              "      <td>92 sec</td>\n",
              "      <td>1</td>\n",
              "      <td>-1</td>\n",
              "      <td>0</td>\n",
              "      <td>unknown</td>\n",
              "      <td>no</td>\n",
              "    </tr>\n",
              "    <tr>\n",
              "      <th>4</th>\n",
              "      <td>5</td>\n",
              "      <td>33.0</td>\n",
              "      <td>0</td>\n",
              "      <td>1</td>\n",
              "      <td>single</td>\n",
              "      <td>unknown,unknown</td>\n",
              "      <td>no</td>\n",
              "      <td>no</td>\n",
              "      <td>no</td>\n",
              "      <td>no</td>\n",
              "      <td>unknown</td>\n",
              "      <td>5</td>\n",
              "      <td>may, 2017</td>\n",
              "      <td>198 sec</td>\n",
              "      <td>1</td>\n",
              "      <td>-1</td>\n",
              "      <td>0</td>\n",
              "      <td>unknown</td>\n",
              "      <td>no</td>\n",
              "    </tr>\n",
              "  </tbody>\n",
              "</table>\n",
              "</div>\n",
              "      <button class=\"colab-df-convert\" onclick=\"convertToInteractive('df-7e3ba8de-f47d-4083-b412-5ce248d37553')\"\n",
              "              title=\"Convert this dataframe to an interactive table.\"\n",
              "              style=\"display:none;\">\n",
              "        \n",
              "  <svg xmlns=\"http://www.w3.org/2000/svg\" height=\"24px\"viewBox=\"0 0 24 24\"\n",
              "       width=\"24px\">\n",
              "    <path d=\"M0 0h24v24H0V0z\" fill=\"none\"/>\n",
              "    <path d=\"M18.56 5.44l.94 2.06.94-2.06 2.06-.94-2.06-.94-.94-2.06-.94 2.06-2.06.94zm-11 1L8.5 8.5l.94-2.06 2.06-.94-2.06-.94L8.5 2.5l-.94 2.06-2.06.94zm10 10l.94 2.06.94-2.06 2.06-.94-2.06-.94-.94-2.06-.94 2.06-2.06.94z\"/><path d=\"M17.41 7.96l-1.37-1.37c-.4-.4-.92-.59-1.43-.59-.52 0-1.04.2-1.43.59L10.3 9.45l-7.72 7.72c-.78.78-.78 2.05 0 2.83L4 21.41c.39.39.9.59 1.41.59.51 0 1.02-.2 1.41-.59l7.78-7.78 2.81-2.81c.8-.78.8-2.07 0-2.86zM5.41 20L4 18.59l7.72-7.72 1.47 1.35L5.41 20z\"/>\n",
              "  </svg>\n",
              "      </button>\n",
              "      \n",
              "  <style>\n",
              "    .colab-df-container {\n",
              "      display:flex;\n",
              "      flex-wrap:wrap;\n",
              "      gap: 12px;\n",
              "    }\n",
              "\n",
              "    .colab-df-convert {\n",
              "      background-color: #E8F0FE;\n",
              "      border: none;\n",
              "      border-radius: 50%;\n",
              "      cursor: pointer;\n",
              "      display: none;\n",
              "      fill: #1967D2;\n",
              "      height: 32px;\n",
              "      padding: 0 0 0 0;\n",
              "      width: 32px;\n",
              "    }\n",
              "\n",
              "    .colab-df-convert:hover {\n",
              "      background-color: #E2EBFA;\n",
              "      box-shadow: 0px 1px 2px rgba(60, 64, 67, 0.3), 0px 1px 3px 1px rgba(60, 64, 67, 0.15);\n",
              "      fill: #174EA6;\n",
              "    }\n",
              "\n",
              "    [theme=dark] .colab-df-convert {\n",
              "      background-color: #3B4455;\n",
              "      fill: #D2E3FC;\n",
              "    }\n",
              "\n",
              "    [theme=dark] .colab-df-convert:hover {\n",
              "      background-color: #434B5C;\n",
              "      box-shadow: 0px 1px 3px 1px rgba(0, 0, 0, 0.15);\n",
              "      filter: drop-shadow(0px 1px 2px rgba(0, 0, 0, 0.3));\n",
              "      fill: #FFFFFF;\n",
              "    }\n",
              "  </style>\n",
              "\n",
              "      <script>\n",
              "        const buttonEl =\n",
              "          document.querySelector('#df-7e3ba8de-f47d-4083-b412-5ce248d37553 button.colab-df-convert');\n",
              "        buttonEl.style.display =\n",
              "          google.colab.kernel.accessAllowed ? 'block' : 'none';\n",
              "\n",
              "        async function convertToInteractive(key) {\n",
              "          const element = document.querySelector('#df-7e3ba8de-f47d-4083-b412-5ce248d37553');\n",
              "          const dataTable =\n",
              "            await google.colab.kernel.invokeFunction('convertToInteractive',\n",
              "                                                     [key], {});\n",
              "          if (!dataTable) return;\n",
              "\n",
              "          const docLinkHtml = 'Like what you see? Visit the ' +\n",
              "            '<a target=\"_blank\" href=https://colab.research.google.com/notebooks/data_table.ipynb>data table notebook</a>'\n",
              "            + ' to learn more about interactive tables.';\n",
              "          element.innerHTML = '';\n",
              "          dataTable['output_type'] = 'display_data';\n",
              "          await google.colab.output.renderOutput(dataTable, element);\n",
              "          const docLink = document.createElement('div');\n",
              "          docLink.innerHTML = docLinkHtml;\n",
              "          element.appendChild(docLink);\n",
              "        }\n",
              "      </script>\n",
              "    </div>\n",
              "  </div>\n",
              "  "
            ]
          },
          "metadata": {},
          "execution_count": 6
        }
      ]
    },
    {
      "cell_type": "markdown",
      "source": [
        "##### 2. Head & Tail Check"
      ],
      "metadata": {
        "id": "xvhdF8o1pWfj"
      }
    },
    {
      "cell_type": "code",
      "source": [
        "df.head().append(df.tail())"
      ],
      "metadata": {
        "colab": {
          "base_uri": "https://localhost:8080/",
          "height": 600
        },
        "id": "HEdUgSE2pWEc",
        "outputId": "c031d5f6-721f-460a-a4a4-4e32c71b00fa"
      },
      "execution_count": 7,
      "outputs": [
        {
          "output_type": "execute_result",
          "data": {
            "text/plain": [
              "       customerid   age  salary  balance   marital                  jobedu  \\\n",
              "0               1  58.0  100000     2143   married     management,tertiary   \n",
              "1               2  44.0   60000       29    single    technician,secondary   \n",
              "2               3  33.0  120000        2   married  entrepreneur,secondary   \n",
              "3               4  47.0   20000     1506   married     blue-collar,unknown   \n",
              "4               5  33.0       0        1    single         unknown,unknown   \n",
              "45206       45207  51.0   60000      825   married     technician,tertiary   \n",
              "45207       45208  71.0   55000     1729  divorced         retired,primary   \n",
              "45208       45209  72.0   55000     5715   married       retired,secondary   \n",
              "45209       45210  57.0   20000      668   married   blue-collar,secondary   \n",
              "45210       45211  37.0  120000     2971   married  entrepreneur,secondary   \n",
              "\n",
              "      targeted default housing loan    contact  day      month  \\\n",
              "0          yes      no     yes   no    unknown    5  may, 2017   \n",
              "1          yes      no     yes   no    unknown    5  may, 2017   \n",
              "2          yes      no     yes  yes    unknown    5  may, 2017   \n",
              "3           no      no     yes   no    unknown    5  may, 2017   \n",
              "4           no      no      no   no    unknown    5  may, 2017   \n",
              "45206      yes      no      no   no   cellular   17  nov, 2017   \n",
              "45207      yes      no      no   no   cellular   17  nov, 2017   \n",
              "45208      yes      no      no   no   cellular   17  nov, 2017   \n",
              "45209      yes      no      no   no  telephone   17  nov, 2017   \n",
              "45210      yes      no      no   no   cellular   17  nov, 2017   \n",
              "\n",
              "                   duration  campaign  pdays  previous poutcome response  \n",
              "0                   261 sec         1     -1         0  unknown       no  \n",
              "1                   151 sec         1     -1         0  unknown       no  \n",
              "2                    76 sec         1     -1         0  unknown       no  \n",
              "3                    92 sec         1     -1         0  unknown       no  \n",
              "4                   198 sec         1     -1         0  unknown       no  \n",
              "45206  16.2833333333333 min         3     -1         0  unknown      yes  \n",
              "45207               7.6 min         2     -1         0  unknown      yes  \n",
              "45208  18.7833333333333 min         5    184         3  success      yes  \n",
              "45209  8.46666666666667 min         4     -1         0  unknown       no  \n",
              "45210  6.01666666666667 min         2    188        11    other       no  "
            ],
            "text/html": [
              "\n",
              "  <div id=\"df-0b70b6cd-2520-43ec-8ac6-b49a695c2ed8\">\n",
              "    <div class=\"colab-df-container\">\n",
              "      <div>\n",
              "<style scoped>\n",
              "    .dataframe tbody tr th:only-of-type {\n",
              "        vertical-align: middle;\n",
              "    }\n",
              "\n",
              "    .dataframe tbody tr th {\n",
              "        vertical-align: top;\n",
              "    }\n",
              "\n",
              "    .dataframe thead th {\n",
              "        text-align: right;\n",
              "    }\n",
              "</style>\n",
              "<table border=\"1\" class=\"dataframe\">\n",
              "  <thead>\n",
              "    <tr style=\"text-align: right;\">\n",
              "      <th></th>\n",
              "      <th>customerid</th>\n",
              "      <th>age</th>\n",
              "      <th>salary</th>\n",
              "      <th>balance</th>\n",
              "      <th>marital</th>\n",
              "      <th>jobedu</th>\n",
              "      <th>targeted</th>\n",
              "      <th>default</th>\n",
              "      <th>housing</th>\n",
              "      <th>loan</th>\n",
              "      <th>contact</th>\n",
              "      <th>day</th>\n",
              "      <th>month</th>\n",
              "      <th>duration</th>\n",
              "      <th>campaign</th>\n",
              "      <th>pdays</th>\n",
              "      <th>previous</th>\n",
              "      <th>poutcome</th>\n",
              "      <th>response</th>\n",
              "    </tr>\n",
              "  </thead>\n",
              "  <tbody>\n",
              "    <tr>\n",
              "      <th>0</th>\n",
              "      <td>1</td>\n",
              "      <td>58.0</td>\n",
              "      <td>100000</td>\n",
              "      <td>2143</td>\n",
              "      <td>married</td>\n",
              "      <td>management,tertiary</td>\n",
              "      <td>yes</td>\n",
              "      <td>no</td>\n",
              "      <td>yes</td>\n",
              "      <td>no</td>\n",
              "      <td>unknown</td>\n",
              "      <td>5</td>\n",
              "      <td>may, 2017</td>\n",
              "      <td>261 sec</td>\n",
              "      <td>1</td>\n",
              "      <td>-1</td>\n",
              "      <td>0</td>\n",
              "      <td>unknown</td>\n",
              "      <td>no</td>\n",
              "    </tr>\n",
              "    <tr>\n",
              "      <th>1</th>\n",
              "      <td>2</td>\n",
              "      <td>44.0</td>\n",
              "      <td>60000</td>\n",
              "      <td>29</td>\n",
              "      <td>single</td>\n",
              "      <td>technician,secondary</td>\n",
              "      <td>yes</td>\n",
              "      <td>no</td>\n",
              "      <td>yes</td>\n",
              "      <td>no</td>\n",
              "      <td>unknown</td>\n",
              "      <td>5</td>\n",
              "      <td>may, 2017</td>\n",
              "      <td>151 sec</td>\n",
              "      <td>1</td>\n",
              "      <td>-1</td>\n",
              "      <td>0</td>\n",
              "      <td>unknown</td>\n",
              "      <td>no</td>\n",
              "    </tr>\n",
              "    <tr>\n",
              "      <th>2</th>\n",
              "      <td>3</td>\n",
              "      <td>33.0</td>\n",
              "      <td>120000</td>\n",
              "      <td>2</td>\n",
              "      <td>married</td>\n",
              "      <td>entrepreneur,secondary</td>\n",
              "      <td>yes</td>\n",
              "      <td>no</td>\n",
              "      <td>yes</td>\n",
              "      <td>yes</td>\n",
              "      <td>unknown</td>\n",
              "      <td>5</td>\n",
              "      <td>may, 2017</td>\n",
              "      <td>76 sec</td>\n",
              "      <td>1</td>\n",
              "      <td>-1</td>\n",
              "      <td>0</td>\n",
              "      <td>unknown</td>\n",
              "      <td>no</td>\n",
              "    </tr>\n",
              "    <tr>\n",
              "      <th>3</th>\n",
              "      <td>4</td>\n",
              "      <td>47.0</td>\n",
              "      <td>20000</td>\n",
              "      <td>1506</td>\n",
              "      <td>married</td>\n",
              "      <td>blue-collar,unknown</td>\n",
              "      <td>no</td>\n",
              "      <td>no</td>\n",
              "      <td>yes</td>\n",
              "      <td>no</td>\n",
              "      <td>unknown</td>\n",
              "      <td>5</td>\n",
              "      <td>may, 2017</td>\n",
              "      <td>92 sec</td>\n",
              "      <td>1</td>\n",
              "      <td>-1</td>\n",
              "      <td>0</td>\n",
              "      <td>unknown</td>\n",
              "      <td>no</td>\n",
              "    </tr>\n",
              "    <tr>\n",
              "      <th>4</th>\n",
              "      <td>5</td>\n",
              "      <td>33.0</td>\n",
              "      <td>0</td>\n",
              "      <td>1</td>\n",
              "      <td>single</td>\n",
              "      <td>unknown,unknown</td>\n",
              "      <td>no</td>\n",
              "      <td>no</td>\n",
              "      <td>no</td>\n",
              "      <td>no</td>\n",
              "      <td>unknown</td>\n",
              "      <td>5</td>\n",
              "      <td>may, 2017</td>\n",
              "      <td>198 sec</td>\n",
              "      <td>1</td>\n",
              "      <td>-1</td>\n",
              "      <td>0</td>\n",
              "      <td>unknown</td>\n",
              "      <td>no</td>\n",
              "    </tr>\n",
              "    <tr>\n",
              "      <th>45206</th>\n",
              "      <td>45207</td>\n",
              "      <td>51.0</td>\n",
              "      <td>60000</td>\n",
              "      <td>825</td>\n",
              "      <td>married</td>\n",
              "      <td>technician,tertiary</td>\n",
              "      <td>yes</td>\n",
              "      <td>no</td>\n",
              "      <td>no</td>\n",
              "      <td>no</td>\n",
              "      <td>cellular</td>\n",
              "      <td>17</td>\n",
              "      <td>nov, 2017</td>\n",
              "      <td>16.2833333333333 min</td>\n",
              "      <td>3</td>\n",
              "      <td>-1</td>\n",
              "      <td>0</td>\n",
              "      <td>unknown</td>\n",
              "      <td>yes</td>\n",
              "    </tr>\n",
              "    <tr>\n",
              "      <th>45207</th>\n",
              "      <td>45208</td>\n",
              "      <td>71.0</td>\n",
              "      <td>55000</td>\n",
              "      <td>1729</td>\n",
              "      <td>divorced</td>\n",
              "      <td>retired,primary</td>\n",
              "      <td>yes</td>\n",
              "      <td>no</td>\n",
              "      <td>no</td>\n",
              "      <td>no</td>\n",
              "      <td>cellular</td>\n",
              "      <td>17</td>\n",
              "      <td>nov, 2017</td>\n",
              "      <td>7.6 min</td>\n",
              "      <td>2</td>\n",
              "      <td>-1</td>\n",
              "      <td>0</td>\n",
              "      <td>unknown</td>\n",
              "      <td>yes</td>\n",
              "    </tr>\n",
              "    <tr>\n",
              "      <th>45208</th>\n",
              "      <td>45209</td>\n",
              "      <td>72.0</td>\n",
              "      <td>55000</td>\n",
              "      <td>5715</td>\n",
              "      <td>married</td>\n",
              "      <td>retired,secondary</td>\n",
              "      <td>yes</td>\n",
              "      <td>no</td>\n",
              "      <td>no</td>\n",
              "      <td>no</td>\n",
              "      <td>cellular</td>\n",
              "      <td>17</td>\n",
              "      <td>nov, 2017</td>\n",
              "      <td>18.7833333333333 min</td>\n",
              "      <td>5</td>\n",
              "      <td>184</td>\n",
              "      <td>3</td>\n",
              "      <td>success</td>\n",
              "      <td>yes</td>\n",
              "    </tr>\n",
              "    <tr>\n",
              "      <th>45209</th>\n",
              "      <td>45210</td>\n",
              "      <td>57.0</td>\n",
              "      <td>20000</td>\n",
              "      <td>668</td>\n",
              "      <td>married</td>\n",
              "      <td>blue-collar,secondary</td>\n",
              "      <td>yes</td>\n",
              "      <td>no</td>\n",
              "      <td>no</td>\n",
              "      <td>no</td>\n",
              "      <td>telephone</td>\n",
              "      <td>17</td>\n",
              "      <td>nov, 2017</td>\n",
              "      <td>8.46666666666667 min</td>\n",
              "      <td>4</td>\n",
              "      <td>-1</td>\n",
              "      <td>0</td>\n",
              "      <td>unknown</td>\n",
              "      <td>no</td>\n",
              "    </tr>\n",
              "    <tr>\n",
              "      <th>45210</th>\n",
              "      <td>45211</td>\n",
              "      <td>37.0</td>\n",
              "      <td>120000</td>\n",
              "      <td>2971</td>\n",
              "      <td>married</td>\n",
              "      <td>entrepreneur,secondary</td>\n",
              "      <td>yes</td>\n",
              "      <td>no</td>\n",
              "      <td>no</td>\n",
              "      <td>no</td>\n",
              "      <td>cellular</td>\n",
              "      <td>17</td>\n",
              "      <td>nov, 2017</td>\n",
              "      <td>6.01666666666667 min</td>\n",
              "      <td>2</td>\n",
              "      <td>188</td>\n",
              "      <td>11</td>\n",
              "      <td>other</td>\n",
              "      <td>no</td>\n",
              "    </tr>\n",
              "  </tbody>\n",
              "</table>\n",
              "</div>\n",
              "      <button class=\"colab-df-convert\" onclick=\"convertToInteractive('df-0b70b6cd-2520-43ec-8ac6-b49a695c2ed8')\"\n",
              "              title=\"Convert this dataframe to an interactive table.\"\n",
              "              style=\"display:none;\">\n",
              "        \n",
              "  <svg xmlns=\"http://www.w3.org/2000/svg\" height=\"24px\"viewBox=\"0 0 24 24\"\n",
              "       width=\"24px\">\n",
              "    <path d=\"M0 0h24v24H0V0z\" fill=\"none\"/>\n",
              "    <path d=\"M18.56 5.44l.94 2.06.94-2.06 2.06-.94-2.06-.94-.94-2.06-.94 2.06-2.06.94zm-11 1L8.5 8.5l.94-2.06 2.06-.94-2.06-.94L8.5 2.5l-.94 2.06-2.06.94zm10 10l.94 2.06.94-2.06 2.06-.94-2.06-.94-.94-2.06-.94 2.06-2.06.94z\"/><path d=\"M17.41 7.96l-1.37-1.37c-.4-.4-.92-.59-1.43-.59-.52 0-1.04.2-1.43.59L10.3 9.45l-7.72 7.72c-.78.78-.78 2.05 0 2.83L4 21.41c.39.39.9.59 1.41.59.51 0 1.02-.2 1.41-.59l7.78-7.78 2.81-2.81c.8-.78.8-2.07 0-2.86zM5.41 20L4 18.59l7.72-7.72 1.47 1.35L5.41 20z\"/>\n",
              "  </svg>\n",
              "      </button>\n",
              "      \n",
              "  <style>\n",
              "    .colab-df-container {\n",
              "      display:flex;\n",
              "      flex-wrap:wrap;\n",
              "      gap: 12px;\n",
              "    }\n",
              "\n",
              "    .colab-df-convert {\n",
              "      background-color: #E8F0FE;\n",
              "      border: none;\n",
              "      border-radius: 50%;\n",
              "      cursor: pointer;\n",
              "      display: none;\n",
              "      fill: #1967D2;\n",
              "      height: 32px;\n",
              "      padding: 0 0 0 0;\n",
              "      width: 32px;\n",
              "    }\n",
              "\n",
              "    .colab-df-convert:hover {\n",
              "      background-color: #E2EBFA;\n",
              "      box-shadow: 0px 1px 2px rgba(60, 64, 67, 0.3), 0px 1px 3px 1px rgba(60, 64, 67, 0.15);\n",
              "      fill: #174EA6;\n",
              "    }\n",
              "\n",
              "    [theme=dark] .colab-df-convert {\n",
              "      background-color: #3B4455;\n",
              "      fill: #D2E3FC;\n",
              "    }\n",
              "\n",
              "    [theme=dark] .colab-df-convert:hover {\n",
              "      background-color: #434B5C;\n",
              "      box-shadow: 0px 1px 3px 1px rgba(0, 0, 0, 0.15);\n",
              "      filter: drop-shadow(0px 1px 2px rgba(0, 0, 0, 0.3));\n",
              "      fill: #FFFFFF;\n",
              "    }\n",
              "  </style>\n",
              "\n",
              "      <script>\n",
              "        const buttonEl =\n",
              "          document.querySelector('#df-0b70b6cd-2520-43ec-8ac6-b49a695c2ed8 button.colab-df-convert');\n",
              "        buttonEl.style.display =\n",
              "          google.colab.kernel.accessAllowed ? 'block' : 'none';\n",
              "\n",
              "        async function convertToInteractive(key) {\n",
              "          const element = document.querySelector('#df-0b70b6cd-2520-43ec-8ac6-b49a695c2ed8');\n",
              "          const dataTable =\n",
              "            await google.colab.kernel.invokeFunction('convertToInteractive',\n",
              "                                                     [key], {});\n",
              "          if (!dataTable) return;\n",
              "\n",
              "          const docLinkHtml = 'Like what you see? Visit the ' +\n",
              "            '<a target=\"_blank\" href=https://colab.research.google.com/notebooks/data_table.ipynb>data table notebook</a>'\n",
              "            + ' to learn more about interactive tables.';\n",
              "          element.innerHTML = '';\n",
              "          dataTable['output_type'] = 'display_data';\n",
              "          await google.colab.output.renderOutput(dataTable, element);\n",
              "          const docLink = document.createElement('div');\n",
              "          docLink.innerHTML = docLinkHtml;\n",
              "          element.appendChild(docLink);\n",
              "        }\n",
              "      </script>\n",
              "    </div>\n",
              "  </div>\n",
              "  "
            ]
          },
          "metadata": {},
          "execution_count": 7
        }
      ]
    },
    {
      "cell_type": "code",
      "source": [
        "# Check List of all Columns:\n",
        "\n",
        "df.columns"
      ],
      "metadata": {
        "colab": {
          "base_uri": "https://localhost:8080/"
        },
        "id": "dlqulTGmpqbl",
        "outputId": "68e8c308-1432-40a8-e3fc-029a8cf2b0d1"
      },
      "execution_count": 8,
      "outputs": [
        {
          "output_type": "execute_result",
          "data": {
            "text/plain": [
              "Index(['customerid', 'age', 'salary', 'balance', 'marital', 'jobedu',\n",
              "       'targeted', 'default', 'housing', 'loan', 'contact', 'day', 'month',\n",
              "       'duration', 'campaign', 'pdays', 'previous', 'poutcome', 'response'],\n",
              "      dtype='object')"
            ]
          },
          "metadata": {},
          "execution_count": 8
        }
      ]
    },
    {
      "cell_type": "code",
      "source": [
        "df.shape"
      ],
      "metadata": {
        "colab": {
          "base_uri": "https://localhost:8080/"
        },
        "id": "bEsP7Sz4p0R0",
        "outputId": "b1dc23c1-55cd-4e2c-899c-b816bd47f7e8"
      },
      "execution_count": 9,
      "outputs": [
        {
          "output_type": "execute_result",
          "data": {
            "text/plain": [
              "(45211, 19)"
            ]
          },
          "metadata": {},
          "execution_count": 9
        }
      ]
    },
    {
      "cell_type": "code",
      "source": [
        "df.info()"
      ],
      "metadata": {
        "colab": {
          "base_uri": "https://localhost:8080/"
        },
        "id": "OBKXcB3rp4gM",
        "outputId": "f3ab4225-e9c7-4b7a-9401-e7d3a464f4ab"
      },
      "execution_count": 124,
      "outputs": [
        {
          "output_type": "stream",
          "name": "stdout",
          "text": [
            "<class 'pandas.core.frame.DataFrame'>\n",
            "Int64Index: 45161 entries, 0 to 45210\n",
            "Data columns (total 20 columns):\n",
            " #   Column     Non-Null Count  Dtype  \n",
            "---  ------     --------------  -----  \n",
            " 0   age        45161 non-null  int64  \n",
            " 1   salary     45161 non-null  int64  \n",
            " 2   balance    45161 non-null  int64  \n",
            " 3   marital    45161 non-null  object \n",
            " 4   targeted   45161 non-null  object \n",
            " 5   default    45161 non-null  object \n",
            " 6   housing    45161 non-null  object \n",
            " 7   loan       45161 non-null  object \n",
            " 8   contact    45161 non-null  object \n",
            " 9   day        45161 non-null  int64  \n",
            " 10  month      45161 non-null  object \n",
            " 11  duration   45161 non-null  float64\n",
            " 12  campaign   45161 non-null  int64  \n",
            " 13  pdays      8246 non-null   float64\n",
            " 14  previous   45161 non-null  int64  \n",
            " 15  poutcome   45161 non-null  object \n",
            " 16  response   45161 non-null  object \n",
            " 17  job        45161 non-null  object \n",
            " 18  education  45161 non-null  object \n",
            " 19  year       45161 non-null  object \n",
            "dtypes: float64(2), int64(6), object(12)\n",
            "memory usage: 7.2+ MB\n"
          ]
        }
      ]
    },
    {
      "cell_type": "code",
      "source": [
        "df.isnull().sum()"
      ],
      "metadata": {
        "colab": {
          "base_uri": "https://localhost:8080/"
        },
        "id": "8TyiQq61rFtR",
        "outputId": "942fcd4d-9570-44af-c268-20e803e92f8d"
      },
      "execution_count": 11,
      "outputs": [
        {
          "output_type": "execute_result",
          "data": {
            "text/plain": [
              "customerid     0\n",
              "age           20\n",
              "salary         0\n",
              "balance        0\n",
              "marital        0\n",
              "jobedu         0\n",
              "targeted       0\n",
              "default        0\n",
              "housing        0\n",
              "loan           0\n",
              "contact        0\n",
              "day            0\n",
              "month         50\n",
              "duration       0\n",
              "campaign       0\n",
              "pdays          0\n",
              "previous       0\n",
              "poutcome       0\n",
              "response      30\n",
              "dtype: int64"
            ]
          },
          "metadata": {},
          "execution_count": 11
        }
      ]
    },
    {
      "cell_type": "code",
      "source": [
        "percent = 100*(df.isnull().sum())/int(df.shape[0])\n",
        "percent.sort_values(ascending=False)"
      ],
      "metadata": {
        "colab": {
          "base_uri": "https://localhost:8080/"
        },
        "id": "JLAax3-qsF7J",
        "outputId": "52cf9744-d0ef-4829-9be8-1e4dc2286f7d"
      },
      "execution_count": 12,
      "outputs": [
        {
          "output_type": "execute_result",
          "data": {
            "text/plain": [
              "month         0.110593\n",
              "response      0.066356\n",
              "age           0.044237\n",
              "contact       0.000000\n",
              "poutcome      0.000000\n",
              "previous      0.000000\n",
              "pdays         0.000000\n",
              "campaign      0.000000\n",
              "duration      0.000000\n",
              "day           0.000000\n",
              "customerid    0.000000\n",
              "housing       0.000000\n",
              "default       0.000000\n",
              "targeted      0.000000\n",
              "jobedu        0.000000\n",
              "marital       0.000000\n",
              "balance       0.000000\n",
              "salary        0.000000\n",
              "loan          0.000000\n",
              "dtype: float64"
            ]
          },
          "metadata": {},
          "execution_count": 12
        }
      ]
    },
    {
      "cell_type": "code",
      "source": [
        "# Number of Rows with Null Value Count\n",
        "\n",
        "df.isnull().any(axis = 1).sum()\n",
        "\n",
        "# SO there are 100 rows all together, where we have a missing value!"
      ],
      "metadata": {
        "colab": {
          "base_uri": "https://localhost:8080/"
        },
        "id": "z1obR5_2sYdN",
        "outputId": "ab321a8b-789b-4798-f349-abda4b7d5db2"
      },
      "execution_count": 13,
      "outputs": [
        {
          "output_type": "execute_result",
          "data": {
            "text/plain": [
              "100"
            ]
          },
          "metadata": {},
          "execution_count": 13
        }
      ]
    },
    {
      "cell_type": "code",
      "source": [
        "# Analyzing the rows with null values\n",
        "\n",
        "df.loc[df.isnull().any(axis=1)]\n"
      ],
      "metadata": {
        "colab": {
          "base_uri": "https://localhost:8080/",
          "height": 574
        },
        "id": "MmrqCpKNtVfo",
        "outputId": "e36a8527-bf6c-4dd5-fddd-6a162f4e3968"
      },
      "execution_count": 14,
      "outputs": [
        {
          "output_type": "execute_result",
          "data": {
            "text/plain": [
              "       customerid   age  salary  balance   marital                jobedu  \\\n",
              "161           162   NaN   60000       47    single   technician,tertiary   \n",
              "189           190  31.0  100000        0    single   management,tertiary   \n",
              "769           770  39.0   20000      245   married   blue-collar,primary   \n",
              "860           861  33.0   55000      165   married     retired,secondary   \n",
              "1016         1017  37.0   20000      139  divorced   blue-collar,primary   \n",
              "...           ...   ...     ...      ...       ...                   ...   \n",
              "43323       43324  54.0   70000        0  divorced    services,secondary   \n",
              "43573       43574   NaN   16000      962   married   housemaid,secondary   \n",
              "44131       44132  27.0  100000      843    single  management,secondary   \n",
              "44732       44733  23.0    4000      508    single      student,tertiary   \n",
              "44974       44975   NaN  100000      839   married   management,tertiary   \n",
              "\n",
              "      targeted default housing loan   contact  day      month  \\\n",
              "161         no      no     yes   no   unknown    5  may, 2017   \n",
              "189         no      no     yes   no   unknown    5        NaN   \n",
              "769        yes      no     yes   no   unknown    7        NaN   \n",
              "860        yes      no      no   no   unknown    7        NaN   \n",
              "1016       yes      no     yes   no   unknown    7  may, 2017   \n",
              "...        ...     ...     ...  ...       ...  ...        ...   \n",
              "43323      yes      no      no   no  cellular   18        NaN   \n",
              "43573      yes      no     yes   no  cellular   28  apr, 2017   \n",
              "44131      yes      no      no   no  cellular   12        NaN   \n",
              "44732       no      no      no   no  cellular    8        NaN   \n",
              "44974      yes      no      no  yes  cellular   11  oct, 2017   \n",
              "\n",
              "                   duration  campaign  pdays  previous poutcome response  \n",
              "161                 181 sec         1     -1         0  unknown       no  \n",
              "189                 562 sec         1     -1         0  unknown       no  \n",
              "769                 148 sec         3     -1         0  unknown       no  \n",
              "860                 111 sec         1     -1         0  unknown       no  \n",
              "1016                 71 sec         1     -1         0  unknown      NaN  \n",
              "...                     ...       ...    ...       ...      ...      ...  \n",
              "43323  6.03333333333333 min         1    290         3  success      yes  \n",
              "43573  10.3833333333333 min         1    181         3  success      yes  \n",
              "44131              2.05 min         2    185         1  success       no  \n",
              "44732               3.5 min         1     92         1  failure       no  \n",
              "44974  6.08333333333333 min         2    774        11  failure       no  \n",
              "\n",
              "[100 rows x 19 columns]"
            ],
            "text/html": [
              "\n",
              "  <div id=\"df-ca504434-380d-46fe-9d05-b7238aaeda0b\">\n",
              "    <div class=\"colab-df-container\">\n",
              "      <div>\n",
              "<style scoped>\n",
              "    .dataframe tbody tr th:only-of-type {\n",
              "        vertical-align: middle;\n",
              "    }\n",
              "\n",
              "    .dataframe tbody tr th {\n",
              "        vertical-align: top;\n",
              "    }\n",
              "\n",
              "    .dataframe thead th {\n",
              "        text-align: right;\n",
              "    }\n",
              "</style>\n",
              "<table border=\"1\" class=\"dataframe\">\n",
              "  <thead>\n",
              "    <tr style=\"text-align: right;\">\n",
              "      <th></th>\n",
              "      <th>customerid</th>\n",
              "      <th>age</th>\n",
              "      <th>salary</th>\n",
              "      <th>balance</th>\n",
              "      <th>marital</th>\n",
              "      <th>jobedu</th>\n",
              "      <th>targeted</th>\n",
              "      <th>default</th>\n",
              "      <th>housing</th>\n",
              "      <th>loan</th>\n",
              "      <th>contact</th>\n",
              "      <th>day</th>\n",
              "      <th>month</th>\n",
              "      <th>duration</th>\n",
              "      <th>campaign</th>\n",
              "      <th>pdays</th>\n",
              "      <th>previous</th>\n",
              "      <th>poutcome</th>\n",
              "      <th>response</th>\n",
              "    </tr>\n",
              "  </thead>\n",
              "  <tbody>\n",
              "    <tr>\n",
              "      <th>161</th>\n",
              "      <td>162</td>\n",
              "      <td>NaN</td>\n",
              "      <td>60000</td>\n",
              "      <td>47</td>\n",
              "      <td>single</td>\n",
              "      <td>technician,tertiary</td>\n",
              "      <td>no</td>\n",
              "      <td>no</td>\n",
              "      <td>yes</td>\n",
              "      <td>no</td>\n",
              "      <td>unknown</td>\n",
              "      <td>5</td>\n",
              "      <td>may, 2017</td>\n",
              "      <td>181 sec</td>\n",
              "      <td>1</td>\n",
              "      <td>-1</td>\n",
              "      <td>0</td>\n",
              "      <td>unknown</td>\n",
              "      <td>no</td>\n",
              "    </tr>\n",
              "    <tr>\n",
              "      <th>189</th>\n",
              "      <td>190</td>\n",
              "      <td>31.0</td>\n",
              "      <td>100000</td>\n",
              "      <td>0</td>\n",
              "      <td>single</td>\n",
              "      <td>management,tertiary</td>\n",
              "      <td>no</td>\n",
              "      <td>no</td>\n",
              "      <td>yes</td>\n",
              "      <td>no</td>\n",
              "      <td>unknown</td>\n",
              "      <td>5</td>\n",
              "      <td>NaN</td>\n",
              "      <td>562 sec</td>\n",
              "      <td>1</td>\n",
              "      <td>-1</td>\n",
              "      <td>0</td>\n",
              "      <td>unknown</td>\n",
              "      <td>no</td>\n",
              "    </tr>\n",
              "    <tr>\n",
              "      <th>769</th>\n",
              "      <td>770</td>\n",
              "      <td>39.0</td>\n",
              "      <td>20000</td>\n",
              "      <td>245</td>\n",
              "      <td>married</td>\n",
              "      <td>blue-collar,primary</td>\n",
              "      <td>yes</td>\n",
              "      <td>no</td>\n",
              "      <td>yes</td>\n",
              "      <td>no</td>\n",
              "      <td>unknown</td>\n",
              "      <td>7</td>\n",
              "      <td>NaN</td>\n",
              "      <td>148 sec</td>\n",
              "      <td>3</td>\n",
              "      <td>-1</td>\n",
              "      <td>0</td>\n",
              "      <td>unknown</td>\n",
              "      <td>no</td>\n",
              "    </tr>\n",
              "    <tr>\n",
              "      <th>860</th>\n",
              "      <td>861</td>\n",
              "      <td>33.0</td>\n",
              "      <td>55000</td>\n",
              "      <td>165</td>\n",
              "      <td>married</td>\n",
              "      <td>retired,secondary</td>\n",
              "      <td>yes</td>\n",
              "      <td>no</td>\n",
              "      <td>no</td>\n",
              "      <td>no</td>\n",
              "      <td>unknown</td>\n",
              "      <td>7</td>\n",
              "      <td>NaN</td>\n",
              "      <td>111 sec</td>\n",
              "      <td>1</td>\n",
              "      <td>-1</td>\n",
              "      <td>0</td>\n",
              "      <td>unknown</td>\n",
              "      <td>no</td>\n",
              "    </tr>\n",
              "    <tr>\n",
              "      <th>1016</th>\n",
              "      <td>1017</td>\n",
              "      <td>37.0</td>\n",
              "      <td>20000</td>\n",
              "      <td>139</td>\n",
              "      <td>divorced</td>\n",
              "      <td>blue-collar,primary</td>\n",
              "      <td>yes</td>\n",
              "      <td>no</td>\n",
              "      <td>yes</td>\n",
              "      <td>no</td>\n",
              "      <td>unknown</td>\n",
              "      <td>7</td>\n",
              "      <td>may, 2017</td>\n",
              "      <td>71 sec</td>\n",
              "      <td>1</td>\n",
              "      <td>-1</td>\n",
              "      <td>0</td>\n",
              "      <td>unknown</td>\n",
              "      <td>NaN</td>\n",
              "    </tr>\n",
              "    <tr>\n",
              "      <th>...</th>\n",
              "      <td>...</td>\n",
              "      <td>...</td>\n",
              "      <td>...</td>\n",
              "      <td>...</td>\n",
              "      <td>...</td>\n",
              "      <td>...</td>\n",
              "      <td>...</td>\n",
              "      <td>...</td>\n",
              "      <td>...</td>\n",
              "      <td>...</td>\n",
              "      <td>...</td>\n",
              "      <td>...</td>\n",
              "      <td>...</td>\n",
              "      <td>...</td>\n",
              "      <td>...</td>\n",
              "      <td>...</td>\n",
              "      <td>...</td>\n",
              "      <td>...</td>\n",
              "      <td>...</td>\n",
              "    </tr>\n",
              "    <tr>\n",
              "      <th>43323</th>\n",
              "      <td>43324</td>\n",
              "      <td>54.0</td>\n",
              "      <td>70000</td>\n",
              "      <td>0</td>\n",
              "      <td>divorced</td>\n",
              "      <td>services,secondary</td>\n",
              "      <td>yes</td>\n",
              "      <td>no</td>\n",
              "      <td>no</td>\n",
              "      <td>no</td>\n",
              "      <td>cellular</td>\n",
              "      <td>18</td>\n",
              "      <td>NaN</td>\n",
              "      <td>6.03333333333333 min</td>\n",
              "      <td>1</td>\n",
              "      <td>290</td>\n",
              "      <td>3</td>\n",
              "      <td>success</td>\n",
              "      <td>yes</td>\n",
              "    </tr>\n",
              "    <tr>\n",
              "      <th>43573</th>\n",
              "      <td>43574</td>\n",
              "      <td>NaN</td>\n",
              "      <td>16000</td>\n",
              "      <td>962</td>\n",
              "      <td>married</td>\n",
              "      <td>housemaid,secondary</td>\n",
              "      <td>yes</td>\n",
              "      <td>no</td>\n",
              "      <td>yes</td>\n",
              "      <td>no</td>\n",
              "      <td>cellular</td>\n",
              "      <td>28</td>\n",
              "      <td>apr, 2017</td>\n",
              "      <td>10.3833333333333 min</td>\n",
              "      <td>1</td>\n",
              "      <td>181</td>\n",
              "      <td>3</td>\n",
              "      <td>success</td>\n",
              "      <td>yes</td>\n",
              "    </tr>\n",
              "    <tr>\n",
              "      <th>44131</th>\n",
              "      <td>44132</td>\n",
              "      <td>27.0</td>\n",
              "      <td>100000</td>\n",
              "      <td>843</td>\n",
              "      <td>single</td>\n",
              "      <td>management,secondary</td>\n",
              "      <td>yes</td>\n",
              "      <td>no</td>\n",
              "      <td>no</td>\n",
              "      <td>no</td>\n",
              "      <td>cellular</td>\n",
              "      <td>12</td>\n",
              "      <td>NaN</td>\n",
              "      <td>2.05 min</td>\n",
              "      <td>2</td>\n",
              "      <td>185</td>\n",
              "      <td>1</td>\n",
              "      <td>success</td>\n",
              "      <td>no</td>\n",
              "    </tr>\n",
              "    <tr>\n",
              "      <th>44732</th>\n",
              "      <td>44733</td>\n",
              "      <td>23.0</td>\n",
              "      <td>4000</td>\n",
              "      <td>508</td>\n",
              "      <td>single</td>\n",
              "      <td>student,tertiary</td>\n",
              "      <td>no</td>\n",
              "      <td>no</td>\n",
              "      <td>no</td>\n",
              "      <td>no</td>\n",
              "      <td>cellular</td>\n",
              "      <td>8</td>\n",
              "      <td>NaN</td>\n",
              "      <td>3.5 min</td>\n",
              "      <td>1</td>\n",
              "      <td>92</td>\n",
              "      <td>1</td>\n",
              "      <td>failure</td>\n",
              "      <td>no</td>\n",
              "    </tr>\n",
              "    <tr>\n",
              "      <th>44974</th>\n",
              "      <td>44975</td>\n",
              "      <td>NaN</td>\n",
              "      <td>100000</td>\n",
              "      <td>839</td>\n",
              "      <td>married</td>\n",
              "      <td>management,tertiary</td>\n",
              "      <td>yes</td>\n",
              "      <td>no</td>\n",
              "      <td>no</td>\n",
              "      <td>yes</td>\n",
              "      <td>cellular</td>\n",
              "      <td>11</td>\n",
              "      <td>oct, 2017</td>\n",
              "      <td>6.08333333333333 min</td>\n",
              "      <td>2</td>\n",
              "      <td>774</td>\n",
              "      <td>11</td>\n",
              "      <td>failure</td>\n",
              "      <td>no</td>\n",
              "    </tr>\n",
              "  </tbody>\n",
              "</table>\n",
              "<p>100 rows × 19 columns</p>\n",
              "</div>\n",
              "      <button class=\"colab-df-convert\" onclick=\"convertToInteractive('df-ca504434-380d-46fe-9d05-b7238aaeda0b')\"\n",
              "              title=\"Convert this dataframe to an interactive table.\"\n",
              "              style=\"display:none;\">\n",
              "        \n",
              "  <svg xmlns=\"http://www.w3.org/2000/svg\" height=\"24px\"viewBox=\"0 0 24 24\"\n",
              "       width=\"24px\">\n",
              "    <path d=\"M0 0h24v24H0V0z\" fill=\"none\"/>\n",
              "    <path d=\"M18.56 5.44l.94 2.06.94-2.06 2.06-.94-2.06-.94-.94-2.06-.94 2.06-2.06.94zm-11 1L8.5 8.5l.94-2.06 2.06-.94-2.06-.94L8.5 2.5l-.94 2.06-2.06.94zm10 10l.94 2.06.94-2.06 2.06-.94-2.06-.94-.94-2.06-.94 2.06-2.06.94z\"/><path d=\"M17.41 7.96l-1.37-1.37c-.4-.4-.92-.59-1.43-.59-.52 0-1.04.2-1.43.59L10.3 9.45l-7.72 7.72c-.78.78-.78 2.05 0 2.83L4 21.41c.39.39.9.59 1.41.59.51 0 1.02-.2 1.41-.59l7.78-7.78 2.81-2.81c.8-.78.8-2.07 0-2.86zM5.41 20L4 18.59l7.72-7.72 1.47 1.35L5.41 20z\"/>\n",
              "  </svg>\n",
              "      </button>\n",
              "      \n",
              "  <style>\n",
              "    .colab-df-container {\n",
              "      display:flex;\n",
              "      flex-wrap:wrap;\n",
              "      gap: 12px;\n",
              "    }\n",
              "\n",
              "    .colab-df-convert {\n",
              "      background-color: #E8F0FE;\n",
              "      border: none;\n",
              "      border-radius: 50%;\n",
              "      cursor: pointer;\n",
              "      display: none;\n",
              "      fill: #1967D2;\n",
              "      height: 32px;\n",
              "      padding: 0 0 0 0;\n",
              "      width: 32px;\n",
              "    }\n",
              "\n",
              "    .colab-df-convert:hover {\n",
              "      background-color: #E2EBFA;\n",
              "      box-shadow: 0px 1px 2px rgba(60, 64, 67, 0.3), 0px 1px 3px 1px rgba(60, 64, 67, 0.15);\n",
              "      fill: #174EA6;\n",
              "    }\n",
              "\n",
              "    [theme=dark] .colab-df-convert {\n",
              "      background-color: #3B4455;\n",
              "      fill: #D2E3FC;\n",
              "    }\n",
              "\n",
              "    [theme=dark] .colab-df-convert:hover {\n",
              "      background-color: #434B5C;\n",
              "      box-shadow: 0px 1px 3px 1px rgba(0, 0, 0, 0.15);\n",
              "      filter: drop-shadow(0px 1px 2px rgba(0, 0, 0, 0.3));\n",
              "      fill: #FFFFFF;\n",
              "    }\n",
              "  </style>\n",
              "\n",
              "      <script>\n",
              "        const buttonEl =\n",
              "          document.querySelector('#df-ca504434-380d-46fe-9d05-b7238aaeda0b button.colab-df-convert');\n",
              "        buttonEl.style.display =\n",
              "          google.colab.kernel.accessAllowed ? 'block' : 'none';\n",
              "\n",
              "        async function convertToInteractive(key) {\n",
              "          const element = document.querySelector('#df-ca504434-380d-46fe-9d05-b7238aaeda0b');\n",
              "          const dataTable =\n",
              "            await google.colab.kernel.invokeFunction('convertToInteractive',\n",
              "                                                     [key], {});\n",
              "          if (!dataTable) return;\n",
              "\n",
              "          const docLinkHtml = 'Like what you see? Visit the ' +\n",
              "            '<a target=\"_blank\" href=https://colab.research.google.com/notebooks/data_table.ipynb>data table notebook</a>'\n",
              "            + ' to learn more about interactive tables.';\n",
              "          element.innerHTML = '';\n",
              "          dataTable['output_type'] = 'display_data';\n",
              "          await google.colab.output.renderOutput(dataTable, element);\n",
              "          const docLink = document.createElement('div');\n",
              "          docLink.innerHTML = docLinkHtml;\n",
              "          element.appendChild(docLink);\n",
              "        }\n",
              "      </script>\n",
              "    </div>\n",
              "  </div>\n",
              "  "
            ]
          },
          "metadata": {},
          "execution_count": 14
        }
      ]
    },
    {
      "cell_type": "code",
      "source": [
        "# Analyzing the rows where age has null values\n",
        "\n",
        "df.loc[df['age'].isnull()]\n",
        "\n",
        "\n",
        "# No such particular pattern and can be dropped"
      ],
      "metadata": {
        "colab": {
          "base_uri": "https://localhost:8080/",
          "height": 1000
        },
        "id": "tqemB1MEtnsA",
        "outputId": "6d8a9f9f-c30a-4bfe-8d8b-77b0a6409538"
      },
      "execution_count": 15,
      "outputs": [
        {
          "output_type": "execute_result",
          "data": {
            "text/plain": [
              "       customerid  age  salary  balance   marital                   jobedu  \\\n",
              "161           162  NaN   60000       47    single      technician,tertiary   \n",
              "1021         1022  NaN   60000     -500   married     technician,secondary   \n",
              "1585         1586  NaN  100000      123  divorced     management,secondary   \n",
              "3943         3944  NaN   70000       62   married        services,tertiary   \n",
              "5675         5676  NaN   20000      -85   married      blue-collar,primary   \n",
              "6873         6874  NaN   70000     1336  divorced       services,secondary   \n",
              "9692         9693  NaN   50000     -162    single          admin.,tertiary   \n",
              "11653       11654  NaN    8000     2562    single       unemployed,primary   \n",
              "13417       13418  NaN   20000      452  divorced      blue-collar,primary   \n",
              "14541       14542  NaN   20000      -84   married    blue-collar,secondary   \n",
              "17159       17160  NaN  120000    -2082   married   entrepreneur,secondary   \n",
              "19457       19458  NaN   60000     1055   married     technician,secondary   \n",
              "23483       23484  NaN  120000      456   married   entrepreneur,secondary   \n",
              "23939       23940  NaN   20000       85   married      blue-collar,primary   \n",
              "26531       26532  NaN   60000     8112  divorced  self-employed,secondary   \n",
              "35920       35921  NaN   20000        1  divorced      blue-collar,primary   \n",
              "40757       40758  NaN   55000     3444  divorced         retired,tertiary   \n",
              "40994       40995  NaN  100000     3371    single      management,tertiary   \n",
              "43573       43574  NaN   16000      962   married      housemaid,secondary   \n",
              "44974       44975  NaN  100000      839   married      management,tertiary   \n",
              "\n",
              "      targeted default housing loan   contact  day      month  \\\n",
              "161         no      no     yes   no   unknown    5  may, 2017   \n",
              "1021       yes      no     yes   no   unknown    7  may, 2017   \n",
              "1585       yes      no      no   no   unknown    8  may, 2017   \n",
              "3943       yes      no     yes  yes   unknown   16  may, 2017   \n",
              "5675       yes      no     yes  yes   unknown   26  may, 2017   \n",
              "6873       yes      no     yes   no   unknown   28  may, 2017   \n",
              "9692        no      no     yes  yes   unknown    6  jun, 2017   \n",
              "11653      yes      no      no   no   unknown   20  jun, 2017   \n",
              "13417      yes      no     yes   no  cellular    9  jul, 2017   \n",
              "14541      yes      no      no  yes  cellular   15  jul, 2017   \n",
              "17159      yes     yes      no  yes  cellular   28  jul, 2017   \n",
              "19457      yes      no     yes   no  cellular    7  aug, 2017   \n",
              "23483      yes      no     yes  yes  cellular   28  aug, 2017   \n",
              "23939      yes      no      no   no  cellular   29  aug, 2017   \n",
              "26531      yes      no     yes  yes  cellular   20  nov, 2017   \n",
              "35920      yes      no     yes   no  cellular    8  may, 2017   \n",
              "40757       no      no      no   no  cellular   10  aug, 2017   \n",
              "40994       no      no     yes  yes  cellular   13  aug, 2017   \n",
              "43573      yes      no     yes   no  cellular   28  apr, 2017   \n",
              "44974      yes      no      no  yes  cellular   11  oct, 2017   \n",
              "\n",
              "                   duration  campaign  pdays  previous poutcome response  \n",
              "161                 181 sec         1     -1         0  unknown       no  \n",
              "1021                 78 sec         5     -1         0  unknown       no  \n",
              "1585                306 sec         2     -1         0  unknown       no  \n",
              "3943                280 sec         2     -1         0  unknown       no  \n",
              "5675                118 sec         1     -1         0  unknown       no  \n",
              "6873                298 sec         5     -1         0  unknown       no  \n",
              "9692                119 sec         1     -1         0  unknown       no  \n",
              "11653               489 sec         2     -1         0  unknown       no  \n",
              "13417                96 sec         1     -1         0  unknown       no  \n",
              "14541              1.25 min         4     -1         0  unknown       no  \n",
              "17159              2.05 min         6     -1         0  unknown       no  \n",
              "19457              4.35 min         2     -1         0  unknown       no  \n",
              "23483  2.28333333333333 min         8     -1         0  unknown       no  \n",
              "23939  2.21666666666667 min         4     -1         0  unknown       no  \n",
              "26531  1.06666666666667 min         1     -1         0  unknown       no  \n",
              "35920               0.6 min         5    336         9  failure       no  \n",
              "40757               4.2 min         1    185         2  success      yes  \n",
              "40994  4.73333333333333 min         1     92         2  failure       no  \n",
              "43573  10.3833333333333 min         1    181         3  success      yes  \n",
              "44974  6.08333333333333 min         2    774        11  failure       no  "
            ],
            "text/html": [
              "\n",
              "  <div id=\"df-5a809cd5-00e0-4134-8c97-66cb55858d2c\">\n",
              "    <div class=\"colab-df-container\">\n",
              "      <div>\n",
              "<style scoped>\n",
              "    .dataframe tbody tr th:only-of-type {\n",
              "        vertical-align: middle;\n",
              "    }\n",
              "\n",
              "    .dataframe tbody tr th {\n",
              "        vertical-align: top;\n",
              "    }\n",
              "\n",
              "    .dataframe thead th {\n",
              "        text-align: right;\n",
              "    }\n",
              "</style>\n",
              "<table border=\"1\" class=\"dataframe\">\n",
              "  <thead>\n",
              "    <tr style=\"text-align: right;\">\n",
              "      <th></th>\n",
              "      <th>customerid</th>\n",
              "      <th>age</th>\n",
              "      <th>salary</th>\n",
              "      <th>balance</th>\n",
              "      <th>marital</th>\n",
              "      <th>jobedu</th>\n",
              "      <th>targeted</th>\n",
              "      <th>default</th>\n",
              "      <th>housing</th>\n",
              "      <th>loan</th>\n",
              "      <th>contact</th>\n",
              "      <th>day</th>\n",
              "      <th>month</th>\n",
              "      <th>duration</th>\n",
              "      <th>campaign</th>\n",
              "      <th>pdays</th>\n",
              "      <th>previous</th>\n",
              "      <th>poutcome</th>\n",
              "      <th>response</th>\n",
              "    </tr>\n",
              "  </thead>\n",
              "  <tbody>\n",
              "    <tr>\n",
              "      <th>161</th>\n",
              "      <td>162</td>\n",
              "      <td>NaN</td>\n",
              "      <td>60000</td>\n",
              "      <td>47</td>\n",
              "      <td>single</td>\n",
              "      <td>technician,tertiary</td>\n",
              "      <td>no</td>\n",
              "      <td>no</td>\n",
              "      <td>yes</td>\n",
              "      <td>no</td>\n",
              "      <td>unknown</td>\n",
              "      <td>5</td>\n",
              "      <td>may, 2017</td>\n",
              "      <td>181 sec</td>\n",
              "      <td>1</td>\n",
              "      <td>-1</td>\n",
              "      <td>0</td>\n",
              "      <td>unknown</td>\n",
              "      <td>no</td>\n",
              "    </tr>\n",
              "    <tr>\n",
              "      <th>1021</th>\n",
              "      <td>1022</td>\n",
              "      <td>NaN</td>\n",
              "      <td>60000</td>\n",
              "      <td>-500</td>\n",
              "      <td>married</td>\n",
              "      <td>technician,secondary</td>\n",
              "      <td>yes</td>\n",
              "      <td>no</td>\n",
              "      <td>yes</td>\n",
              "      <td>no</td>\n",
              "      <td>unknown</td>\n",
              "      <td>7</td>\n",
              "      <td>may, 2017</td>\n",
              "      <td>78 sec</td>\n",
              "      <td>5</td>\n",
              "      <td>-1</td>\n",
              "      <td>0</td>\n",
              "      <td>unknown</td>\n",
              "      <td>no</td>\n",
              "    </tr>\n",
              "    <tr>\n",
              "      <th>1585</th>\n",
              "      <td>1586</td>\n",
              "      <td>NaN</td>\n",
              "      <td>100000</td>\n",
              "      <td>123</td>\n",
              "      <td>divorced</td>\n",
              "      <td>management,secondary</td>\n",
              "      <td>yes</td>\n",
              "      <td>no</td>\n",
              "      <td>no</td>\n",
              "      <td>no</td>\n",
              "      <td>unknown</td>\n",
              "      <td>8</td>\n",
              "      <td>may, 2017</td>\n",
              "      <td>306 sec</td>\n",
              "      <td>2</td>\n",
              "      <td>-1</td>\n",
              "      <td>0</td>\n",
              "      <td>unknown</td>\n",
              "      <td>no</td>\n",
              "    </tr>\n",
              "    <tr>\n",
              "      <th>3943</th>\n",
              "      <td>3944</td>\n",
              "      <td>NaN</td>\n",
              "      <td>70000</td>\n",
              "      <td>62</td>\n",
              "      <td>married</td>\n",
              "      <td>services,tertiary</td>\n",
              "      <td>yes</td>\n",
              "      <td>no</td>\n",
              "      <td>yes</td>\n",
              "      <td>yes</td>\n",
              "      <td>unknown</td>\n",
              "      <td>16</td>\n",
              "      <td>may, 2017</td>\n",
              "      <td>280 sec</td>\n",
              "      <td>2</td>\n",
              "      <td>-1</td>\n",
              "      <td>0</td>\n",
              "      <td>unknown</td>\n",
              "      <td>no</td>\n",
              "    </tr>\n",
              "    <tr>\n",
              "      <th>5675</th>\n",
              "      <td>5676</td>\n",
              "      <td>NaN</td>\n",
              "      <td>20000</td>\n",
              "      <td>-85</td>\n",
              "      <td>married</td>\n",
              "      <td>blue-collar,primary</td>\n",
              "      <td>yes</td>\n",
              "      <td>no</td>\n",
              "      <td>yes</td>\n",
              "      <td>yes</td>\n",
              "      <td>unknown</td>\n",
              "      <td>26</td>\n",
              "      <td>may, 2017</td>\n",
              "      <td>118 sec</td>\n",
              "      <td>1</td>\n",
              "      <td>-1</td>\n",
              "      <td>0</td>\n",
              "      <td>unknown</td>\n",
              "      <td>no</td>\n",
              "    </tr>\n",
              "    <tr>\n",
              "      <th>6873</th>\n",
              "      <td>6874</td>\n",
              "      <td>NaN</td>\n",
              "      <td>70000</td>\n",
              "      <td>1336</td>\n",
              "      <td>divorced</td>\n",
              "      <td>services,secondary</td>\n",
              "      <td>yes</td>\n",
              "      <td>no</td>\n",
              "      <td>yes</td>\n",
              "      <td>no</td>\n",
              "      <td>unknown</td>\n",
              "      <td>28</td>\n",
              "      <td>may, 2017</td>\n",
              "      <td>298 sec</td>\n",
              "      <td>5</td>\n",
              "      <td>-1</td>\n",
              "      <td>0</td>\n",
              "      <td>unknown</td>\n",
              "      <td>no</td>\n",
              "    </tr>\n",
              "    <tr>\n",
              "      <th>9692</th>\n",
              "      <td>9693</td>\n",
              "      <td>NaN</td>\n",
              "      <td>50000</td>\n",
              "      <td>-162</td>\n",
              "      <td>single</td>\n",
              "      <td>admin.,tertiary</td>\n",
              "      <td>no</td>\n",
              "      <td>no</td>\n",
              "      <td>yes</td>\n",
              "      <td>yes</td>\n",
              "      <td>unknown</td>\n",
              "      <td>6</td>\n",
              "      <td>jun, 2017</td>\n",
              "      <td>119 sec</td>\n",
              "      <td>1</td>\n",
              "      <td>-1</td>\n",
              "      <td>0</td>\n",
              "      <td>unknown</td>\n",
              "      <td>no</td>\n",
              "    </tr>\n",
              "    <tr>\n",
              "      <th>11653</th>\n",
              "      <td>11654</td>\n",
              "      <td>NaN</td>\n",
              "      <td>8000</td>\n",
              "      <td>2562</td>\n",
              "      <td>single</td>\n",
              "      <td>unemployed,primary</td>\n",
              "      <td>yes</td>\n",
              "      <td>no</td>\n",
              "      <td>no</td>\n",
              "      <td>no</td>\n",
              "      <td>unknown</td>\n",
              "      <td>20</td>\n",
              "      <td>jun, 2017</td>\n",
              "      <td>489 sec</td>\n",
              "      <td>2</td>\n",
              "      <td>-1</td>\n",
              "      <td>0</td>\n",
              "      <td>unknown</td>\n",
              "      <td>no</td>\n",
              "    </tr>\n",
              "    <tr>\n",
              "      <th>13417</th>\n",
              "      <td>13418</td>\n",
              "      <td>NaN</td>\n",
              "      <td>20000</td>\n",
              "      <td>452</td>\n",
              "      <td>divorced</td>\n",
              "      <td>blue-collar,primary</td>\n",
              "      <td>yes</td>\n",
              "      <td>no</td>\n",
              "      <td>yes</td>\n",
              "      <td>no</td>\n",
              "      <td>cellular</td>\n",
              "      <td>9</td>\n",
              "      <td>jul, 2017</td>\n",
              "      <td>96 sec</td>\n",
              "      <td>1</td>\n",
              "      <td>-1</td>\n",
              "      <td>0</td>\n",
              "      <td>unknown</td>\n",
              "      <td>no</td>\n",
              "    </tr>\n",
              "    <tr>\n",
              "      <th>14541</th>\n",
              "      <td>14542</td>\n",
              "      <td>NaN</td>\n",
              "      <td>20000</td>\n",
              "      <td>-84</td>\n",
              "      <td>married</td>\n",
              "      <td>blue-collar,secondary</td>\n",
              "      <td>yes</td>\n",
              "      <td>no</td>\n",
              "      <td>no</td>\n",
              "      <td>yes</td>\n",
              "      <td>cellular</td>\n",
              "      <td>15</td>\n",
              "      <td>jul, 2017</td>\n",
              "      <td>1.25 min</td>\n",
              "      <td>4</td>\n",
              "      <td>-1</td>\n",
              "      <td>0</td>\n",
              "      <td>unknown</td>\n",
              "      <td>no</td>\n",
              "    </tr>\n",
              "    <tr>\n",
              "      <th>17159</th>\n",
              "      <td>17160</td>\n",
              "      <td>NaN</td>\n",
              "      <td>120000</td>\n",
              "      <td>-2082</td>\n",
              "      <td>married</td>\n",
              "      <td>entrepreneur,secondary</td>\n",
              "      <td>yes</td>\n",
              "      <td>yes</td>\n",
              "      <td>no</td>\n",
              "      <td>yes</td>\n",
              "      <td>cellular</td>\n",
              "      <td>28</td>\n",
              "      <td>jul, 2017</td>\n",
              "      <td>2.05 min</td>\n",
              "      <td>6</td>\n",
              "      <td>-1</td>\n",
              "      <td>0</td>\n",
              "      <td>unknown</td>\n",
              "      <td>no</td>\n",
              "    </tr>\n",
              "    <tr>\n",
              "      <th>19457</th>\n",
              "      <td>19458</td>\n",
              "      <td>NaN</td>\n",
              "      <td>60000</td>\n",
              "      <td>1055</td>\n",
              "      <td>married</td>\n",
              "      <td>technician,secondary</td>\n",
              "      <td>yes</td>\n",
              "      <td>no</td>\n",
              "      <td>yes</td>\n",
              "      <td>no</td>\n",
              "      <td>cellular</td>\n",
              "      <td>7</td>\n",
              "      <td>aug, 2017</td>\n",
              "      <td>4.35 min</td>\n",
              "      <td>2</td>\n",
              "      <td>-1</td>\n",
              "      <td>0</td>\n",
              "      <td>unknown</td>\n",
              "      <td>no</td>\n",
              "    </tr>\n",
              "    <tr>\n",
              "      <th>23483</th>\n",
              "      <td>23484</td>\n",
              "      <td>NaN</td>\n",
              "      <td>120000</td>\n",
              "      <td>456</td>\n",
              "      <td>married</td>\n",
              "      <td>entrepreneur,secondary</td>\n",
              "      <td>yes</td>\n",
              "      <td>no</td>\n",
              "      <td>yes</td>\n",
              "      <td>yes</td>\n",
              "      <td>cellular</td>\n",
              "      <td>28</td>\n",
              "      <td>aug, 2017</td>\n",
              "      <td>2.28333333333333 min</td>\n",
              "      <td>8</td>\n",
              "      <td>-1</td>\n",
              "      <td>0</td>\n",
              "      <td>unknown</td>\n",
              "      <td>no</td>\n",
              "    </tr>\n",
              "    <tr>\n",
              "      <th>23939</th>\n",
              "      <td>23940</td>\n",
              "      <td>NaN</td>\n",
              "      <td>20000</td>\n",
              "      <td>85</td>\n",
              "      <td>married</td>\n",
              "      <td>blue-collar,primary</td>\n",
              "      <td>yes</td>\n",
              "      <td>no</td>\n",
              "      <td>no</td>\n",
              "      <td>no</td>\n",
              "      <td>cellular</td>\n",
              "      <td>29</td>\n",
              "      <td>aug, 2017</td>\n",
              "      <td>2.21666666666667 min</td>\n",
              "      <td>4</td>\n",
              "      <td>-1</td>\n",
              "      <td>0</td>\n",
              "      <td>unknown</td>\n",
              "      <td>no</td>\n",
              "    </tr>\n",
              "    <tr>\n",
              "      <th>26531</th>\n",
              "      <td>26532</td>\n",
              "      <td>NaN</td>\n",
              "      <td>60000</td>\n",
              "      <td>8112</td>\n",
              "      <td>divorced</td>\n",
              "      <td>self-employed,secondary</td>\n",
              "      <td>yes</td>\n",
              "      <td>no</td>\n",
              "      <td>yes</td>\n",
              "      <td>yes</td>\n",
              "      <td>cellular</td>\n",
              "      <td>20</td>\n",
              "      <td>nov, 2017</td>\n",
              "      <td>1.06666666666667 min</td>\n",
              "      <td>1</td>\n",
              "      <td>-1</td>\n",
              "      <td>0</td>\n",
              "      <td>unknown</td>\n",
              "      <td>no</td>\n",
              "    </tr>\n",
              "    <tr>\n",
              "      <th>35920</th>\n",
              "      <td>35921</td>\n",
              "      <td>NaN</td>\n",
              "      <td>20000</td>\n",
              "      <td>1</td>\n",
              "      <td>divorced</td>\n",
              "      <td>blue-collar,primary</td>\n",
              "      <td>yes</td>\n",
              "      <td>no</td>\n",
              "      <td>yes</td>\n",
              "      <td>no</td>\n",
              "      <td>cellular</td>\n",
              "      <td>8</td>\n",
              "      <td>may, 2017</td>\n",
              "      <td>0.6 min</td>\n",
              "      <td>5</td>\n",
              "      <td>336</td>\n",
              "      <td>9</td>\n",
              "      <td>failure</td>\n",
              "      <td>no</td>\n",
              "    </tr>\n",
              "    <tr>\n",
              "      <th>40757</th>\n",
              "      <td>40758</td>\n",
              "      <td>NaN</td>\n",
              "      <td>55000</td>\n",
              "      <td>3444</td>\n",
              "      <td>divorced</td>\n",
              "      <td>retired,tertiary</td>\n",
              "      <td>no</td>\n",
              "      <td>no</td>\n",
              "      <td>no</td>\n",
              "      <td>no</td>\n",
              "      <td>cellular</td>\n",
              "      <td>10</td>\n",
              "      <td>aug, 2017</td>\n",
              "      <td>4.2 min</td>\n",
              "      <td>1</td>\n",
              "      <td>185</td>\n",
              "      <td>2</td>\n",
              "      <td>success</td>\n",
              "      <td>yes</td>\n",
              "    </tr>\n",
              "    <tr>\n",
              "      <th>40994</th>\n",
              "      <td>40995</td>\n",
              "      <td>NaN</td>\n",
              "      <td>100000</td>\n",
              "      <td>3371</td>\n",
              "      <td>single</td>\n",
              "      <td>management,tertiary</td>\n",
              "      <td>no</td>\n",
              "      <td>no</td>\n",
              "      <td>yes</td>\n",
              "      <td>yes</td>\n",
              "      <td>cellular</td>\n",
              "      <td>13</td>\n",
              "      <td>aug, 2017</td>\n",
              "      <td>4.73333333333333 min</td>\n",
              "      <td>1</td>\n",
              "      <td>92</td>\n",
              "      <td>2</td>\n",
              "      <td>failure</td>\n",
              "      <td>no</td>\n",
              "    </tr>\n",
              "    <tr>\n",
              "      <th>43573</th>\n",
              "      <td>43574</td>\n",
              "      <td>NaN</td>\n",
              "      <td>16000</td>\n",
              "      <td>962</td>\n",
              "      <td>married</td>\n",
              "      <td>housemaid,secondary</td>\n",
              "      <td>yes</td>\n",
              "      <td>no</td>\n",
              "      <td>yes</td>\n",
              "      <td>no</td>\n",
              "      <td>cellular</td>\n",
              "      <td>28</td>\n",
              "      <td>apr, 2017</td>\n",
              "      <td>10.3833333333333 min</td>\n",
              "      <td>1</td>\n",
              "      <td>181</td>\n",
              "      <td>3</td>\n",
              "      <td>success</td>\n",
              "      <td>yes</td>\n",
              "    </tr>\n",
              "    <tr>\n",
              "      <th>44974</th>\n",
              "      <td>44975</td>\n",
              "      <td>NaN</td>\n",
              "      <td>100000</td>\n",
              "      <td>839</td>\n",
              "      <td>married</td>\n",
              "      <td>management,tertiary</td>\n",
              "      <td>yes</td>\n",
              "      <td>no</td>\n",
              "      <td>no</td>\n",
              "      <td>yes</td>\n",
              "      <td>cellular</td>\n",
              "      <td>11</td>\n",
              "      <td>oct, 2017</td>\n",
              "      <td>6.08333333333333 min</td>\n",
              "      <td>2</td>\n",
              "      <td>774</td>\n",
              "      <td>11</td>\n",
              "      <td>failure</td>\n",
              "      <td>no</td>\n",
              "    </tr>\n",
              "  </tbody>\n",
              "</table>\n",
              "</div>\n",
              "      <button class=\"colab-df-convert\" onclick=\"convertToInteractive('df-5a809cd5-00e0-4134-8c97-66cb55858d2c')\"\n",
              "              title=\"Convert this dataframe to an interactive table.\"\n",
              "              style=\"display:none;\">\n",
              "        \n",
              "  <svg xmlns=\"http://www.w3.org/2000/svg\" height=\"24px\"viewBox=\"0 0 24 24\"\n",
              "       width=\"24px\">\n",
              "    <path d=\"M0 0h24v24H0V0z\" fill=\"none\"/>\n",
              "    <path d=\"M18.56 5.44l.94 2.06.94-2.06 2.06-.94-2.06-.94-.94-2.06-.94 2.06-2.06.94zm-11 1L8.5 8.5l.94-2.06 2.06-.94-2.06-.94L8.5 2.5l-.94 2.06-2.06.94zm10 10l.94 2.06.94-2.06 2.06-.94-2.06-.94-.94-2.06-.94 2.06-2.06.94z\"/><path d=\"M17.41 7.96l-1.37-1.37c-.4-.4-.92-.59-1.43-.59-.52 0-1.04.2-1.43.59L10.3 9.45l-7.72 7.72c-.78.78-.78 2.05 0 2.83L4 21.41c.39.39.9.59 1.41.59.51 0 1.02-.2 1.41-.59l7.78-7.78 2.81-2.81c.8-.78.8-2.07 0-2.86zM5.41 20L4 18.59l7.72-7.72 1.47 1.35L5.41 20z\"/>\n",
              "  </svg>\n",
              "      </button>\n",
              "      \n",
              "  <style>\n",
              "    .colab-df-container {\n",
              "      display:flex;\n",
              "      flex-wrap:wrap;\n",
              "      gap: 12px;\n",
              "    }\n",
              "\n",
              "    .colab-df-convert {\n",
              "      background-color: #E8F0FE;\n",
              "      border: none;\n",
              "      border-radius: 50%;\n",
              "      cursor: pointer;\n",
              "      display: none;\n",
              "      fill: #1967D2;\n",
              "      height: 32px;\n",
              "      padding: 0 0 0 0;\n",
              "      width: 32px;\n",
              "    }\n",
              "\n",
              "    .colab-df-convert:hover {\n",
              "      background-color: #E2EBFA;\n",
              "      box-shadow: 0px 1px 2px rgba(60, 64, 67, 0.3), 0px 1px 3px 1px rgba(60, 64, 67, 0.15);\n",
              "      fill: #174EA6;\n",
              "    }\n",
              "\n",
              "    [theme=dark] .colab-df-convert {\n",
              "      background-color: #3B4455;\n",
              "      fill: #D2E3FC;\n",
              "    }\n",
              "\n",
              "    [theme=dark] .colab-df-convert:hover {\n",
              "      background-color: #434B5C;\n",
              "      box-shadow: 0px 1px 3px 1px rgba(0, 0, 0, 0.15);\n",
              "      filter: drop-shadow(0px 1px 2px rgba(0, 0, 0, 0.3));\n",
              "      fill: #FFFFFF;\n",
              "    }\n",
              "  </style>\n",
              "\n",
              "      <script>\n",
              "        const buttonEl =\n",
              "          document.querySelector('#df-5a809cd5-00e0-4134-8c97-66cb55858d2c button.colab-df-convert');\n",
              "        buttonEl.style.display =\n",
              "          google.colab.kernel.accessAllowed ? 'block' : 'none';\n",
              "\n",
              "        async function convertToInteractive(key) {\n",
              "          const element = document.querySelector('#df-5a809cd5-00e0-4134-8c97-66cb55858d2c');\n",
              "          const dataTable =\n",
              "            await google.colab.kernel.invokeFunction('convertToInteractive',\n",
              "                                                     [key], {});\n",
              "          if (!dataTable) return;\n",
              "\n",
              "          const docLinkHtml = 'Like what you see? Visit the ' +\n",
              "            '<a target=\"_blank\" href=https://colab.research.google.com/notebooks/data_table.ipynb>data table notebook</a>'\n",
              "            + ' to learn more about interactive tables.';\n",
              "          element.innerHTML = '';\n",
              "          dataTable['output_type'] = 'display_data';\n",
              "          await google.colab.output.renderOutput(dataTable, element);\n",
              "          const docLink = document.createElement('div');\n",
              "          docLink.innerHTML = docLinkHtml;\n",
              "          element.appendChild(docLink);\n",
              "        }\n",
              "      </script>\n",
              "    </div>\n",
              "  </div>\n",
              "  "
            ]
          },
          "metadata": {},
          "execution_count": 15
        }
      ]
    },
    {
      "cell_type": "code",
      "source": [
        "# Analyzing the rows where month has null values\n",
        "\n",
        "df.loc[df['month'].isnull()]\n",
        "\n",
        "\n",
        "# No such particular pattern and can be dropped"
      ],
      "metadata": {
        "colab": {
          "base_uri": "https://localhost:8080/",
          "height": 1000
        },
        "id": "_qWUwCTxuUaV",
        "outputId": "c74a2876-8aca-4015-94b4-86d38e21bc67"
      },
      "execution_count": 16,
      "outputs": [
        {
          "output_type": "execute_result",
          "data": {
            "text/plain": [
              "       customerid   age  salary  balance   marital                  jobedu  \\\n",
              "189           190  31.0  100000        0    single     management,tertiary   \n",
              "769           770  39.0   20000      245   married     blue-collar,primary   \n",
              "860           861  33.0   55000      165   married       retired,secondary   \n",
              "1267         1268  36.0   50000      114   married        admin.,secondary   \n",
              "1685         1686  34.0   20000      457   married   blue-collar,secondary   \n",
              "1899         1900  49.0   16000      164  divorced       housemaid,primary   \n",
              "2433         2434  26.0   60000     3825   married     technician,tertiary   \n",
              "2612         2613  38.0   50000      446    single          admin.,unknown   \n",
              "2747         2748  48.0  120000     2550   married    entrepreneur,unknown   \n",
              "3556         3557  41.0   20000       59   married   blue-collar,secondary   \n",
              "3890         3891  56.0   55000     4391   married         retired,unknown   \n",
              "5311         5312  22.0   20000        0    single   blue-collar,secondary   \n",
              "6265         6266  32.0   50000       13    single        admin.,secondary   \n",
              "6396         6397  24.0   70000        0   married       services,tertiary   \n",
              "8433         8434  38.0   60000    12926    single    technician,secondary   \n",
              "8792         8793  24.0   50000      262   married        admin.,secondary   \n",
              "10627       10628  45.0   60000      533   married     technician,tertiary   \n",
              "11016       11017  46.0   70000      741   married        services,primary   \n",
              "11284       11285  44.0   16000     1059    single       housemaid,primary   \n",
              "11394       11395  54.0   60000      415   married    technician,secondary   \n",
              "14502       14503  35.0   70000      819   married      services,secondary   \n",
              "15795       15796  38.0   20000      -41   married     blue-collar,primary   \n",
              "16023       16024  35.0   60000      328   married     technician,tertiary   \n",
              "16850       16851  45.0   55000       25   married         retired,primary   \n",
              "17568       17569  56.0   70000        0   married        services,unknown   \n",
              "18431       18432  42.0   70000      247    single      services,secondary   \n",
              "18942       18943  49.0   50000      949   married        admin.,secondary   \n",
              "19118       19119  38.0   50000     1980   married         admin.,tertiary   \n",
              "19769       19770  36.0  100000      162   married     management,tertiary   \n",
              "21777       21778  56.0   16000      605   married       housemaid,primary   \n",
              "21962       21963  36.0   60000     1044    single    technician,secondary   \n",
              "23897       23898  46.0   20000      123   married     blue-collar,primary   \n",
              "25658       25659  35.0   60000     8647   married  self-employed,tertiary   \n",
              "27480       27481  31.0  100000     3283    single     management,tertiary   \n",
              "28693       28694  26.0   16000      543   married      housemaid,tertiary   \n",
              "30740       30741  32.0  100000     2770    single     management,tertiary   \n",
              "31551       31552  54.0   55000      136   married         retired,primary   \n",
              "35773       35774  52.0   20000       33   married     blue-collar,unknown   \n",
              "37194       37195  36.0   20000     1969   married   blue-collar,secondary   \n",
              "37819       37820  34.0   20000      237   married   blue-collar,secondary   \n",
              "38158       38159  34.0   60000     1317  divorced     technician,tertiary   \n",
              "39188       39189  30.0   60000      778    single    technician,secondary   \n",
              "41090       41091  35.0  100000     7218    single     management,tertiary   \n",
              "41434       41435  43.0  100000    13450   married     management,tertiary   \n",
              "41606       41607  25.0  100000      808    single     management,tertiary   \n",
              "43001       43002  35.0   60000      353    single  self-employed,tertiary   \n",
              "43021       43022  52.0  100000     4675   married     management,tertiary   \n",
              "43323       43324  54.0   70000        0  divorced      services,secondary   \n",
              "44131       44132  27.0  100000      843    single    management,secondary   \n",
              "44732       44733  23.0    4000      508    single        student,tertiary   \n",
              "\n",
              "      targeted default housing loan    contact  day month  \\\n",
              "189         no      no     yes   no    unknown    5   NaN   \n",
              "769        yes      no     yes   no    unknown    7   NaN   \n",
              "860        yes      no      no   no    unknown    7   NaN   \n",
              "1267       yes      no     yes  yes    unknown    8   NaN   \n",
              "1685       yes      no     yes   no    unknown    9   NaN   \n",
              "1899       yes      no     yes   no    unknown    9   NaN   \n",
              "2433       yes      no     yes   no    unknown   13   NaN   \n",
              "2612        no      no     yes   no    unknown   13   NaN   \n",
              "2747        no      no     yes   no    unknown   14   NaN   \n",
              "3556       yes      no     yes   no    unknown   15   NaN   \n",
              "3890        no      no     yes   no    unknown   16   NaN   \n",
              "5311       yes      no     yes   no    unknown   23   NaN   \n",
              "6265       yes      no     yes   no    unknown   27   NaN   \n",
              "6396       yes      no     yes   no    unknown   27   NaN   \n",
              "8433       yes      no     yes   no    unknown    3   NaN   \n",
              "8792       yes      no     yes   no    unknown    4   NaN   \n",
              "10627      yes      no     yes   no    unknown   16   NaN   \n",
              "11016      yes      no      no   no    unknown   17   NaN   \n",
              "11284      yes      no      no   no    unknown   18   NaN   \n",
              "11394      yes      no     yes   no    unknown   19   NaN   \n",
              "14502      yes      no     yes   no  telephone   14   NaN   \n",
              "15795      yes      no     yes   no   cellular   21   NaN   \n",
              "16023      yes      no     yes   no   cellular   22   NaN   \n",
              "16850      yes      no      no  yes   cellular   25   NaN   \n",
              "17568       no      no      no   no   cellular   29   NaN   \n",
              "18431      yes      no     yes   no   cellular   31   NaN   \n",
              "18942      yes      no      no   no   cellular    4   NaN   \n",
              "19118      yes      no      no   no   cellular    5   NaN   \n",
              "19769      yes      no     yes   no   cellular    8   NaN   \n",
              "21777      yes      no      no   no   cellular   19   NaN   \n",
              "21962      yes      no     yes   no   cellular   20   NaN   \n",
              "23897      yes      no      no   no   cellular   29   NaN   \n",
              "25658      yes      no      no   no   cellular   19   NaN   \n",
              "27480       no      no      no   no   cellular   21   NaN   \n",
              "28693      yes      no      no   no   cellular   30   NaN   \n",
              "30740       no      no      no   no  telephone    6   NaN   \n",
              "31551      yes      no     yes   no   cellular    3   NaN   \n",
              "35773       no      no      no   no  telephone    8   NaN   \n",
              "37194      yes      no     yes  yes   cellular   13   NaN   \n",
              "37819      yes      no     yes   no   cellular   14   NaN   \n",
              "38158       no      no     yes   no   cellular   15   NaN   \n",
              "39188      yes      no     yes   no   cellular   18   NaN   \n",
              "41090       no      no      no   no   cellular   14   NaN   \n",
              "41434      yes      no     yes   no   cellular    4   NaN   \n",
              "41606       no      no      no   no   cellular   18   NaN   \n",
              "43001       no      no      no   no   cellular   11   NaN   \n",
              "43021      yes      no      no   no   cellular   12   NaN   \n",
              "43323      yes      no      no   no   cellular   18   NaN   \n",
              "44131      yes      no      no   no   cellular   12   NaN   \n",
              "44732       no      no      no   no   cellular    8   NaN   \n",
              "\n",
              "                    duration  campaign  pdays  previous poutcome response  \n",
              "189                  562 sec         1     -1         0  unknown       no  \n",
              "769                  148 sec         3     -1         0  unknown       no  \n",
              "860                  111 sec         1     -1         0  unknown       no  \n",
              "1267                 147 sec         1     -1         0  unknown       no  \n",
              "1685                 266 sec         1     -1         0  unknown       no  \n",
              "1899                1080 sec         5     -1         0  unknown       no  \n",
              "2433                 107 sec         1     -1         0  unknown       no  \n",
              "2612                 386 sec         1     -1         0  unknown       no  \n",
              "2747                 175 sec         3     -1         0  unknown       no  \n",
              "3556                  75 sec         8     -1         0  unknown       no  \n",
              "3890                 291 sec         1     -1         0  unknown       no  \n",
              "5311                 816 sec         2     -1         0  unknown       no  \n",
              "6265                  88 sec         2     -1         0  unknown       no  \n",
              "6396                 299 sec         1     -1         0  unknown       no  \n",
              "8433                 280 sec         1     -1         0  unknown       no  \n",
              "8792                  69 sec         3     -1         0  unknown       no  \n",
              "10627                332 sec         2     -1         0  unknown       no  \n",
              "11016                161 sec         3     -1         0  unknown       no  \n",
              "11284               2093 sec         1     -1         0  unknown      yes  \n",
              "11394                 34 sec        31     -1         0  unknown       no  \n",
              "14502                1.7 min        14     -1         0  unknown       no  \n",
              "15795   1.13333333333333 min        10     -1         0  unknown       no  \n",
              "16023               10.9 min         2     -1         0  unknown      yes  \n",
              "16850   1.91666666666667 min         3     -1         0  unknown       no  \n",
              "17568   1.38333333333333 min         2     -1         0  unknown       no  \n",
              "18431                1.9 min         2     -1         0  unknown       no  \n",
              "18942   1.51666666666667 min         1     -1         0  unknown       no  \n",
              "19118   2.93333333333333 min         2     -1         0  unknown       no  \n",
              "19769               1.25 min         2     -1         0  unknown       no  \n",
              "21777               3.45 min         6     -1         0  unknown       no  \n",
              "21962               0.25 min        19     -1         0  unknown       no  \n",
              "23897                2.8 min         2     -1         0  unknown       no  \n",
              "25658   2.33333333333333 min         2     -1         0  unknown       no  \n",
              "27480   6.28333333333333 min         1     -1         0  unknown       no  \n",
              "28693   2.81666666666667 min         3     -1         0  unknown       no  \n",
              "30740  0.733333333333333 min         9     -1         0  unknown       no  \n",
              "31551   5.86666666666667 min         1    332         2  failure       no  \n",
              "35773   5.01666666666667 min         1     -1         0  unknown       no  \n",
              "37194               1.45 min         1     -1         0  unknown       no  \n",
              "37819   1.91666666666667 min         3     -1         0  unknown       no  \n",
              "38158   3.98333333333333 min         1     -1         0  unknown       no  \n",
              "39188  0.366666666666667 min         2    346         2  failure       no  \n",
              "41090   3.73333333333333 min         3     -1         0  unknown       no  \n",
              "41434   2.13333333333333 min         1     -1         0  unknown       no  \n",
              "41606               4.45 min         2    114         2  failure      yes  \n",
              "43001   5.86666666666667 min         1    183         1  success      yes  \n",
              "43021   3.01666666666667 min         3     -1         0  unknown      yes  \n",
              "43323   6.03333333333333 min         1    290         3  success      yes  \n",
              "44131               2.05 min         2    185         1  success       no  \n",
              "44732                3.5 min         1     92         1  failure       no  "
            ],
            "text/html": [
              "\n",
              "  <div id=\"df-846266aa-0dea-4c90-89c2-c9d647801a1f\">\n",
              "    <div class=\"colab-df-container\">\n",
              "      <div>\n",
              "<style scoped>\n",
              "    .dataframe tbody tr th:only-of-type {\n",
              "        vertical-align: middle;\n",
              "    }\n",
              "\n",
              "    .dataframe tbody tr th {\n",
              "        vertical-align: top;\n",
              "    }\n",
              "\n",
              "    .dataframe thead th {\n",
              "        text-align: right;\n",
              "    }\n",
              "</style>\n",
              "<table border=\"1\" class=\"dataframe\">\n",
              "  <thead>\n",
              "    <tr style=\"text-align: right;\">\n",
              "      <th></th>\n",
              "      <th>customerid</th>\n",
              "      <th>age</th>\n",
              "      <th>salary</th>\n",
              "      <th>balance</th>\n",
              "      <th>marital</th>\n",
              "      <th>jobedu</th>\n",
              "      <th>targeted</th>\n",
              "      <th>default</th>\n",
              "      <th>housing</th>\n",
              "      <th>loan</th>\n",
              "      <th>contact</th>\n",
              "      <th>day</th>\n",
              "      <th>month</th>\n",
              "      <th>duration</th>\n",
              "      <th>campaign</th>\n",
              "      <th>pdays</th>\n",
              "      <th>previous</th>\n",
              "      <th>poutcome</th>\n",
              "      <th>response</th>\n",
              "    </tr>\n",
              "  </thead>\n",
              "  <tbody>\n",
              "    <tr>\n",
              "      <th>189</th>\n",
              "      <td>190</td>\n",
              "      <td>31.0</td>\n",
              "      <td>100000</td>\n",
              "      <td>0</td>\n",
              "      <td>single</td>\n",
              "      <td>management,tertiary</td>\n",
              "      <td>no</td>\n",
              "      <td>no</td>\n",
              "      <td>yes</td>\n",
              "      <td>no</td>\n",
              "      <td>unknown</td>\n",
              "      <td>5</td>\n",
              "      <td>NaN</td>\n",
              "      <td>562 sec</td>\n",
              "      <td>1</td>\n",
              "      <td>-1</td>\n",
              "      <td>0</td>\n",
              "      <td>unknown</td>\n",
              "      <td>no</td>\n",
              "    </tr>\n",
              "    <tr>\n",
              "      <th>769</th>\n",
              "      <td>770</td>\n",
              "      <td>39.0</td>\n",
              "      <td>20000</td>\n",
              "      <td>245</td>\n",
              "      <td>married</td>\n",
              "      <td>blue-collar,primary</td>\n",
              "      <td>yes</td>\n",
              "      <td>no</td>\n",
              "      <td>yes</td>\n",
              "      <td>no</td>\n",
              "      <td>unknown</td>\n",
              "      <td>7</td>\n",
              "      <td>NaN</td>\n",
              "      <td>148 sec</td>\n",
              "      <td>3</td>\n",
              "      <td>-1</td>\n",
              "      <td>0</td>\n",
              "      <td>unknown</td>\n",
              "      <td>no</td>\n",
              "    </tr>\n",
              "    <tr>\n",
              "      <th>860</th>\n",
              "      <td>861</td>\n",
              "      <td>33.0</td>\n",
              "      <td>55000</td>\n",
              "      <td>165</td>\n",
              "      <td>married</td>\n",
              "      <td>retired,secondary</td>\n",
              "      <td>yes</td>\n",
              "      <td>no</td>\n",
              "      <td>no</td>\n",
              "      <td>no</td>\n",
              "      <td>unknown</td>\n",
              "      <td>7</td>\n",
              "      <td>NaN</td>\n",
              "      <td>111 sec</td>\n",
              "      <td>1</td>\n",
              "      <td>-1</td>\n",
              "      <td>0</td>\n",
              "      <td>unknown</td>\n",
              "      <td>no</td>\n",
              "    </tr>\n",
              "    <tr>\n",
              "      <th>1267</th>\n",
              "      <td>1268</td>\n",
              "      <td>36.0</td>\n",
              "      <td>50000</td>\n",
              "      <td>114</td>\n",
              "      <td>married</td>\n",
              "      <td>admin.,secondary</td>\n",
              "      <td>yes</td>\n",
              "      <td>no</td>\n",
              "      <td>yes</td>\n",
              "      <td>yes</td>\n",
              "      <td>unknown</td>\n",
              "      <td>8</td>\n",
              "      <td>NaN</td>\n",
              "      <td>147 sec</td>\n",
              "      <td>1</td>\n",
              "      <td>-1</td>\n",
              "      <td>0</td>\n",
              "      <td>unknown</td>\n",
              "      <td>no</td>\n",
              "    </tr>\n",
              "    <tr>\n",
              "      <th>1685</th>\n",
              "      <td>1686</td>\n",
              "      <td>34.0</td>\n",
              "      <td>20000</td>\n",
              "      <td>457</td>\n",
              "      <td>married</td>\n",
              "      <td>blue-collar,secondary</td>\n",
              "      <td>yes</td>\n",
              "      <td>no</td>\n",
              "      <td>yes</td>\n",
              "      <td>no</td>\n",
              "      <td>unknown</td>\n",
              "      <td>9</td>\n",
              "      <td>NaN</td>\n",
              "      <td>266 sec</td>\n",
              "      <td>1</td>\n",
              "      <td>-1</td>\n",
              "      <td>0</td>\n",
              "      <td>unknown</td>\n",
              "      <td>no</td>\n",
              "    </tr>\n",
              "    <tr>\n",
              "      <th>1899</th>\n",
              "      <td>1900</td>\n",
              "      <td>49.0</td>\n",
              "      <td>16000</td>\n",
              "      <td>164</td>\n",
              "      <td>divorced</td>\n",
              "      <td>housemaid,primary</td>\n",
              "      <td>yes</td>\n",
              "      <td>no</td>\n",
              "      <td>yes</td>\n",
              "      <td>no</td>\n",
              "      <td>unknown</td>\n",
              "      <td>9</td>\n",
              "      <td>NaN</td>\n",
              "      <td>1080 sec</td>\n",
              "      <td>5</td>\n",
              "      <td>-1</td>\n",
              "      <td>0</td>\n",
              "      <td>unknown</td>\n",
              "      <td>no</td>\n",
              "    </tr>\n",
              "    <tr>\n",
              "      <th>2433</th>\n",
              "      <td>2434</td>\n",
              "      <td>26.0</td>\n",
              "      <td>60000</td>\n",
              "      <td>3825</td>\n",
              "      <td>married</td>\n",
              "      <td>technician,tertiary</td>\n",
              "      <td>yes</td>\n",
              "      <td>no</td>\n",
              "      <td>yes</td>\n",
              "      <td>no</td>\n",
              "      <td>unknown</td>\n",
              "      <td>13</td>\n",
              "      <td>NaN</td>\n",
              "      <td>107 sec</td>\n",
              "      <td>1</td>\n",
              "      <td>-1</td>\n",
              "      <td>0</td>\n",
              "      <td>unknown</td>\n",
              "      <td>no</td>\n",
              "    </tr>\n",
              "    <tr>\n",
              "      <th>2612</th>\n",
              "      <td>2613</td>\n",
              "      <td>38.0</td>\n",
              "      <td>50000</td>\n",
              "      <td>446</td>\n",
              "      <td>single</td>\n",
              "      <td>admin.,unknown</td>\n",
              "      <td>no</td>\n",
              "      <td>no</td>\n",
              "      <td>yes</td>\n",
              "      <td>no</td>\n",
              "      <td>unknown</td>\n",
              "      <td>13</td>\n",
              "      <td>NaN</td>\n",
              "      <td>386 sec</td>\n",
              "      <td>1</td>\n",
              "      <td>-1</td>\n",
              "      <td>0</td>\n",
              "      <td>unknown</td>\n",
              "      <td>no</td>\n",
              "    </tr>\n",
              "    <tr>\n",
              "      <th>2747</th>\n",
              "      <td>2748</td>\n",
              "      <td>48.0</td>\n",
              "      <td>120000</td>\n",
              "      <td>2550</td>\n",
              "      <td>married</td>\n",
              "      <td>entrepreneur,unknown</td>\n",
              "      <td>no</td>\n",
              "      <td>no</td>\n",
              "      <td>yes</td>\n",
              "      <td>no</td>\n",
              "      <td>unknown</td>\n",
              "      <td>14</td>\n",
              "      <td>NaN</td>\n",
              "      <td>175 sec</td>\n",
              "      <td>3</td>\n",
              "      <td>-1</td>\n",
              "      <td>0</td>\n",
              "      <td>unknown</td>\n",
              "      <td>no</td>\n",
              "    </tr>\n",
              "    <tr>\n",
              "      <th>3556</th>\n",
              "      <td>3557</td>\n",
              "      <td>41.0</td>\n",
              "      <td>20000</td>\n",
              "      <td>59</td>\n",
              "      <td>married</td>\n",
              "      <td>blue-collar,secondary</td>\n",
              "      <td>yes</td>\n",
              "      <td>no</td>\n",
              "      <td>yes</td>\n",
              "      <td>no</td>\n",
              "      <td>unknown</td>\n",
              "      <td>15</td>\n",
              "      <td>NaN</td>\n",
              "      <td>75 sec</td>\n",
              "      <td>8</td>\n",
              "      <td>-1</td>\n",
              "      <td>0</td>\n",
              "      <td>unknown</td>\n",
              "      <td>no</td>\n",
              "    </tr>\n",
              "    <tr>\n",
              "      <th>3890</th>\n",
              "      <td>3891</td>\n",
              "      <td>56.0</td>\n",
              "      <td>55000</td>\n",
              "      <td>4391</td>\n",
              "      <td>married</td>\n",
              "      <td>retired,unknown</td>\n",
              "      <td>no</td>\n",
              "      <td>no</td>\n",
              "      <td>yes</td>\n",
              "      <td>no</td>\n",
              "      <td>unknown</td>\n",
              "      <td>16</td>\n",
              "      <td>NaN</td>\n",
              "      <td>291 sec</td>\n",
              "      <td>1</td>\n",
              "      <td>-1</td>\n",
              "      <td>0</td>\n",
              "      <td>unknown</td>\n",
              "      <td>no</td>\n",
              "    </tr>\n",
              "    <tr>\n",
              "      <th>5311</th>\n",
              "      <td>5312</td>\n",
              "      <td>22.0</td>\n",
              "      <td>20000</td>\n",
              "      <td>0</td>\n",
              "      <td>single</td>\n",
              "      <td>blue-collar,secondary</td>\n",
              "      <td>yes</td>\n",
              "      <td>no</td>\n",
              "      <td>yes</td>\n",
              "      <td>no</td>\n",
              "      <td>unknown</td>\n",
              "      <td>23</td>\n",
              "      <td>NaN</td>\n",
              "      <td>816 sec</td>\n",
              "      <td>2</td>\n",
              "      <td>-1</td>\n",
              "      <td>0</td>\n",
              "      <td>unknown</td>\n",
              "      <td>no</td>\n",
              "    </tr>\n",
              "    <tr>\n",
              "      <th>6265</th>\n",
              "      <td>6266</td>\n",
              "      <td>32.0</td>\n",
              "      <td>50000</td>\n",
              "      <td>13</td>\n",
              "      <td>single</td>\n",
              "      <td>admin.,secondary</td>\n",
              "      <td>yes</td>\n",
              "      <td>no</td>\n",
              "      <td>yes</td>\n",
              "      <td>no</td>\n",
              "      <td>unknown</td>\n",
              "      <td>27</td>\n",
              "      <td>NaN</td>\n",
              "      <td>88 sec</td>\n",
              "      <td>2</td>\n",
              "      <td>-1</td>\n",
              "      <td>0</td>\n",
              "      <td>unknown</td>\n",
              "      <td>no</td>\n",
              "    </tr>\n",
              "    <tr>\n",
              "      <th>6396</th>\n",
              "      <td>6397</td>\n",
              "      <td>24.0</td>\n",
              "      <td>70000</td>\n",
              "      <td>0</td>\n",
              "      <td>married</td>\n",
              "      <td>services,tertiary</td>\n",
              "      <td>yes</td>\n",
              "      <td>no</td>\n",
              "      <td>yes</td>\n",
              "      <td>no</td>\n",
              "      <td>unknown</td>\n",
              "      <td>27</td>\n",
              "      <td>NaN</td>\n",
              "      <td>299 sec</td>\n",
              "      <td>1</td>\n",
              "      <td>-1</td>\n",
              "      <td>0</td>\n",
              "      <td>unknown</td>\n",
              "      <td>no</td>\n",
              "    </tr>\n",
              "    <tr>\n",
              "      <th>8433</th>\n",
              "      <td>8434</td>\n",
              "      <td>38.0</td>\n",
              "      <td>60000</td>\n",
              "      <td>12926</td>\n",
              "      <td>single</td>\n",
              "      <td>technician,secondary</td>\n",
              "      <td>yes</td>\n",
              "      <td>no</td>\n",
              "      <td>yes</td>\n",
              "      <td>no</td>\n",
              "      <td>unknown</td>\n",
              "      <td>3</td>\n",
              "      <td>NaN</td>\n",
              "      <td>280 sec</td>\n",
              "      <td>1</td>\n",
              "      <td>-1</td>\n",
              "      <td>0</td>\n",
              "      <td>unknown</td>\n",
              "      <td>no</td>\n",
              "    </tr>\n",
              "    <tr>\n",
              "      <th>8792</th>\n",
              "      <td>8793</td>\n",
              "      <td>24.0</td>\n",
              "      <td>50000</td>\n",
              "      <td>262</td>\n",
              "      <td>married</td>\n",
              "      <td>admin.,secondary</td>\n",
              "      <td>yes</td>\n",
              "      <td>no</td>\n",
              "      <td>yes</td>\n",
              "      <td>no</td>\n",
              "      <td>unknown</td>\n",
              "      <td>4</td>\n",
              "      <td>NaN</td>\n",
              "      <td>69 sec</td>\n",
              "      <td>3</td>\n",
              "      <td>-1</td>\n",
              "      <td>0</td>\n",
              "      <td>unknown</td>\n",
              "      <td>no</td>\n",
              "    </tr>\n",
              "    <tr>\n",
              "      <th>10627</th>\n",
              "      <td>10628</td>\n",
              "      <td>45.0</td>\n",
              "      <td>60000</td>\n",
              "      <td>533</td>\n",
              "      <td>married</td>\n",
              "      <td>technician,tertiary</td>\n",
              "      <td>yes</td>\n",
              "      <td>no</td>\n",
              "      <td>yes</td>\n",
              "      <td>no</td>\n",
              "      <td>unknown</td>\n",
              "      <td>16</td>\n",
              "      <td>NaN</td>\n",
              "      <td>332 sec</td>\n",
              "      <td>2</td>\n",
              "      <td>-1</td>\n",
              "      <td>0</td>\n",
              "      <td>unknown</td>\n",
              "      <td>no</td>\n",
              "    </tr>\n",
              "    <tr>\n",
              "      <th>11016</th>\n",
              "      <td>11017</td>\n",
              "      <td>46.0</td>\n",
              "      <td>70000</td>\n",
              "      <td>741</td>\n",
              "      <td>married</td>\n",
              "      <td>services,primary</td>\n",
              "      <td>yes</td>\n",
              "      <td>no</td>\n",
              "      <td>no</td>\n",
              "      <td>no</td>\n",
              "      <td>unknown</td>\n",
              "      <td>17</td>\n",
              "      <td>NaN</td>\n",
              "      <td>161 sec</td>\n",
              "      <td>3</td>\n",
              "      <td>-1</td>\n",
              "      <td>0</td>\n",
              "      <td>unknown</td>\n",
              "      <td>no</td>\n",
              "    </tr>\n",
              "    <tr>\n",
              "      <th>11284</th>\n",
              "      <td>11285</td>\n",
              "      <td>44.0</td>\n",
              "      <td>16000</td>\n",
              "      <td>1059</td>\n",
              "      <td>single</td>\n",
              "      <td>housemaid,primary</td>\n",
              "      <td>yes</td>\n",
              "      <td>no</td>\n",
              "      <td>no</td>\n",
              "      <td>no</td>\n",
              "      <td>unknown</td>\n",
              "      <td>18</td>\n",
              "      <td>NaN</td>\n",
              "      <td>2093 sec</td>\n",
              "      <td>1</td>\n",
              "      <td>-1</td>\n",
              "      <td>0</td>\n",
              "      <td>unknown</td>\n",
              "      <td>yes</td>\n",
              "    </tr>\n",
              "    <tr>\n",
              "      <th>11394</th>\n",
              "      <td>11395</td>\n",
              "      <td>54.0</td>\n",
              "      <td>60000</td>\n",
              "      <td>415</td>\n",
              "      <td>married</td>\n",
              "      <td>technician,secondary</td>\n",
              "      <td>yes</td>\n",
              "      <td>no</td>\n",
              "      <td>yes</td>\n",
              "      <td>no</td>\n",
              "      <td>unknown</td>\n",
              "      <td>19</td>\n",
              "      <td>NaN</td>\n",
              "      <td>34 sec</td>\n",
              "      <td>31</td>\n",
              "      <td>-1</td>\n",
              "      <td>0</td>\n",
              "      <td>unknown</td>\n",
              "      <td>no</td>\n",
              "    </tr>\n",
              "    <tr>\n",
              "      <th>14502</th>\n",
              "      <td>14503</td>\n",
              "      <td>35.0</td>\n",
              "      <td>70000</td>\n",
              "      <td>819</td>\n",
              "      <td>married</td>\n",
              "      <td>services,secondary</td>\n",
              "      <td>yes</td>\n",
              "      <td>no</td>\n",
              "      <td>yes</td>\n",
              "      <td>no</td>\n",
              "      <td>telephone</td>\n",
              "      <td>14</td>\n",
              "      <td>NaN</td>\n",
              "      <td>1.7 min</td>\n",
              "      <td>14</td>\n",
              "      <td>-1</td>\n",
              "      <td>0</td>\n",
              "      <td>unknown</td>\n",
              "      <td>no</td>\n",
              "    </tr>\n",
              "    <tr>\n",
              "      <th>15795</th>\n",
              "      <td>15796</td>\n",
              "      <td>38.0</td>\n",
              "      <td>20000</td>\n",
              "      <td>-41</td>\n",
              "      <td>married</td>\n",
              "      <td>blue-collar,primary</td>\n",
              "      <td>yes</td>\n",
              "      <td>no</td>\n",
              "      <td>yes</td>\n",
              "      <td>no</td>\n",
              "      <td>cellular</td>\n",
              "      <td>21</td>\n",
              "      <td>NaN</td>\n",
              "      <td>1.13333333333333 min</td>\n",
              "      <td>10</td>\n",
              "      <td>-1</td>\n",
              "      <td>0</td>\n",
              "      <td>unknown</td>\n",
              "      <td>no</td>\n",
              "    </tr>\n",
              "    <tr>\n",
              "      <th>16023</th>\n",
              "      <td>16024</td>\n",
              "      <td>35.0</td>\n",
              "      <td>60000</td>\n",
              "      <td>328</td>\n",
              "      <td>married</td>\n",
              "      <td>technician,tertiary</td>\n",
              "      <td>yes</td>\n",
              "      <td>no</td>\n",
              "      <td>yes</td>\n",
              "      <td>no</td>\n",
              "      <td>cellular</td>\n",
              "      <td>22</td>\n",
              "      <td>NaN</td>\n",
              "      <td>10.9 min</td>\n",
              "      <td>2</td>\n",
              "      <td>-1</td>\n",
              "      <td>0</td>\n",
              "      <td>unknown</td>\n",
              "      <td>yes</td>\n",
              "    </tr>\n",
              "    <tr>\n",
              "      <th>16850</th>\n",
              "      <td>16851</td>\n",
              "      <td>45.0</td>\n",
              "      <td>55000</td>\n",
              "      <td>25</td>\n",
              "      <td>married</td>\n",
              "      <td>retired,primary</td>\n",
              "      <td>yes</td>\n",
              "      <td>no</td>\n",
              "      <td>no</td>\n",
              "      <td>yes</td>\n",
              "      <td>cellular</td>\n",
              "      <td>25</td>\n",
              "      <td>NaN</td>\n",
              "      <td>1.91666666666667 min</td>\n",
              "      <td>3</td>\n",
              "      <td>-1</td>\n",
              "      <td>0</td>\n",
              "      <td>unknown</td>\n",
              "      <td>no</td>\n",
              "    </tr>\n",
              "    <tr>\n",
              "      <th>17568</th>\n",
              "      <td>17569</td>\n",
              "      <td>56.0</td>\n",
              "      <td>70000</td>\n",
              "      <td>0</td>\n",
              "      <td>married</td>\n",
              "      <td>services,unknown</td>\n",
              "      <td>no</td>\n",
              "      <td>no</td>\n",
              "      <td>no</td>\n",
              "      <td>no</td>\n",
              "      <td>cellular</td>\n",
              "      <td>29</td>\n",
              "      <td>NaN</td>\n",
              "      <td>1.38333333333333 min</td>\n",
              "      <td>2</td>\n",
              "      <td>-1</td>\n",
              "      <td>0</td>\n",
              "      <td>unknown</td>\n",
              "      <td>no</td>\n",
              "    </tr>\n",
              "    <tr>\n",
              "      <th>18431</th>\n",
              "      <td>18432</td>\n",
              "      <td>42.0</td>\n",
              "      <td>70000</td>\n",
              "      <td>247</td>\n",
              "      <td>single</td>\n",
              "      <td>services,secondary</td>\n",
              "      <td>yes</td>\n",
              "      <td>no</td>\n",
              "      <td>yes</td>\n",
              "      <td>no</td>\n",
              "      <td>cellular</td>\n",
              "      <td>31</td>\n",
              "      <td>NaN</td>\n",
              "      <td>1.9 min</td>\n",
              "      <td>2</td>\n",
              "      <td>-1</td>\n",
              "      <td>0</td>\n",
              "      <td>unknown</td>\n",
              "      <td>no</td>\n",
              "    </tr>\n",
              "    <tr>\n",
              "      <th>18942</th>\n",
              "      <td>18943</td>\n",
              "      <td>49.0</td>\n",
              "      <td>50000</td>\n",
              "      <td>949</td>\n",
              "      <td>married</td>\n",
              "      <td>admin.,secondary</td>\n",
              "      <td>yes</td>\n",
              "      <td>no</td>\n",
              "      <td>no</td>\n",
              "      <td>no</td>\n",
              "      <td>cellular</td>\n",
              "      <td>4</td>\n",
              "      <td>NaN</td>\n",
              "      <td>1.51666666666667 min</td>\n",
              "      <td>1</td>\n",
              "      <td>-1</td>\n",
              "      <td>0</td>\n",
              "      <td>unknown</td>\n",
              "      <td>no</td>\n",
              "    </tr>\n",
              "    <tr>\n",
              "      <th>19118</th>\n",
              "      <td>19119</td>\n",
              "      <td>38.0</td>\n",
              "      <td>50000</td>\n",
              "      <td>1980</td>\n",
              "      <td>married</td>\n",
              "      <td>admin.,tertiary</td>\n",
              "      <td>yes</td>\n",
              "      <td>no</td>\n",
              "      <td>no</td>\n",
              "      <td>no</td>\n",
              "      <td>cellular</td>\n",
              "      <td>5</td>\n",
              "      <td>NaN</td>\n",
              "      <td>2.93333333333333 min</td>\n",
              "      <td>2</td>\n",
              "      <td>-1</td>\n",
              "      <td>0</td>\n",
              "      <td>unknown</td>\n",
              "      <td>no</td>\n",
              "    </tr>\n",
              "    <tr>\n",
              "      <th>19769</th>\n",
              "      <td>19770</td>\n",
              "      <td>36.0</td>\n",
              "      <td>100000</td>\n",
              "      <td>162</td>\n",
              "      <td>married</td>\n",
              "      <td>management,tertiary</td>\n",
              "      <td>yes</td>\n",
              "      <td>no</td>\n",
              "      <td>yes</td>\n",
              "      <td>no</td>\n",
              "      <td>cellular</td>\n",
              "      <td>8</td>\n",
              "      <td>NaN</td>\n",
              "      <td>1.25 min</td>\n",
              "      <td>2</td>\n",
              "      <td>-1</td>\n",
              "      <td>0</td>\n",
              "      <td>unknown</td>\n",
              "      <td>no</td>\n",
              "    </tr>\n",
              "    <tr>\n",
              "      <th>21777</th>\n",
              "      <td>21778</td>\n",
              "      <td>56.0</td>\n",
              "      <td>16000</td>\n",
              "      <td>605</td>\n",
              "      <td>married</td>\n",
              "      <td>housemaid,primary</td>\n",
              "      <td>yes</td>\n",
              "      <td>no</td>\n",
              "      <td>no</td>\n",
              "      <td>no</td>\n",
              "      <td>cellular</td>\n",
              "      <td>19</td>\n",
              "      <td>NaN</td>\n",
              "      <td>3.45 min</td>\n",
              "      <td>6</td>\n",
              "      <td>-1</td>\n",
              "      <td>0</td>\n",
              "      <td>unknown</td>\n",
              "      <td>no</td>\n",
              "    </tr>\n",
              "    <tr>\n",
              "      <th>21962</th>\n",
              "      <td>21963</td>\n",
              "      <td>36.0</td>\n",
              "      <td>60000</td>\n",
              "      <td>1044</td>\n",
              "      <td>single</td>\n",
              "      <td>technician,secondary</td>\n",
              "      <td>yes</td>\n",
              "      <td>no</td>\n",
              "      <td>yes</td>\n",
              "      <td>no</td>\n",
              "      <td>cellular</td>\n",
              "      <td>20</td>\n",
              "      <td>NaN</td>\n",
              "      <td>0.25 min</td>\n",
              "      <td>19</td>\n",
              "      <td>-1</td>\n",
              "      <td>0</td>\n",
              "      <td>unknown</td>\n",
              "      <td>no</td>\n",
              "    </tr>\n",
              "    <tr>\n",
              "      <th>23897</th>\n",
              "      <td>23898</td>\n",
              "      <td>46.0</td>\n",
              "      <td>20000</td>\n",
              "      <td>123</td>\n",
              "      <td>married</td>\n",
              "      <td>blue-collar,primary</td>\n",
              "      <td>yes</td>\n",
              "      <td>no</td>\n",
              "      <td>no</td>\n",
              "      <td>no</td>\n",
              "      <td>cellular</td>\n",
              "      <td>29</td>\n",
              "      <td>NaN</td>\n",
              "      <td>2.8 min</td>\n",
              "      <td>2</td>\n",
              "      <td>-1</td>\n",
              "      <td>0</td>\n",
              "      <td>unknown</td>\n",
              "      <td>no</td>\n",
              "    </tr>\n",
              "    <tr>\n",
              "      <th>25658</th>\n",
              "      <td>25659</td>\n",
              "      <td>35.0</td>\n",
              "      <td>60000</td>\n",
              "      <td>8647</td>\n",
              "      <td>married</td>\n",
              "      <td>self-employed,tertiary</td>\n",
              "      <td>yes</td>\n",
              "      <td>no</td>\n",
              "      <td>no</td>\n",
              "      <td>no</td>\n",
              "      <td>cellular</td>\n",
              "      <td>19</td>\n",
              "      <td>NaN</td>\n",
              "      <td>2.33333333333333 min</td>\n",
              "      <td>2</td>\n",
              "      <td>-1</td>\n",
              "      <td>0</td>\n",
              "      <td>unknown</td>\n",
              "      <td>no</td>\n",
              "    </tr>\n",
              "    <tr>\n",
              "      <th>27480</th>\n",
              "      <td>27481</td>\n",
              "      <td>31.0</td>\n",
              "      <td>100000</td>\n",
              "      <td>3283</td>\n",
              "      <td>single</td>\n",
              "      <td>management,tertiary</td>\n",
              "      <td>no</td>\n",
              "      <td>no</td>\n",
              "      <td>no</td>\n",
              "      <td>no</td>\n",
              "      <td>cellular</td>\n",
              "      <td>21</td>\n",
              "      <td>NaN</td>\n",
              "      <td>6.28333333333333 min</td>\n",
              "      <td>1</td>\n",
              "      <td>-1</td>\n",
              "      <td>0</td>\n",
              "      <td>unknown</td>\n",
              "      <td>no</td>\n",
              "    </tr>\n",
              "    <tr>\n",
              "      <th>28693</th>\n",
              "      <td>28694</td>\n",
              "      <td>26.0</td>\n",
              "      <td>16000</td>\n",
              "      <td>543</td>\n",
              "      <td>married</td>\n",
              "      <td>housemaid,tertiary</td>\n",
              "      <td>yes</td>\n",
              "      <td>no</td>\n",
              "      <td>no</td>\n",
              "      <td>no</td>\n",
              "      <td>cellular</td>\n",
              "      <td>30</td>\n",
              "      <td>NaN</td>\n",
              "      <td>2.81666666666667 min</td>\n",
              "      <td>3</td>\n",
              "      <td>-1</td>\n",
              "      <td>0</td>\n",
              "      <td>unknown</td>\n",
              "      <td>no</td>\n",
              "    </tr>\n",
              "    <tr>\n",
              "      <th>30740</th>\n",
              "      <td>30741</td>\n",
              "      <td>32.0</td>\n",
              "      <td>100000</td>\n",
              "      <td>2770</td>\n",
              "      <td>single</td>\n",
              "      <td>management,tertiary</td>\n",
              "      <td>no</td>\n",
              "      <td>no</td>\n",
              "      <td>no</td>\n",
              "      <td>no</td>\n",
              "      <td>telephone</td>\n",
              "      <td>6</td>\n",
              "      <td>NaN</td>\n",
              "      <td>0.733333333333333 min</td>\n",
              "      <td>9</td>\n",
              "      <td>-1</td>\n",
              "      <td>0</td>\n",
              "      <td>unknown</td>\n",
              "      <td>no</td>\n",
              "    </tr>\n",
              "    <tr>\n",
              "      <th>31551</th>\n",
              "      <td>31552</td>\n",
              "      <td>54.0</td>\n",
              "      <td>55000</td>\n",
              "      <td>136</td>\n",
              "      <td>married</td>\n",
              "      <td>retired,primary</td>\n",
              "      <td>yes</td>\n",
              "      <td>no</td>\n",
              "      <td>yes</td>\n",
              "      <td>no</td>\n",
              "      <td>cellular</td>\n",
              "      <td>3</td>\n",
              "      <td>NaN</td>\n",
              "      <td>5.86666666666667 min</td>\n",
              "      <td>1</td>\n",
              "      <td>332</td>\n",
              "      <td>2</td>\n",
              "      <td>failure</td>\n",
              "      <td>no</td>\n",
              "    </tr>\n",
              "    <tr>\n",
              "      <th>35773</th>\n",
              "      <td>35774</td>\n",
              "      <td>52.0</td>\n",
              "      <td>20000</td>\n",
              "      <td>33</td>\n",
              "      <td>married</td>\n",
              "      <td>blue-collar,unknown</td>\n",
              "      <td>no</td>\n",
              "      <td>no</td>\n",
              "      <td>no</td>\n",
              "      <td>no</td>\n",
              "      <td>telephone</td>\n",
              "      <td>8</td>\n",
              "      <td>NaN</td>\n",
              "      <td>5.01666666666667 min</td>\n",
              "      <td>1</td>\n",
              "      <td>-1</td>\n",
              "      <td>0</td>\n",
              "      <td>unknown</td>\n",
              "      <td>no</td>\n",
              "    </tr>\n",
              "    <tr>\n",
              "      <th>37194</th>\n",
              "      <td>37195</td>\n",
              "      <td>36.0</td>\n",
              "      <td>20000</td>\n",
              "      <td>1969</td>\n",
              "      <td>married</td>\n",
              "      <td>blue-collar,secondary</td>\n",
              "      <td>yes</td>\n",
              "      <td>no</td>\n",
              "      <td>yes</td>\n",
              "      <td>yes</td>\n",
              "      <td>cellular</td>\n",
              "      <td>13</td>\n",
              "      <td>NaN</td>\n",
              "      <td>1.45 min</td>\n",
              "      <td>1</td>\n",
              "      <td>-1</td>\n",
              "      <td>0</td>\n",
              "      <td>unknown</td>\n",
              "      <td>no</td>\n",
              "    </tr>\n",
              "    <tr>\n",
              "      <th>37819</th>\n",
              "      <td>37820</td>\n",
              "      <td>34.0</td>\n",
              "      <td>20000</td>\n",
              "      <td>237</td>\n",
              "      <td>married</td>\n",
              "      <td>blue-collar,secondary</td>\n",
              "      <td>yes</td>\n",
              "      <td>no</td>\n",
              "      <td>yes</td>\n",
              "      <td>no</td>\n",
              "      <td>cellular</td>\n",
              "      <td>14</td>\n",
              "      <td>NaN</td>\n",
              "      <td>1.91666666666667 min</td>\n",
              "      <td>3</td>\n",
              "      <td>-1</td>\n",
              "      <td>0</td>\n",
              "      <td>unknown</td>\n",
              "      <td>no</td>\n",
              "    </tr>\n",
              "    <tr>\n",
              "      <th>38158</th>\n",
              "      <td>38159</td>\n",
              "      <td>34.0</td>\n",
              "      <td>60000</td>\n",
              "      <td>1317</td>\n",
              "      <td>divorced</td>\n",
              "      <td>technician,tertiary</td>\n",
              "      <td>no</td>\n",
              "      <td>no</td>\n",
              "      <td>yes</td>\n",
              "      <td>no</td>\n",
              "      <td>cellular</td>\n",
              "      <td>15</td>\n",
              "      <td>NaN</td>\n",
              "      <td>3.98333333333333 min</td>\n",
              "      <td>1</td>\n",
              "      <td>-1</td>\n",
              "      <td>0</td>\n",
              "      <td>unknown</td>\n",
              "      <td>no</td>\n",
              "    </tr>\n",
              "    <tr>\n",
              "      <th>39188</th>\n",
              "      <td>39189</td>\n",
              "      <td>30.0</td>\n",
              "      <td>60000</td>\n",
              "      <td>778</td>\n",
              "      <td>single</td>\n",
              "      <td>technician,secondary</td>\n",
              "      <td>yes</td>\n",
              "      <td>no</td>\n",
              "      <td>yes</td>\n",
              "      <td>no</td>\n",
              "      <td>cellular</td>\n",
              "      <td>18</td>\n",
              "      <td>NaN</td>\n",
              "      <td>0.366666666666667 min</td>\n",
              "      <td>2</td>\n",
              "      <td>346</td>\n",
              "      <td>2</td>\n",
              "      <td>failure</td>\n",
              "      <td>no</td>\n",
              "    </tr>\n",
              "    <tr>\n",
              "      <th>41090</th>\n",
              "      <td>41091</td>\n",
              "      <td>35.0</td>\n",
              "      <td>100000</td>\n",
              "      <td>7218</td>\n",
              "      <td>single</td>\n",
              "      <td>management,tertiary</td>\n",
              "      <td>no</td>\n",
              "      <td>no</td>\n",
              "      <td>no</td>\n",
              "      <td>no</td>\n",
              "      <td>cellular</td>\n",
              "      <td>14</td>\n",
              "      <td>NaN</td>\n",
              "      <td>3.73333333333333 min</td>\n",
              "      <td>3</td>\n",
              "      <td>-1</td>\n",
              "      <td>0</td>\n",
              "      <td>unknown</td>\n",
              "      <td>no</td>\n",
              "    </tr>\n",
              "    <tr>\n",
              "      <th>41434</th>\n",
              "      <td>41435</td>\n",
              "      <td>43.0</td>\n",
              "      <td>100000</td>\n",
              "      <td>13450</td>\n",
              "      <td>married</td>\n",
              "      <td>management,tertiary</td>\n",
              "      <td>yes</td>\n",
              "      <td>no</td>\n",
              "      <td>yes</td>\n",
              "      <td>no</td>\n",
              "      <td>cellular</td>\n",
              "      <td>4</td>\n",
              "      <td>NaN</td>\n",
              "      <td>2.13333333333333 min</td>\n",
              "      <td>1</td>\n",
              "      <td>-1</td>\n",
              "      <td>0</td>\n",
              "      <td>unknown</td>\n",
              "      <td>no</td>\n",
              "    </tr>\n",
              "    <tr>\n",
              "      <th>41606</th>\n",
              "      <td>41607</td>\n",
              "      <td>25.0</td>\n",
              "      <td>100000</td>\n",
              "      <td>808</td>\n",
              "      <td>single</td>\n",
              "      <td>management,tertiary</td>\n",
              "      <td>no</td>\n",
              "      <td>no</td>\n",
              "      <td>no</td>\n",
              "      <td>no</td>\n",
              "      <td>cellular</td>\n",
              "      <td>18</td>\n",
              "      <td>NaN</td>\n",
              "      <td>4.45 min</td>\n",
              "      <td>2</td>\n",
              "      <td>114</td>\n",
              "      <td>2</td>\n",
              "      <td>failure</td>\n",
              "      <td>yes</td>\n",
              "    </tr>\n",
              "    <tr>\n",
              "      <th>43001</th>\n",
              "      <td>43002</td>\n",
              "      <td>35.0</td>\n",
              "      <td>60000</td>\n",
              "      <td>353</td>\n",
              "      <td>single</td>\n",
              "      <td>self-employed,tertiary</td>\n",
              "      <td>no</td>\n",
              "      <td>no</td>\n",
              "      <td>no</td>\n",
              "      <td>no</td>\n",
              "      <td>cellular</td>\n",
              "      <td>11</td>\n",
              "      <td>NaN</td>\n",
              "      <td>5.86666666666667 min</td>\n",
              "      <td>1</td>\n",
              "      <td>183</td>\n",
              "      <td>1</td>\n",
              "      <td>success</td>\n",
              "      <td>yes</td>\n",
              "    </tr>\n",
              "    <tr>\n",
              "      <th>43021</th>\n",
              "      <td>43022</td>\n",
              "      <td>52.0</td>\n",
              "      <td>100000</td>\n",
              "      <td>4675</td>\n",
              "      <td>married</td>\n",
              "      <td>management,tertiary</td>\n",
              "      <td>yes</td>\n",
              "      <td>no</td>\n",
              "      <td>no</td>\n",
              "      <td>no</td>\n",
              "      <td>cellular</td>\n",
              "      <td>12</td>\n",
              "      <td>NaN</td>\n",
              "      <td>3.01666666666667 min</td>\n",
              "      <td>3</td>\n",
              "      <td>-1</td>\n",
              "      <td>0</td>\n",
              "      <td>unknown</td>\n",
              "      <td>yes</td>\n",
              "    </tr>\n",
              "    <tr>\n",
              "      <th>43323</th>\n",
              "      <td>43324</td>\n",
              "      <td>54.0</td>\n",
              "      <td>70000</td>\n",
              "      <td>0</td>\n",
              "      <td>divorced</td>\n",
              "      <td>services,secondary</td>\n",
              "      <td>yes</td>\n",
              "      <td>no</td>\n",
              "      <td>no</td>\n",
              "      <td>no</td>\n",
              "      <td>cellular</td>\n",
              "      <td>18</td>\n",
              "      <td>NaN</td>\n",
              "      <td>6.03333333333333 min</td>\n",
              "      <td>1</td>\n",
              "      <td>290</td>\n",
              "      <td>3</td>\n",
              "      <td>success</td>\n",
              "      <td>yes</td>\n",
              "    </tr>\n",
              "    <tr>\n",
              "      <th>44131</th>\n",
              "      <td>44132</td>\n",
              "      <td>27.0</td>\n",
              "      <td>100000</td>\n",
              "      <td>843</td>\n",
              "      <td>single</td>\n",
              "      <td>management,secondary</td>\n",
              "      <td>yes</td>\n",
              "      <td>no</td>\n",
              "      <td>no</td>\n",
              "      <td>no</td>\n",
              "      <td>cellular</td>\n",
              "      <td>12</td>\n",
              "      <td>NaN</td>\n",
              "      <td>2.05 min</td>\n",
              "      <td>2</td>\n",
              "      <td>185</td>\n",
              "      <td>1</td>\n",
              "      <td>success</td>\n",
              "      <td>no</td>\n",
              "    </tr>\n",
              "    <tr>\n",
              "      <th>44732</th>\n",
              "      <td>44733</td>\n",
              "      <td>23.0</td>\n",
              "      <td>4000</td>\n",
              "      <td>508</td>\n",
              "      <td>single</td>\n",
              "      <td>student,tertiary</td>\n",
              "      <td>no</td>\n",
              "      <td>no</td>\n",
              "      <td>no</td>\n",
              "      <td>no</td>\n",
              "      <td>cellular</td>\n",
              "      <td>8</td>\n",
              "      <td>NaN</td>\n",
              "      <td>3.5 min</td>\n",
              "      <td>1</td>\n",
              "      <td>92</td>\n",
              "      <td>1</td>\n",
              "      <td>failure</td>\n",
              "      <td>no</td>\n",
              "    </tr>\n",
              "  </tbody>\n",
              "</table>\n",
              "</div>\n",
              "      <button class=\"colab-df-convert\" onclick=\"convertToInteractive('df-846266aa-0dea-4c90-89c2-c9d647801a1f')\"\n",
              "              title=\"Convert this dataframe to an interactive table.\"\n",
              "              style=\"display:none;\">\n",
              "        \n",
              "  <svg xmlns=\"http://www.w3.org/2000/svg\" height=\"24px\"viewBox=\"0 0 24 24\"\n",
              "       width=\"24px\">\n",
              "    <path d=\"M0 0h24v24H0V0z\" fill=\"none\"/>\n",
              "    <path d=\"M18.56 5.44l.94 2.06.94-2.06 2.06-.94-2.06-.94-.94-2.06-.94 2.06-2.06.94zm-11 1L8.5 8.5l.94-2.06 2.06-.94-2.06-.94L8.5 2.5l-.94 2.06-2.06.94zm10 10l.94 2.06.94-2.06 2.06-.94-2.06-.94-.94-2.06-.94 2.06-2.06.94z\"/><path d=\"M17.41 7.96l-1.37-1.37c-.4-.4-.92-.59-1.43-.59-.52 0-1.04.2-1.43.59L10.3 9.45l-7.72 7.72c-.78.78-.78 2.05 0 2.83L4 21.41c.39.39.9.59 1.41.59.51 0 1.02-.2 1.41-.59l7.78-7.78 2.81-2.81c.8-.78.8-2.07 0-2.86zM5.41 20L4 18.59l7.72-7.72 1.47 1.35L5.41 20z\"/>\n",
              "  </svg>\n",
              "      </button>\n",
              "      \n",
              "  <style>\n",
              "    .colab-df-container {\n",
              "      display:flex;\n",
              "      flex-wrap:wrap;\n",
              "      gap: 12px;\n",
              "    }\n",
              "\n",
              "    .colab-df-convert {\n",
              "      background-color: #E8F0FE;\n",
              "      border: none;\n",
              "      border-radius: 50%;\n",
              "      cursor: pointer;\n",
              "      display: none;\n",
              "      fill: #1967D2;\n",
              "      height: 32px;\n",
              "      padding: 0 0 0 0;\n",
              "      width: 32px;\n",
              "    }\n",
              "\n",
              "    .colab-df-convert:hover {\n",
              "      background-color: #E2EBFA;\n",
              "      box-shadow: 0px 1px 2px rgba(60, 64, 67, 0.3), 0px 1px 3px 1px rgba(60, 64, 67, 0.15);\n",
              "      fill: #174EA6;\n",
              "    }\n",
              "\n",
              "    [theme=dark] .colab-df-convert {\n",
              "      background-color: #3B4455;\n",
              "      fill: #D2E3FC;\n",
              "    }\n",
              "\n",
              "    [theme=dark] .colab-df-convert:hover {\n",
              "      background-color: #434B5C;\n",
              "      box-shadow: 0px 1px 3px 1px rgba(0, 0, 0, 0.15);\n",
              "      filter: drop-shadow(0px 1px 2px rgba(0, 0, 0, 0.3));\n",
              "      fill: #FFFFFF;\n",
              "    }\n",
              "  </style>\n",
              "\n",
              "      <script>\n",
              "        const buttonEl =\n",
              "          document.querySelector('#df-846266aa-0dea-4c90-89c2-c9d647801a1f button.colab-df-convert');\n",
              "        buttonEl.style.display =\n",
              "          google.colab.kernel.accessAllowed ? 'block' : 'none';\n",
              "\n",
              "        async function convertToInteractive(key) {\n",
              "          const element = document.querySelector('#df-846266aa-0dea-4c90-89c2-c9d647801a1f');\n",
              "          const dataTable =\n",
              "            await google.colab.kernel.invokeFunction('convertToInteractive',\n",
              "                                                     [key], {});\n",
              "          if (!dataTable) return;\n",
              "\n",
              "          const docLinkHtml = 'Like what you see? Visit the ' +\n",
              "            '<a target=\"_blank\" href=https://colab.research.google.com/notebooks/data_table.ipynb>data table notebook</a>'\n",
              "            + ' to learn more about interactive tables.';\n",
              "          element.innerHTML = '';\n",
              "          dataTable['output_type'] = 'display_data';\n",
              "          await google.colab.output.renderOutput(dataTable, element);\n",
              "          const docLink = document.createElement('div');\n",
              "          docLink.innerHTML = docLinkHtml;\n",
              "          element.appendChild(docLink);\n",
              "        }\n",
              "      </script>\n",
              "    </div>\n",
              "  </div>\n",
              "  "
            ]
          },
          "metadata": {},
          "execution_count": 16
        }
      ]
    },
    {
      "cell_type": "code",
      "source": [
        "# Analyzing the rows where response has null values\n",
        "\n",
        "df.loc[df['response'].isnull()]\n",
        "\n",
        "\n",
        "# No such particular pattern and can be dropped"
      ],
      "metadata": {
        "colab": {
          "base_uri": "https://localhost:8080/",
          "height": 1000
        },
        "id": "kOEDa7bDuk2U",
        "outputId": "5eb325a4-3849-4a3e-fefe-0f42d0268be4"
      },
      "execution_count": 17,
      "outputs": [
        {
          "output_type": "execute_result",
          "data": {
            "text/plain": [
              "       customerid   age  salary  balance   marital                  jobedu  \\\n",
              "1016         1017  37.0   20000      139  divorced     blue-collar,primary   \n",
              "2027         2028  33.0   60000        0   married    technician,secondary   \n",
              "2568         2569  31.0   20000       81   married     blue-collar,primary   \n",
              "2695         2696  38.0   20000        0   married     blue-collar,primary   \n",
              "5258         5259  37.0   60000        0   married    technician,secondary   \n",
              "8529         8530  45.0  100000     1373   married     management,tertiary   \n",
              "8571         8572  44.0   70000    -1621   married      services,secondary   \n",
              "9268         9269  58.0   16000      419   married       housemaid,primary   \n",
              "11534       11535  55.0  100000      179   married      management,unknown   \n",
              "12185       12186  45.0   20000     -160   married     blue-collar,primary   \n",
              "17262       17263  40.0   60000      134    single    technician,secondary   \n",
              "21243       21244  35.0  100000      750   married     management,tertiary   \n",
              "21271       21272  56.0   70000     4914   married      services,secondary   \n",
              "22002       22003  30.0   60000      790    single    technician,secondary   \n",
              "23247       23248  32.0  100000     2204   married     management,tertiary   \n",
              "24253       24254  39.0   50000      401   married        admin.,secondary   \n",
              "24276       24277  31.0  120000     1454    single   entrepreneur,tertiary   \n",
              "24300       24301  42.0   60000       35    single     technician,tertiary   \n",
              "25851       25852  31.0   70000      593   married      services,secondary   \n",
              "26557       26558  34.0   60000     1545   married  self-employed,tertiary   \n",
              "29127       29128  29.0   50000      196    single        admin.,secondary   \n",
              "32606       32607  31.0   60000      578    single  self-employed,tertiary   \n",
              "33763       33764  31.0   60000     1734    single  self-employed,tertiary   \n",
              "37065       37066  39.0   70000      276   married        services,primary   \n",
              "38044       38045  55.0   50000     -288  divorced        admin.,secondary   \n",
              "39099       39100  29.0   60000      476    single  self-employed,tertiary   \n",
              "39504       39505  38.0   50000      755   married        admin.,secondary   \n",
              "39976       39977  39.0   50000      150   married        admin.,secondary   \n",
              "40397       40398  69.0   55000     1806  divorced       retired,secondary   \n",
              "40774       40775  70.0   20000     3075   married     blue-collar,primary   \n",
              "\n",
              "      targeted default housing loan    contact  day      month  \\\n",
              "1016       yes      no     yes   no    unknown    7  may, 2017   \n",
              "2027       yes      no     yes  yes    unknown    9  may, 2017   \n",
              "2568       yes      no     yes   no    unknown   13  may, 2017   \n",
              "2695       yes      no      no   no    unknown   13  may, 2017   \n",
              "5258       yes      no     yes   no    unknown   23  may, 2017   \n",
              "8529       yes      no     yes   no    unknown    3  jun, 2017   \n",
              "8571       yes      no     yes  yes    unknown    3  jun, 2017   \n",
              "9268       yes      no      no  yes    unknown    5  jun, 2017   \n",
              "11534       no      no      no   no    unknown   19  jun, 2017   \n",
              "12185      yes      no     yes   no    unknown   20  jun, 2017   \n",
              "17262      yes      no     yes  yes   cellular   28  jul, 2017   \n",
              "21243      yes      no     yes   no   cellular   18  aug, 2017   \n",
              "21271      yes      no      no   no   cellular   18  aug, 2017   \n",
              "22002      yes      no      no   no   cellular   20  aug, 2017   \n",
              "23247      yes      no      no   no   cellular   27  aug, 2017   \n",
              "24253      yes      no     yes   no   cellular   17  nov, 2017   \n",
              "24276       no      no      no   no   cellular   17  nov, 2017   \n",
              "24300       no      no     yes  yes   cellular   17  nov, 2017   \n",
              "25851      yes      no     yes   no   cellular   19  nov, 2017   \n",
              "26557      yes      no     yes   no   cellular   20  nov, 2017   \n",
              "29127      yes      no      no   no  telephone    2  feb, 2017   \n",
              "32606       no      no     yes   no   cellular   17  apr, 2017   \n",
              "33763       no      no      no   no   cellular   22  apr, 2017   \n",
              "37065      yes      no     yes  yes   cellular   13  may, 2017   \n",
              "38044      yes      no     yes   no   cellular   14  may, 2017   \n",
              "39099       no      no     yes   no   cellular   18  may, 2017   \n",
              "39504      yes      no     yes   no   cellular   25  may, 2017   \n",
              "39976      yes      no      no   no   cellular    3  jun, 2017   \n",
              "40397      yes      no      no   no   cellular    1  jul, 2017   \n",
              "40774      yes      no      no   no  telephone   10  aug, 2017   \n",
              "\n",
              "                    duration  campaign  pdays  previous poutcome response  \n",
              "1016                  71 sec         1     -1         0  unknown      NaN  \n",
              "2027                 173 sec         2     -1         0  unknown      NaN  \n",
              "2568                 245 sec         4     -1         0  unknown      NaN  \n",
              "2695                 209 sec         2     -1         0  unknown      NaN  \n",
              "5258                 412 sec         6     -1         0  unknown      NaN  \n",
              "8529                 192 sec         4     -1         0  unknown      NaN  \n",
              "8571                 171 sec         5     -1         0  unknown      NaN  \n",
              "9268                 295 sec         3     -1         0  unknown      NaN  \n",
              "11534                 97 sec         1     -1         0  unknown      NaN  \n",
              "12185                 15 sec        26     -1         0  unknown      NaN  \n",
              "17262                2.1 min         2     -1         0  unknown      NaN  \n",
              "21243   3.88333333333333 min        12     -1         0  unknown      NaN  \n",
              "21271   1.16666666666667 min         4     -1         0  unknown      NaN  \n",
              "22002               11.6 min         3     -1         0  unknown      NaN  \n",
              "23247               2.05 min         4     -1         0  unknown      NaN  \n",
              "24253                6.6 min         1    129         2  failure      NaN  \n",
              "24276   6.28333333333333 min         1     -1         0  unknown      NaN  \n",
              "24300  0.633333333333333 min         1    115         5    other      NaN  \n",
              "25851   6.51666666666667 min         2     -1         0  unknown      NaN  \n",
              "26557   14.9166666666667 min         1    183         2  failure      NaN  \n",
              "29127   4.46666666666667 min         1     -1         0  unknown      NaN  \n",
              "32606   11.0666666666667 min         1    319         4  failure      NaN  \n",
              "33763   1.93333333333333 min         4     -1         0  unknown      NaN  \n",
              "37065   10.4666666666667 min         1     -1         0  unknown      NaN  \n",
              "38044   1.03333333333333 min         4    352         2  failure      NaN  \n",
              "39099   7.11666666666667 min         1     -1         0  unknown      NaN  \n",
              "39504               8.85 min         1     97         1  success      NaN  \n",
              "39976   4.93333333333333 min         4     -1         0  unknown      NaN  \n",
              "40397   2.46666666666667 min         2     -1         0  unknown      NaN  \n",
              "40774   1.23333333333333 min         1     -1         0  unknown      NaN  "
            ],
            "text/html": [
              "\n",
              "  <div id=\"df-8cb1d667-f0f9-44b3-a28e-b4026a81539e\">\n",
              "    <div class=\"colab-df-container\">\n",
              "      <div>\n",
              "<style scoped>\n",
              "    .dataframe tbody tr th:only-of-type {\n",
              "        vertical-align: middle;\n",
              "    }\n",
              "\n",
              "    .dataframe tbody tr th {\n",
              "        vertical-align: top;\n",
              "    }\n",
              "\n",
              "    .dataframe thead th {\n",
              "        text-align: right;\n",
              "    }\n",
              "</style>\n",
              "<table border=\"1\" class=\"dataframe\">\n",
              "  <thead>\n",
              "    <tr style=\"text-align: right;\">\n",
              "      <th></th>\n",
              "      <th>customerid</th>\n",
              "      <th>age</th>\n",
              "      <th>salary</th>\n",
              "      <th>balance</th>\n",
              "      <th>marital</th>\n",
              "      <th>jobedu</th>\n",
              "      <th>targeted</th>\n",
              "      <th>default</th>\n",
              "      <th>housing</th>\n",
              "      <th>loan</th>\n",
              "      <th>contact</th>\n",
              "      <th>day</th>\n",
              "      <th>month</th>\n",
              "      <th>duration</th>\n",
              "      <th>campaign</th>\n",
              "      <th>pdays</th>\n",
              "      <th>previous</th>\n",
              "      <th>poutcome</th>\n",
              "      <th>response</th>\n",
              "    </tr>\n",
              "  </thead>\n",
              "  <tbody>\n",
              "    <tr>\n",
              "      <th>1016</th>\n",
              "      <td>1017</td>\n",
              "      <td>37.0</td>\n",
              "      <td>20000</td>\n",
              "      <td>139</td>\n",
              "      <td>divorced</td>\n",
              "      <td>blue-collar,primary</td>\n",
              "      <td>yes</td>\n",
              "      <td>no</td>\n",
              "      <td>yes</td>\n",
              "      <td>no</td>\n",
              "      <td>unknown</td>\n",
              "      <td>7</td>\n",
              "      <td>may, 2017</td>\n",
              "      <td>71 sec</td>\n",
              "      <td>1</td>\n",
              "      <td>-1</td>\n",
              "      <td>0</td>\n",
              "      <td>unknown</td>\n",
              "      <td>NaN</td>\n",
              "    </tr>\n",
              "    <tr>\n",
              "      <th>2027</th>\n",
              "      <td>2028</td>\n",
              "      <td>33.0</td>\n",
              "      <td>60000</td>\n",
              "      <td>0</td>\n",
              "      <td>married</td>\n",
              "      <td>technician,secondary</td>\n",
              "      <td>yes</td>\n",
              "      <td>no</td>\n",
              "      <td>yes</td>\n",
              "      <td>yes</td>\n",
              "      <td>unknown</td>\n",
              "      <td>9</td>\n",
              "      <td>may, 2017</td>\n",
              "      <td>173 sec</td>\n",
              "      <td>2</td>\n",
              "      <td>-1</td>\n",
              "      <td>0</td>\n",
              "      <td>unknown</td>\n",
              "      <td>NaN</td>\n",
              "    </tr>\n",
              "    <tr>\n",
              "      <th>2568</th>\n",
              "      <td>2569</td>\n",
              "      <td>31.0</td>\n",
              "      <td>20000</td>\n",
              "      <td>81</td>\n",
              "      <td>married</td>\n",
              "      <td>blue-collar,primary</td>\n",
              "      <td>yes</td>\n",
              "      <td>no</td>\n",
              "      <td>yes</td>\n",
              "      <td>no</td>\n",
              "      <td>unknown</td>\n",
              "      <td>13</td>\n",
              "      <td>may, 2017</td>\n",
              "      <td>245 sec</td>\n",
              "      <td>4</td>\n",
              "      <td>-1</td>\n",
              "      <td>0</td>\n",
              "      <td>unknown</td>\n",
              "      <td>NaN</td>\n",
              "    </tr>\n",
              "    <tr>\n",
              "      <th>2695</th>\n",
              "      <td>2696</td>\n",
              "      <td>38.0</td>\n",
              "      <td>20000</td>\n",
              "      <td>0</td>\n",
              "      <td>married</td>\n",
              "      <td>blue-collar,primary</td>\n",
              "      <td>yes</td>\n",
              "      <td>no</td>\n",
              "      <td>no</td>\n",
              "      <td>no</td>\n",
              "      <td>unknown</td>\n",
              "      <td>13</td>\n",
              "      <td>may, 2017</td>\n",
              "      <td>209 sec</td>\n",
              "      <td>2</td>\n",
              "      <td>-1</td>\n",
              "      <td>0</td>\n",
              "      <td>unknown</td>\n",
              "      <td>NaN</td>\n",
              "    </tr>\n",
              "    <tr>\n",
              "      <th>5258</th>\n",
              "      <td>5259</td>\n",
              "      <td>37.0</td>\n",
              "      <td>60000</td>\n",
              "      <td>0</td>\n",
              "      <td>married</td>\n",
              "      <td>technician,secondary</td>\n",
              "      <td>yes</td>\n",
              "      <td>no</td>\n",
              "      <td>yes</td>\n",
              "      <td>no</td>\n",
              "      <td>unknown</td>\n",
              "      <td>23</td>\n",
              "      <td>may, 2017</td>\n",
              "      <td>412 sec</td>\n",
              "      <td>6</td>\n",
              "      <td>-1</td>\n",
              "      <td>0</td>\n",
              "      <td>unknown</td>\n",
              "      <td>NaN</td>\n",
              "    </tr>\n",
              "    <tr>\n",
              "      <th>8529</th>\n",
              "      <td>8530</td>\n",
              "      <td>45.0</td>\n",
              "      <td>100000</td>\n",
              "      <td>1373</td>\n",
              "      <td>married</td>\n",
              "      <td>management,tertiary</td>\n",
              "      <td>yes</td>\n",
              "      <td>no</td>\n",
              "      <td>yes</td>\n",
              "      <td>no</td>\n",
              "      <td>unknown</td>\n",
              "      <td>3</td>\n",
              "      <td>jun, 2017</td>\n",
              "      <td>192 sec</td>\n",
              "      <td>4</td>\n",
              "      <td>-1</td>\n",
              "      <td>0</td>\n",
              "      <td>unknown</td>\n",
              "      <td>NaN</td>\n",
              "    </tr>\n",
              "    <tr>\n",
              "      <th>8571</th>\n",
              "      <td>8572</td>\n",
              "      <td>44.0</td>\n",
              "      <td>70000</td>\n",
              "      <td>-1621</td>\n",
              "      <td>married</td>\n",
              "      <td>services,secondary</td>\n",
              "      <td>yes</td>\n",
              "      <td>no</td>\n",
              "      <td>yes</td>\n",
              "      <td>yes</td>\n",
              "      <td>unknown</td>\n",
              "      <td>3</td>\n",
              "      <td>jun, 2017</td>\n",
              "      <td>171 sec</td>\n",
              "      <td>5</td>\n",
              "      <td>-1</td>\n",
              "      <td>0</td>\n",
              "      <td>unknown</td>\n",
              "      <td>NaN</td>\n",
              "    </tr>\n",
              "    <tr>\n",
              "      <th>9268</th>\n",
              "      <td>9269</td>\n",
              "      <td>58.0</td>\n",
              "      <td>16000</td>\n",
              "      <td>419</td>\n",
              "      <td>married</td>\n",
              "      <td>housemaid,primary</td>\n",
              "      <td>yes</td>\n",
              "      <td>no</td>\n",
              "      <td>no</td>\n",
              "      <td>yes</td>\n",
              "      <td>unknown</td>\n",
              "      <td>5</td>\n",
              "      <td>jun, 2017</td>\n",
              "      <td>295 sec</td>\n",
              "      <td>3</td>\n",
              "      <td>-1</td>\n",
              "      <td>0</td>\n",
              "      <td>unknown</td>\n",
              "      <td>NaN</td>\n",
              "    </tr>\n",
              "    <tr>\n",
              "      <th>11534</th>\n",
              "      <td>11535</td>\n",
              "      <td>55.0</td>\n",
              "      <td>100000</td>\n",
              "      <td>179</td>\n",
              "      <td>married</td>\n",
              "      <td>management,unknown</td>\n",
              "      <td>no</td>\n",
              "      <td>no</td>\n",
              "      <td>no</td>\n",
              "      <td>no</td>\n",
              "      <td>unknown</td>\n",
              "      <td>19</td>\n",
              "      <td>jun, 2017</td>\n",
              "      <td>97 sec</td>\n",
              "      <td>1</td>\n",
              "      <td>-1</td>\n",
              "      <td>0</td>\n",
              "      <td>unknown</td>\n",
              "      <td>NaN</td>\n",
              "    </tr>\n",
              "    <tr>\n",
              "      <th>12185</th>\n",
              "      <td>12186</td>\n",
              "      <td>45.0</td>\n",
              "      <td>20000</td>\n",
              "      <td>-160</td>\n",
              "      <td>married</td>\n",
              "      <td>blue-collar,primary</td>\n",
              "      <td>yes</td>\n",
              "      <td>no</td>\n",
              "      <td>yes</td>\n",
              "      <td>no</td>\n",
              "      <td>unknown</td>\n",
              "      <td>20</td>\n",
              "      <td>jun, 2017</td>\n",
              "      <td>15 sec</td>\n",
              "      <td>26</td>\n",
              "      <td>-1</td>\n",
              "      <td>0</td>\n",
              "      <td>unknown</td>\n",
              "      <td>NaN</td>\n",
              "    </tr>\n",
              "    <tr>\n",
              "      <th>17262</th>\n",
              "      <td>17263</td>\n",
              "      <td>40.0</td>\n",
              "      <td>60000</td>\n",
              "      <td>134</td>\n",
              "      <td>single</td>\n",
              "      <td>technician,secondary</td>\n",
              "      <td>yes</td>\n",
              "      <td>no</td>\n",
              "      <td>yes</td>\n",
              "      <td>yes</td>\n",
              "      <td>cellular</td>\n",
              "      <td>28</td>\n",
              "      <td>jul, 2017</td>\n",
              "      <td>2.1 min</td>\n",
              "      <td>2</td>\n",
              "      <td>-1</td>\n",
              "      <td>0</td>\n",
              "      <td>unknown</td>\n",
              "      <td>NaN</td>\n",
              "    </tr>\n",
              "    <tr>\n",
              "      <th>21243</th>\n",
              "      <td>21244</td>\n",
              "      <td>35.0</td>\n",
              "      <td>100000</td>\n",
              "      <td>750</td>\n",
              "      <td>married</td>\n",
              "      <td>management,tertiary</td>\n",
              "      <td>yes</td>\n",
              "      <td>no</td>\n",
              "      <td>yes</td>\n",
              "      <td>no</td>\n",
              "      <td>cellular</td>\n",
              "      <td>18</td>\n",
              "      <td>aug, 2017</td>\n",
              "      <td>3.88333333333333 min</td>\n",
              "      <td>12</td>\n",
              "      <td>-1</td>\n",
              "      <td>0</td>\n",
              "      <td>unknown</td>\n",
              "      <td>NaN</td>\n",
              "    </tr>\n",
              "    <tr>\n",
              "      <th>21271</th>\n",
              "      <td>21272</td>\n",
              "      <td>56.0</td>\n",
              "      <td>70000</td>\n",
              "      <td>4914</td>\n",
              "      <td>married</td>\n",
              "      <td>services,secondary</td>\n",
              "      <td>yes</td>\n",
              "      <td>no</td>\n",
              "      <td>no</td>\n",
              "      <td>no</td>\n",
              "      <td>cellular</td>\n",
              "      <td>18</td>\n",
              "      <td>aug, 2017</td>\n",
              "      <td>1.16666666666667 min</td>\n",
              "      <td>4</td>\n",
              "      <td>-1</td>\n",
              "      <td>0</td>\n",
              "      <td>unknown</td>\n",
              "      <td>NaN</td>\n",
              "    </tr>\n",
              "    <tr>\n",
              "      <th>22002</th>\n",
              "      <td>22003</td>\n",
              "      <td>30.0</td>\n",
              "      <td>60000</td>\n",
              "      <td>790</td>\n",
              "      <td>single</td>\n",
              "      <td>technician,secondary</td>\n",
              "      <td>yes</td>\n",
              "      <td>no</td>\n",
              "      <td>no</td>\n",
              "      <td>no</td>\n",
              "      <td>cellular</td>\n",
              "      <td>20</td>\n",
              "      <td>aug, 2017</td>\n",
              "      <td>11.6 min</td>\n",
              "      <td>3</td>\n",
              "      <td>-1</td>\n",
              "      <td>0</td>\n",
              "      <td>unknown</td>\n",
              "      <td>NaN</td>\n",
              "    </tr>\n",
              "    <tr>\n",
              "      <th>23247</th>\n",
              "      <td>23248</td>\n",
              "      <td>32.0</td>\n",
              "      <td>100000</td>\n",
              "      <td>2204</td>\n",
              "      <td>married</td>\n",
              "      <td>management,tertiary</td>\n",
              "      <td>yes</td>\n",
              "      <td>no</td>\n",
              "      <td>no</td>\n",
              "      <td>no</td>\n",
              "      <td>cellular</td>\n",
              "      <td>27</td>\n",
              "      <td>aug, 2017</td>\n",
              "      <td>2.05 min</td>\n",
              "      <td>4</td>\n",
              "      <td>-1</td>\n",
              "      <td>0</td>\n",
              "      <td>unknown</td>\n",
              "      <td>NaN</td>\n",
              "    </tr>\n",
              "    <tr>\n",
              "      <th>24253</th>\n",
              "      <td>24254</td>\n",
              "      <td>39.0</td>\n",
              "      <td>50000</td>\n",
              "      <td>401</td>\n",
              "      <td>married</td>\n",
              "      <td>admin.,secondary</td>\n",
              "      <td>yes</td>\n",
              "      <td>no</td>\n",
              "      <td>yes</td>\n",
              "      <td>no</td>\n",
              "      <td>cellular</td>\n",
              "      <td>17</td>\n",
              "      <td>nov, 2017</td>\n",
              "      <td>6.6 min</td>\n",
              "      <td>1</td>\n",
              "      <td>129</td>\n",
              "      <td>2</td>\n",
              "      <td>failure</td>\n",
              "      <td>NaN</td>\n",
              "    </tr>\n",
              "    <tr>\n",
              "      <th>24276</th>\n",
              "      <td>24277</td>\n",
              "      <td>31.0</td>\n",
              "      <td>120000</td>\n",
              "      <td>1454</td>\n",
              "      <td>single</td>\n",
              "      <td>entrepreneur,tertiary</td>\n",
              "      <td>no</td>\n",
              "      <td>no</td>\n",
              "      <td>no</td>\n",
              "      <td>no</td>\n",
              "      <td>cellular</td>\n",
              "      <td>17</td>\n",
              "      <td>nov, 2017</td>\n",
              "      <td>6.28333333333333 min</td>\n",
              "      <td>1</td>\n",
              "      <td>-1</td>\n",
              "      <td>0</td>\n",
              "      <td>unknown</td>\n",
              "      <td>NaN</td>\n",
              "    </tr>\n",
              "    <tr>\n",
              "      <th>24300</th>\n",
              "      <td>24301</td>\n",
              "      <td>42.0</td>\n",
              "      <td>60000</td>\n",
              "      <td>35</td>\n",
              "      <td>single</td>\n",
              "      <td>technician,tertiary</td>\n",
              "      <td>no</td>\n",
              "      <td>no</td>\n",
              "      <td>yes</td>\n",
              "      <td>yes</td>\n",
              "      <td>cellular</td>\n",
              "      <td>17</td>\n",
              "      <td>nov, 2017</td>\n",
              "      <td>0.633333333333333 min</td>\n",
              "      <td>1</td>\n",
              "      <td>115</td>\n",
              "      <td>5</td>\n",
              "      <td>other</td>\n",
              "      <td>NaN</td>\n",
              "    </tr>\n",
              "    <tr>\n",
              "      <th>25851</th>\n",
              "      <td>25852</td>\n",
              "      <td>31.0</td>\n",
              "      <td>70000</td>\n",
              "      <td>593</td>\n",
              "      <td>married</td>\n",
              "      <td>services,secondary</td>\n",
              "      <td>yes</td>\n",
              "      <td>no</td>\n",
              "      <td>yes</td>\n",
              "      <td>no</td>\n",
              "      <td>cellular</td>\n",
              "      <td>19</td>\n",
              "      <td>nov, 2017</td>\n",
              "      <td>6.51666666666667 min</td>\n",
              "      <td>2</td>\n",
              "      <td>-1</td>\n",
              "      <td>0</td>\n",
              "      <td>unknown</td>\n",
              "      <td>NaN</td>\n",
              "    </tr>\n",
              "    <tr>\n",
              "      <th>26557</th>\n",
              "      <td>26558</td>\n",
              "      <td>34.0</td>\n",
              "      <td>60000</td>\n",
              "      <td>1545</td>\n",
              "      <td>married</td>\n",
              "      <td>self-employed,tertiary</td>\n",
              "      <td>yes</td>\n",
              "      <td>no</td>\n",
              "      <td>yes</td>\n",
              "      <td>no</td>\n",
              "      <td>cellular</td>\n",
              "      <td>20</td>\n",
              "      <td>nov, 2017</td>\n",
              "      <td>14.9166666666667 min</td>\n",
              "      <td>1</td>\n",
              "      <td>183</td>\n",
              "      <td>2</td>\n",
              "      <td>failure</td>\n",
              "      <td>NaN</td>\n",
              "    </tr>\n",
              "    <tr>\n",
              "      <th>29127</th>\n",
              "      <td>29128</td>\n",
              "      <td>29.0</td>\n",
              "      <td>50000</td>\n",
              "      <td>196</td>\n",
              "      <td>single</td>\n",
              "      <td>admin.,secondary</td>\n",
              "      <td>yes</td>\n",
              "      <td>no</td>\n",
              "      <td>no</td>\n",
              "      <td>no</td>\n",
              "      <td>telephone</td>\n",
              "      <td>2</td>\n",
              "      <td>feb, 2017</td>\n",
              "      <td>4.46666666666667 min</td>\n",
              "      <td>1</td>\n",
              "      <td>-1</td>\n",
              "      <td>0</td>\n",
              "      <td>unknown</td>\n",
              "      <td>NaN</td>\n",
              "    </tr>\n",
              "    <tr>\n",
              "      <th>32606</th>\n",
              "      <td>32607</td>\n",
              "      <td>31.0</td>\n",
              "      <td>60000</td>\n",
              "      <td>578</td>\n",
              "      <td>single</td>\n",
              "      <td>self-employed,tertiary</td>\n",
              "      <td>no</td>\n",
              "      <td>no</td>\n",
              "      <td>yes</td>\n",
              "      <td>no</td>\n",
              "      <td>cellular</td>\n",
              "      <td>17</td>\n",
              "      <td>apr, 2017</td>\n",
              "      <td>11.0666666666667 min</td>\n",
              "      <td>1</td>\n",
              "      <td>319</td>\n",
              "      <td>4</td>\n",
              "      <td>failure</td>\n",
              "      <td>NaN</td>\n",
              "    </tr>\n",
              "    <tr>\n",
              "      <th>33763</th>\n",
              "      <td>33764</td>\n",
              "      <td>31.0</td>\n",
              "      <td>60000</td>\n",
              "      <td>1734</td>\n",
              "      <td>single</td>\n",
              "      <td>self-employed,tertiary</td>\n",
              "      <td>no</td>\n",
              "      <td>no</td>\n",
              "      <td>no</td>\n",
              "      <td>no</td>\n",
              "      <td>cellular</td>\n",
              "      <td>22</td>\n",
              "      <td>apr, 2017</td>\n",
              "      <td>1.93333333333333 min</td>\n",
              "      <td>4</td>\n",
              "      <td>-1</td>\n",
              "      <td>0</td>\n",
              "      <td>unknown</td>\n",
              "      <td>NaN</td>\n",
              "    </tr>\n",
              "    <tr>\n",
              "      <th>37065</th>\n",
              "      <td>37066</td>\n",
              "      <td>39.0</td>\n",
              "      <td>70000</td>\n",
              "      <td>276</td>\n",
              "      <td>married</td>\n",
              "      <td>services,primary</td>\n",
              "      <td>yes</td>\n",
              "      <td>no</td>\n",
              "      <td>yes</td>\n",
              "      <td>yes</td>\n",
              "      <td>cellular</td>\n",
              "      <td>13</td>\n",
              "      <td>may, 2017</td>\n",
              "      <td>10.4666666666667 min</td>\n",
              "      <td>1</td>\n",
              "      <td>-1</td>\n",
              "      <td>0</td>\n",
              "      <td>unknown</td>\n",
              "      <td>NaN</td>\n",
              "    </tr>\n",
              "    <tr>\n",
              "      <th>38044</th>\n",
              "      <td>38045</td>\n",
              "      <td>55.0</td>\n",
              "      <td>50000</td>\n",
              "      <td>-288</td>\n",
              "      <td>divorced</td>\n",
              "      <td>admin.,secondary</td>\n",
              "      <td>yes</td>\n",
              "      <td>no</td>\n",
              "      <td>yes</td>\n",
              "      <td>no</td>\n",
              "      <td>cellular</td>\n",
              "      <td>14</td>\n",
              "      <td>may, 2017</td>\n",
              "      <td>1.03333333333333 min</td>\n",
              "      <td>4</td>\n",
              "      <td>352</td>\n",
              "      <td>2</td>\n",
              "      <td>failure</td>\n",
              "      <td>NaN</td>\n",
              "    </tr>\n",
              "    <tr>\n",
              "      <th>39099</th>\n",
              "      <td>39100</td>\n",
              "      <td>29.0</td>\n",
              "      <td>60000</td>\n",
              "      <td>476</td>\n",
              "      <td>single</td>\n",
              "      <td>self-employed,tertiary</td>\n",
              "      <td>no</td>\n",
              "      <td>no</td>\n",
              "      <td>yes</td>\n",
              "      <td>no</td>\n",
              "      <td>cellular</td>\n",
              "      <td>18</td>\n",
              "      <td>may, 2017</td>\n",
              "      <td>7.11666666666667 min</td>\n",
              "      <td>1</td>\n",
              "      <td>-1</td>\n",
              "      <td>0</td>\n",
              "      <td>unknown</td>\n",
              "      <td>NaN</td>\n",
              "    </tr>\n",
              "    <tr>\n",
              "      <th>39504</th>\n",
              "      <td>39505</td>\n",
              "      <td>38.0</td>\n",
              "      <td>50000</td>\n",
              "      <td>755</td>\n",
              "      <td>married</td>\n",
              "      <td>admin.,secondary</td>\n",
              "      <td>yes</td>\n",
              "      <td>no</td>\n",
              "      <td>yes</td>\n",
              "      <td>no</td>\n",
              "      <td>cellular</td>\n",
              "      <td>25</td>\n",
              "      <td>may, 2017</td>\n",
              "      <td>8.85 min</td>\n",
              "      <td>1</td>\n",
              "      <td>97</td>\n",
              "      <td>1</td>\n",
              "      <td>success</td>\n",
              "      <td>NaN</td>\n",
              "    </tr>\n",
              "    <tr>\n",
              "      <th>39976</th>\n",
              "      <td>39977</td>\n",
              "      <td>39.0</td>\n",
              "      <td>50000</td>\n",
              "      <td>150</td>\n",
              "      <td>married</td>\n",
              "      <td>admin.,secondary</td>\n",
              "      <td>yes</td>\n",
              "      <td>no</td>\n",
              "      <td>no</td>\n",
              "      <td>no</td>\n",
              "      <td>cellular</td>\n",
              "      <td>3</td>\n",
              "      <td>jun, 2017</td>\n",
              "      <td>4.93333333333333 min</td>\n",
              "      <td>4</td>\n",
              "      <td>-1</td>\n",
              "      <td>0</td>\n",
              "      <td>unknown</td>\n",
              "      <td>NaN</td>\n",
              "    </tr>\n",
              "    <tr>\n",
              "      <th>40397</th>\n",
              "      <td>40398</td>\n",
              "      <td>69.0</td>\n",
              "      <td>55000</td>\n",
              "      <td>1806</td>\n",
              "      <td>divorced</td>\n",
              "      <td>retired,secondary</td>\n",
              "      <td>yes</td>\n",
              "      <td>no</td>\n",
              "      <td>no</td>\n",
              "      <td>no</td>\n",
              "      <td>cellular</td>\n",
              "      <td>1</td>\n",
              "      <td>jul, 2017</td>\n",
              "      <td>2.46666666666667 min</td>\n",
              "      <td>2</td>\n",
              "      <td>-1</td>\n",
              "      <td>0</td>\n",
              "      <td>unknown</td>\n",
              "      <td>NaN</td>\n",
              "    </tr>\n",
              "    <tr>\n",
              "      <th>40774</th>\n",
              "      <td>40775</td>\n",
              "      <td>70.0</td>\n",
              "      <td>20000</td>\n",
              "      <td>3075</td>\n",
              "      <td>married</td>\n",
              "      <td>blue-collar,primary</td>\n",
              "      <td>yes</td>\n",
              "      <td>no</td>\n",
              "      <td>no</td>\n",
              "      <td>no</td>\n",
              "      <td>telephone</td>\n",
              "      <td>10</td>\n",
              "      <td>aug, 2017</td>\n",
              "      <td>1.23333333333333 min</td>\n",
              "      <td>1</td>\n",
              "      <td>-1</td>\n",
              "      <td>0</td>\n",
              "      <td>unknown</td>\n",
              "      <td>NaN</td>\n",
              "    </tr>\n",
              "  </tbody>\n",
              "</table>\n",
              "</div>\n",
              "      <button class=\"colab-df-convert\" onclick=\"convertToInteractive('df-8cb1d667-f0f9-44b3-a28e-b4026a81539e')\"\n",
              "              title=\"Convert this dataframe to an interactive table.\"\n",
              "              style=\"display:none;\">\n",
              "        \n",
              "  <svg xmlns=\"http://www.w3.org/2000/svg\" height=\"24px\"viewBox=\"0 0 24 24\"\n",
              "       width=\"24px\">\n",
              "    <path d=\"M0 0h24v24H0V0z\" fill=\"none\"/>\n",
              "    <path d=\"M18.56 5.44l.94 2.06.94-2.06 2.06-.94-2.06-.94-.94-2.06-.94 2.06-2.06.94zm-11 1L8.5 8.5l.94-2.06 2.06-.94-2.06-.94L8.5 2.5l-.94 2.06-2.06.94zm10 10l.94 2.06.94-2.06 2.06-.94-2.06-.94-.94-2.06-.94 2.06-2.06.94z\"/><path d=\"M17.41 7.96l-1.37-1.37c-.4-.4-.92-.59-1.43-.59-.52 0-1.04.2-1.43.59L10.3 9.45l-7.72 7.72c-.78.78-.78 2.05 0 2.83L4 21.41c.39.39.9.59 1.41.59.51 0 1.02-.2 1.41-.59l7.78-7.78 2.81-2.81c.8-.78.8-2.07 0-2.86zM5.41 20L4 18.59l7.72-7.72 1.47 1.35L5.41 20z\"/>\n",
              "  </svg>\n",
              "      </button>\n",
              "      \n",
              "  <style>\n",
              "    .colab-df-container {\n",
              "      display:flex;\n",
              "      flex-wrap:wrap;\n",
              "      gap: 12px;\n",
              "    }\n",
              "\n",
              "    .colab-df-convert {\n",
              "      background-color: #E8F0FE;\n",
              "      border: none;\n",
              "      border-radius: 50%;\n",
              "      cursor: pointer;\n",
              "      display: none;\n",
              "      fill: #1967D2;\n",
              "      height: 32px;\n",
              "      padding: 0 0 0 0;\n",
              "      width: 32px;\n",
              "    }\n",
              "\n",
              "    .colab-df-convert:hover {\n",
              "      background-color: #E2EBFA;\n",
              "      box-shadow: 0px 1px 2px rgba(60, 64, 67, 0.3), 0px 1px 3px 1px rgba(60, 64, 67, 0.15);\n",
              "      fill: #174EA6;\n",
              "    }\n",
              "\n",
              "    [theme=dark] .colab-df-convert {\n",
              "      background-color: #3B4455;\n",
              "      fill: #D2E3FC;\n",
              "    }\n",
              "\n",
              "    [theme=dark] .colab-df-convert:hover {\n",
              "      background-color: #434B5C;\n",
              "      box-shadow: 0px 1px 3px 1px rgba(0, 0, 0, 0.15);\n",
              "      filter: drop-shadow(0px 1px 2px rgba(0, 0, 0, 0.3));\n",
              "      fill: #FFFFFF;\n",
              "    }\n",
              "  </style>\n",
              "\n",
              "      <script>\n",
              "        const buttonEl =\n",
              "          document.querySelector('#df-8cb1d667-f0f9-44b3-a28e-b4026a81539e button.colab-df-convert');\n",
              "        buttonEl.style.display =\n",
              "          google.colab.kernel.accessAllowed ? 'block' : 'none';\n",
              "\n",
              "        async function convertToInteractive(key) {\n",
              "          const element = document.querySelector('#df-8cb1d667-f0f9-44b3-a28e-b4026a81539e');\n",
              "          const dataTable =\n",
              "            await google.colab.kernel.invokeFunction('convertToInteractive',\n",
              "                                                     [key], {});\n",
              "          if (!dataTable) return;\n",
              "\n",
              "          const docLinkHtml = 'Like what you see? Visit the ' +\n",
              "            '<a target=\"_blank\" href=https://colab.research.google.com/notebooks/data_table.ipynb>data table notebook</a>'\n",
              "            + ' to learn more about interactive tables.';\n",
              "          element.innerHTML = '';\n",
              "          dataTable['output_type'] = 'display_data';\n",
              "          await google.colab.output.renderOutput(dataTable, element);\n",
              "          const docLink = document.createElement('div');\n",
              "          docLink.innerHTML = docLinkHtml;\n",
              "          element.appendChild(docLink);\n",
              "        }\n",
              "      </script>\n",
              "    </div>\n",
              "  </div>\n",
              "  "
            ]
          },
          "metadata": {},
          "execution_count": 17
        }
      ]
    },
    {
      "cell_type": "code",
      "source": [
        "# Check Duplicate Rows count\n",
        "\n",
        "df.duplicated().sum()"
      ],
      "metadata": {
        "colab": {
          "base_uri": "https://localhost:8080/"
        },
        "id": "wL16ALJKv7Ol",
        "outputId": "6eb5ab29-9a19-4297-e173-f82d63111a62"
      },
      "execution_count": 18,
      "outputs": [
        {
          "output_type": "execute_result",
          "data": {
            "text/plain": [
              "0"
            ]
          },
          "metadata": {},
          "execution_count": 18
        }
      ]
    },
    {
      "cell_type": "code",
      "source": [
        "#Duplicate rows count was \"0\" here, if there were any duplicates, those could have been dropped using below code:\n",
        "\n",
        "\n",
        "# df.drop_duplicates(subset=None, keep='first', inplace=True, ignore_index=False)"
      ],
      "metadata": {
        "id": "kTxwJFG5wFDG"
      },
      "execution_count": 19,
      "outputs": []
    },
    {
      "cell_type": "code",
      "source": [
        "# Numerical Column Description\n",
        "df.describe()"
      ],
      "metadata": {
        "colab": {
          "base_uri": "https://localhost:8080/",
          "height": 300
        },
        "id": "58x2jmAd1CSk",
        "outputId": "53ec7973-d0cf-4390-d8cc-16ebea879ccb"
      },
      "execution_count": 20,
      "outputs": [
        {
          "output_type": "execute_result",
          "data": {
            "text/plain": [
              "         customerid           age         salary        balance           day  \\\n",
              "count  45211.000000  45191.000000   45211.000000   45211.000000  45211.000000   \n",
              "mean   22606.000000     40.935651   57006.171065    1362.272058     15.806419   \n",
              "std    13051.435847     10.619198   32085.718415    3044.765829      8.322476   \n",
              "min        1.000000     18.000000       0.000000   -8019.000000      1.000000   \n",
              "25%    11303.500000     33.000000   20000.000000      72.000000      8.000000   \n",
              "50%    22606.000000     39.000000   60000.000000     448.000000     16.000000   \n",
              "75%    33908.500000     48.000000   70000.000000    1428.000000     21.000000   \n",
              "max    45211.000000     95.000000  120000.000000  102127.000000     31.000000   \n",
              "\n",
              "           campaign         pdays      previous  \n",
              "count  45211.000000  45211.000000  45211.000000  \n",
              "mean       2.763841     40.197828      0.580323  \n",
              "std        3.098021    100.128746      2.303441  \n",
              "min        1.000000     -1.000000      0.000000  \n",
              "25%        1.000000     -1.000000      0.000000  \n",
              "50%        2.000000     -1.000000      0.000000  \n",
              "75%        3.000000     -1.000000      0.000000  \n",
              "max       63.000000    871.000000    275.000000  "
            ],
            "text/html": [
              "\n",
              "  <div id=\"df-30fca181-bece-4a46-913b-19352b921f15\">\n",
              "    <div class=\"colab-df-container\">\n",
              "      <div>\n",
              "<style scoped>\n",
              "    .dataframe tbody tr th:only-of-type {\n",
              "        vertical-align: middle;\n",
              "    }\n",
              "\n",
              "    .dataframe tbody tr th {\n",
              "        vertical-align: top;\n",
              "    }\n",
              "\n",
              "    .dataframe thead th {\n",
              "        text-align: right;\n",
              "    }\n",
              "</style>\n",
              "<table border=\"1\" class=\"dataframe\">\n",
              "  <thead>\n",
              "    <tr style=\"text-align: right;\">\n",
              "      <th></th>\n",
              "      <th>customerid</th>\n",
              "      <th>age</th>\n",
              "      <th>salary</th>\n",
              "      <th>balance</th>\n",
              "      <th>day</th>\n",
              "      <th>campaign</th>\n",
              "      <th>pdays</th>\n",
              "      <th>previous</th>\n",
              "    </tr>\n",
              "  </thead>\n",
              "  <tbody>\n",
              "    <tr>\n",
              "      <th>count</th>\n",
              "      <td>45211.000000</td>\n",
              "      <td>45191.000000</td>\n",
              "      <td>45211.000000</td>\n",
              "      <td>45211.000000</td>\n",
              "      <td>45211.000000</td>\n",
              "      <td>45211.000000</td>\n",
              "      <td>45211.000000</td>\n",
              "      <td>45211.000000</td>\n",
              "    </tr>\n",
              "    <tr>\n",
              "      <th>mean</th>\n",
              "      <td>22606.000000</td>\n",
              "      <td>40.935651</td>\n",
              "      <td>57006.171065</td>\n",
              "      <td>1362.272058</td>\n",
              "      <td>15.806419</td>\n",
              "      <td>2.763841</td>\n",
              "      <td>40.197828</td>\n",
              "      <td>0.580323</td>\n",
              "    </tr>\n",
              "    <tr>\n",
              "      <th>std</th>\n",
              "      <td>13051.435847</td>\n",
              "      <td>10.619198</td>\n",
              "      <td>32085.718415</td>\n",
              "      <td>3044.765829</td>\n",
              "      <td>8.322476</td>\n",
              "      <td>3.098021</td>\n",
              "      <td>100.128746</td>\n",
              "      <td>2.303441</td>\n",
              "    </tr>\n",
              "    <tr>\n",
              "      <th>min</th>\n",
              "      <td>1.000000</td>\n",
              "      <td>18.000000</td>\n",
              "      <td>0.000000</td>\n",
              "      <td>-8019.000000</td>\n",
              "      <td>1.000000</td>\n",
              "      <td>1.000000</td>\n",
              "      <td>-1.000000</td>\n",
              "      <td>0.000000</td>\n",
              "    </tr>\n",
              "    <tr>\n",
              "      <th>25%</th>\n",
              "      <td>11303.500000</td>\n",
              "      <td>33.000000</td>\n",
              "      <td>20000.000000</td>\n",
              "      <td>72.000000</td>\n",
              "      <td>8.000000</td>\n",
              "      <td>1.000000</td>\n",
              "      <td>-1.000000</td>\n",
              "      <td>0.000000</td>\n",
              "    </tr>\n",
              "    <tr>\n",
              "      <th>50%</th>\n",
              "      <td>22606.000000</td>\n",
              "      <td>39.000000</td>\n",
              "      <td>60000.000000</td>\n",
              "      <td>448.000000</td>\n",
              "      <td>16.000000</td>\n",
              "      <td>2.000000</td>\n",
              "      <td>-1.000000</td>\n",
              "      <td>0.000000</td>\n",
              "    </tr>\n",
              "    <tr>\n",
              "      <th>75%</th>\n",
              "      <td>33908.500000</td>\n",
              "      <td>48.000000</td>\n",
              "      <td>70000.000000</td>\n",
              "      <td>1428.000000</td>\n",
              "      <td>21.000000</td>\n",
              "      <td>3.000000</td>\n",
              "      <td>-1.000000</td>\n",
              "      <td>0.000000</td>\n",
              "    </tr>\n",
              "    <tr>\n",
              "      <th>max</th>\n",
              "      <td>45211.000000</td>\n",
              "      <td>95.000000</td>\n",
              "      <td>120000.000000</td>\n",
              "      <td>102127.000000</td>\n",
              "      <td>31.000000</td>\n",
              "      <td>63.000000</td>\n",
              "      <td>871.000000</td>\n",
              "      <td>275.000000</td>\n",
              "    </tr>\n",
              "  </tbody>\n",
              "</table>\n",
              "</div>\n",
              "      <button class=\"colab-df-convert\" onclick=\"convertToInteractive('df-30fca181-bece-4a46-913b-19352b921f15')\"\n",
              "              title=\"Convert this dataframe to an interactive table.\"\n",
              "              style=\"display:none;\">\n",
              "        \n",
              "  <svg xmlns=\"http://www.w3.org/2000/svg\" height=\"24px\"viewBox=\"0 0 24 24\"\n",
              "       width=\"24px\">\n",
              "    <path d=\"M0 0h24v24H0V0z\" fill=\"none\"/>\n",
              "    <path d=\"M18.56 5.44l.94 2.06.94-2.06 2.06-.94-2.06-.94-.94-2.06-.94 2.06-2.06.94zm-11 1L8.5 8.5l.94-2.06 2.06-.94-2.06-.94L8.5 2.5l-.94 2.06-2.06.94zm10 10l.94 2.06.94-2.06 2.06-.94-2.06-.94-.94-2.06-.94 2.06-2.06.94z\"/><path d=\"M17.41 7.96l-1.37-1.37c-.4-.4-.92-.59-1.43-.59-.52 0-1.04.2-1.43.59L10.3 9.45l-7.72 7.72c-.78.78-.78 2.05 0 2.83L4 21.41c.39.39.9.59 1.41.59.51 0 1.02-.2 1.41-.59l7.78-7.78 2.81-2.81c.8-.78.8-2.07 0-2.86zM5.41 20L4 18.59l7.72-7.72 1.47 1.35L5.41 20z\"/>\n",
              "  </svg>\n",
              "      </button>\n",
              "      \n",
              "  <style>\n",
              "    .colab-df-container {\n",
              "      display:flex;\n",
              "      flex-wrap:wrap;\n",
              "      gap: 12px;\n",
              "    }\n",
              "\n",
              "    .colab-df-convert {\n",
              "      background-color: #E8F0FE;\n",
              "      border: none;\n",
              "      border-radius: 50%;\n",
              "      cursor: pointer;\n",
              "      display: none;\n",
              "      fill: #1967D2;\n",
              "      height: 32px;\n",
              "      padding: 0 0 0 0;\n",
              "      width: 32px;\n",
              "    }\n",
              "\n",
              "    .colab-df-convert:hover {\n",
              "      background-color: #E2EBFA;\n",
              "      box-shadow: 0px 1px 2px rgba(60, 64, 67, 0.3), 0px 1px 3px 1px rgba(60, 64, 67, 0.15);\n",
              "      fill: #174EA6;\n",
              "    }\n",
              "\n",
              "    [theme=dark] .colab-df-convert {\n",
              "      background-color: #3B4455;\n",
              "      fill: #D2E3FC;\n",
              "    }\n",
              "\n",
              "    [theme=dark] .colab-df-convert:hover {\n",
              "      background-color: #434B5C;\n",
              "      box-shadow: 0px 1px 3px 1px rgba(0, 0, 0, 0.15);\n",
              "      filter: drop-shadow(0px 1px 2px rgba(0, 0, 0, 0.3));\n",
              "      fill: #FFFFFF;\n",
              "    }\n",
              "  </style>\n",
              "\n",
              "      <script>\n",
              "        const buttonEl =\n",
              "          document.querySelector('#df-30fca181-bece-4a46-913b-19352b921f15 button.colab-df-convert');\n",
              "        buttonEl.style.display =\n",
              "          google.colab.kernel.accessAllowed ? 'block' : 'none';\n",
              "\n",
              "        async function convertToInteractive(key) {\n",
              "          const element = document.querySelector('#df-30fca181-bece-4a46-913b-19352b921f15');\n",
              "          const dataTable =\n",
              "            await google.colab.kernel.invokeFunction('convertToInteractive',\n",
              "                                                     [key], {});\n",
              "          if (!dataTable) return;\n",
              "\n",
              "          const docLinkHtml = 'Like what you see? Visit the ' +\n",
              "            '<a target=\"_blank\" href=https://colab.research.google.com/notebooks/data_table.ipynb>data table notebook</a>'\n",
              "            + ' to learn more about interactive tables.';\n",
              "          element.innerHTML = '';\n",
              "          dataTable['output_type'] = 'display_data';\n",
              "          await google.colab.output.renderOutput(dataTable, element);\n",
              "          const docLink = document.createElement('div');\n",
              "          docLink.innerHTML = docLinkHtml;\n",
              "          element.appendChild(docLink);\n",
              "        }\n",
              "      </script>\n",
              "    </div>\n",
              "  </div>\n",
              "  "
            ]
          },
          "metadata": {},
          "execution_count": 20
        }
      ]
    },
    {
      "cell_type": "markdown",
      "source": [
        "Comparing Mean and Median values in each column, Below Columns could have Outliners or irregularities:\n",
        "\n",
        "* balance\n",
        "* pdays\n"
      ],
      "metadata": {
        "id": "-OzLPO7M1WE8"
      }
    },
    {
      "cell_type": "code",
      "source": [
        "End of Data Check Part"
      ],
      "metadata": {
        "colab": {
          "base_uri": "https://localhost:8080/",
          "height": 134
        },
        "id": "rn0_xL_7resb",
        "outputId": "aec58677-2dc8-420f-9e3e-441dfb6997bd"
      },
      "execution_count": 21,
      "outputs": [
        {
          "output_type": "error",
          "ename": "SyntaxError",
          "evalue": "ignored",
          "traceback": [
            "\u001b[0;36m  File \u001b[0;32m\"<ipython-input-21-f126433b2268>\"\u001b[0;36m, line \u001b[0;32m1\u001b[0m\n\u001b[0;31m    End of Data Check Part\u001b[0m\n\u001b[0m         ^\u001b[0m\n\u001b[0;31mSyntaxError\u001b[0m\u001b[0;31m:\u001b[0m invalid syntax\n"
          ]
        }
      ]
    },
    {
      "cell_type": "markdown",
      "metadata": {
        "id": "-EqN3sOIpIdi"
      },
      "source": [
        "### Segment- 3, Fixing the Rows and Columns "
      ]
    },
    {
      "cell_type": "markdown",
      "metadata": {
        "id": "XeMJxf37pIdj"
      },
      "source": [
        "Checklist for fixing rows:\n",
        "- **Delete summary rows**: Total and Subtotal rows\n",
        "- **Delete incorrect rows**: Header row and footer row\n",
        "- **Delete extra rows**: Column number, indicators, Blank rows, Page No.\n",
        "\n",
        "Checklist for fixing columns:\n",
        "- **Merge columns for creating unique identifiers**, if needed, for example, merge the columns State and City into the column Full address.\n",
        "- **Split columns to get more data**: Split the Address column to get State and City columns to analyse each separately. \n",
        "- **Add column names**: Add column names if missing.\n",
        "- **Rename columns consistently**: Abbreviations, encoded columns.\n",
        "- **Delete columns**: Delete unnecessary columns.\n",
        "- **Align misaligned columns**: The data set may have shifted columns, which you need to align correctly.\n"
      ]
    },
    {
      "cell_type": "code",
      "source": [
        "# Month Imputation\n",
        "# Month is a categorical Column, so lets try to impute missing value with Mode\n",
        "df.month.value_counts()"
      ],
      "metadata": {
        "colab": {
          "base_uri": "https://localhost:8080/"
        },
        "id": "OTLq6-3N6YvP",
        "outputId": "87b9d21c-493c-442b-ebab-cb9f139c9205"
      },
      "execution_count": 22,
      "outputs": [
        {
          "output_type": "execute_result",
          "data": {
            "text/plain": [
              "may, 2017    13747\n",
              "jul, 2017     6888\n",
              "aug, 2017     6240\n",
              "jun, 2017     5335\n",
              "nov, 2017     3968\n",
              "apr, 2017     2931\n",
              "feb, 2017     2646\n",
              "jan, 2017     1402\n",
              "oct, 2017      738\n",
              "sep, 2017      576\n",
              "mar, 2017      476\n",
              "dec, 2017      214\n",
              "Name: month, dtype: int64"
            ]
          },
          "metadata": {},
          "execution_count": 22
        }
      ]
    },
    {
      "cell_type": "code",
      "source": [
        "# Clearly may,2017 can be used for imputation\n",
        "## Finding the mode value:\t\n",
        "df['month'].mode()[0]\n"
      ],
      "metadata": {
        "colab": {
          "base_uri": "https://localhost:8080/",
          "height": 36
        },
        "id": "Rn5fA9uk62Mt",
        "outputId": "5d57260c-a688-4e8e-d508-1e901033b511"
      },
      "execution_count": 23,
      "outputs": [
        {
          "output_type": "execute_result",
          "data": {
            "text/plain": [
              "'may, 2017'"
            ],
            "application/vnd.google.colaboratory.intrinsic+json": {
              "type": "string"
            }
          },
          "metadata": {},
          "execution_count": 23
        }
      ]
    },
    {
      "cell_type": "code",
      "source": [
        "# Now Replace the NAN value with mode of the clm:\n",
        "df['month'] = df['month'].fillna(df['month'].mode()[0])\n",
        "df['month']\n",
        "df.month.value_counts()"
      ],
      "metadata": {
        "colab": {
          "base_uri": "https://localhost:8080/"
        },
        "id": "b5VTpL_NBa58",
        "outputId": "8e36c331-6fc1-44fe-bb27-7abd9e78b22f"
      },
      "execution_count": 24,
      "outputs": [
        {
          "output_type": "execute_result",
          "data": {
            "text/plain": [
              "may, 2017    13797\n",
              "jul, 2017     6888\n",
              "aug, 2017     6240\n",
              "jun, 2017     5335\n",
              "nov, 2017     3968\n",
              "apr, 2017     2931\n",
              "feb, 2017     2646\n",
              "jan, 2017     1402\n",
              "oct, 2017      738\n",
              "sep, 2017      576\n",
              "mar, 2017      476\n",
              "dec, 2017      214\n",
              "Name: month, dtype: int64"
            ]
          },
          "metadata": {},
          "execution_count": 24
        }
      ]
    },
    {
      "cell_type": "markdown",
      "source": [
        "##### Drop the null value count as decided"
      ],
      "metadata": {
        "id": "5N0d70-q6N9_"
      }
    },
    {
      "cell_type": "code",
      "source": [
        "# Use this to Drop all rows with Null Value\n",
        "\n",
        "# df = df.dropna()      \n",
        "\n",
        "# Since we checked all the null values and sure about dropping all, from all the columns, we used dropna() for df\n",
        "# To drop the null value rows column wise, we could replace df with df[\"column_name\"]"
      ],
      "metadata": {
        "id": "85WEx7Bw5_P-"
      },
      "execution_count": 25,
      "outputs": []
    },
    {
      "cell_type": "code",
      "source": [
        "# Use this to drop Rows with Null value in Age column\n",
        "df = df[~ df.age.isnull()]\n",
        "\n",
        "\n",
        "# Recheck Null Count\n",
        "df.isnull().sum()"
      ],
      "metadata": {
        "colab": {
          "base_uri": "https://localhost:8080/"
        },
        "id": "OX6PzfQixCwO",
        "outputId": "e70ff890-342e-4a04-b80a-b1bf8ff44778"
      },
      "execution_count": 26,
      "outputs": [
        {
          "output_type": "execute_result",
          "data": {
            "text/plain": [
              "customerid     0\n",
              "age            0\n",
              "salary         0\n",
              "balance        0\n",
              "marital        0\n",
              "jobedu         0\n",
              "targeted       0\n",
              "default        0\n",
              "housing        0\n",
              "loan           0\n",
              "contact        0\n",
              "day            0\n",
              "month          0\n",
              "duration       0\n",
              "campaign       0\n",
              "pdays          0\n",
              "previous       0\n",
              "poutcome       0\n",
              "response      30\n",
              "dtype: int64"
            ]
          },
          "metadata": {},
          "execution_count": 26
        }
      ]
    },
    {
      "cell_type": "code",
      "source": [
        "# Response column iputation will disturb our study, hence its better to drop the rows with null value in Response COlumn\n",
        "# Use this to drop Rows with Null value in Age column\n",
        "df = df[~ df.response.isnull()]\n",
        "\n",
        "# Recheck Null Count\n",
        "df.isnull().sum()"
      ],
      "metadata": {
        "colab": {
          "base_uri": "https://localhost:8080/"
        },
        "id": "fyJcWN4RCUte",
        "outputId": "d83668fa-c7f5-41a2-ee80-ebb8098a827c"
      },
      "execution_count": 27,
      "outputs": [
        {
          "output_type": "execute_result",
          "data": {
            "text/plain": [
              "customerid    0\n",
              "age           0\n",
              "salary        0\n",
              "balance       0\n",
              "marital       0\n",
              "jobedu        0\n",
              "targeted      0\n",
              "default       0\n",
              "housing       0\n",
              "loan          0\n",
              "contact       0\n",
              "day           0\n",
              "month         0\n",
              "duration      0\n",
              "campaign      0\n",
              "pdays         0\n",
              "previous      0\n",
              "poutcome      0\n",
              "response      0\n",
              "dtype: int64"
            ]
          },
          "metadata": {},
          "execution_count": 27
        }
      ]
    },
    {
      "cell_type": "markdown",
      "metadata": {
        "id": "JyIzBP15pIdo"
      },
      "source": [
        "#### Dropping customer id column. "
      ]
    },
    {
      "cell_type": "code",
      "execution_count": 28,
      "metadata": {
        "colab": {
          "base_uri": "https://localhost:8080/",
          "height": 357
        },
        "id": "Qq7XPotHpIdo",
        "outputId": "2e436e78-bb28-47f9-ad59-5c1e514216ab"
      },
      "outputs": [
        {
          "output_type": "execute_result",
          "data": {
            "text/plain": [
              "    age  salary  balance  marital                  jobedu targeted default  \\\n",
              "0  58.0  100000     2143  married     management,tertiary      yes      no   \n",
              "1  44.0   60000       29   single    technician,secondary      yes      no   \n",
              "2  33.0  120000        2  married  entrepreneur,secondary      yes      no   \n",
              "3  47.0   20000     1506  married     blue-collar,unknown       no      no   \n",
              "4  33.0       0        1   single         unknown,unknown       no      no   \n",
              "\n",
              "  housing loan  contact  day      month duration  campaign  pdays  previous  \\\n",
              "0     yes   no  unknown    5  may, 2017  261 sec         1     -1         0   \n",
              "1     yes   no  unknown    5  may, 2017  151 sec         1     -1         0   \n",
              "2     yes  yes  unknown    5  may, 2017   76 sec         1     -1         0   \n",
              "3     yes   no  unknown    5  may, 2017   92 sec         1     -1         0   \n",
              "4      no   no  unknown    5  may, 2017  198 sec         1     -1         0   \n",
              "\n",
              "  poutcome response  \n",
              "0  unknown       no  \n",
              "1  unknown       no  \n",
              "2  unknown       no  \n",
              "3  unknown       no  \n",
              "4  unknown       no  "
            ],
            "text/html": [
              "\n",
              "  <div id=\"df-c81ecfd9-636d-4894-93ff-b5e98ebe0e10\">\n",
              "    <div class=\"colab-df-container\">\n",
              "      <div>\n",
              "<style scoped>\n",
              "    .dataframe tbody tr th:only-of-type {\n",
              "        vertical-align: middle;\n",
              "    }\n",
              "\n",
              "    .dataframe tbody tr th {\n",
              "        vertical-align: top;\n",
              "    }\n",
              "\n",
              "    .dataframe thead th {\n",
              "        text-align: right;\n",
              "    }\n",
              "</style>\n",
              "<table border=\"1\" class=\"dataframe\">\n",
              "  <thead>\n",
              "    <tr style=\"text-align: right;\">\n",
              "      <th></th>\n",
              "      <th>age</th>\n",
              "      <th>salary</th>\n",
              "      <th>balance</th>\n",
              "      <th>marital</th>\n",
              "      <th>jobedu</th>\n",
              "      <th>targeted</th>\n",
              "      <th>default</th>\n",
              "      <th>housing</th>\n",
              "      <th>loan</th>\n",
              "      <th>contact</th>\n",
              "      <th>day</th>\n",
              "      <th>month</th>\n",
              "      <th>duration</th>\n",
              "      <th>campaign</th>\n",
              "      <th>pdays</th>\n",
              "      <th>previous</th>\n",
              "      <th>poutcome</th>\n",
              "      <th>response</th>\n",
              "    </tr>\n",
              "  </thead>\n",
              "  <tbody>\n",
              "    <tr>\n",
              "      <th>0</th>\n",
              "      <td>58.0</td>\n",
              "      <td>100000</td>\n",
              "      <td>2143</td>\n",
              "      <td>married</td>\n",
              "      <td>management,tertiary</td>\n",
              "      <td>yes</td>\n",
              "      <td>no</td>\n",
              "      <td>yes</td>\n",
              "      <td>no</td>\n",
              "      <td>unknown</td>\n",
              "      <td>5</td>\n",
              "      <td>may, 2017</td>\n",
              "      <td>261 sec</td>\n",
              "      <td>1</td>\n",
              "      <td>-1</td>\n",
              "      <td>0</td>\n",
              "      <td>unknown</td>\n",
              "      <td>no</td>\n",
              "    </tr>\n",
              "    <tr>\n",
              "      <th>1</th>\n",
              "      <td>44.0</td>\n",
              "      <td>60000</td>\n",
              "      <td>29</td>\n",
              "      <td>single</td>\n",
              "      <td>technician,secondary</td>\n",
              "      <td>yes</td>\n",
              "      <td>no</td>\n",
              "      <td>yes</td>\n",
              "      <td>no</td>\n",
              "      <td>unknown</td>\n",
              "      <td>5</td>\n",
              "      <td>may, 2017</td>\n",
              "      <td>151 sec</td>\n",
              "      <td>1</td>\n",
              "      <td>-1</td>\n",
              "      <td>0</td>\n",
              "      <td>unknown</td>\n",
              "      <td>no</td>\n",
              "    </tr>\n",
              "    <tr>\n",
              "      <th>2</th>\n",
              "      <td>33.0</td>\n",
              "      <td>120000</td>\n",
              "      <td>2</td>\n",
              "      <td>married</td>\n",
              "      <td>entrepreneur,secondary</td>\n",
              "      <td>yes</td>\n",
              "      <td>no</td>\n",
              "      <td>yes</td>\n",
              "      <td>yes</td>\n",
              "      <td>unknown</td>\n",
              "      <td>5</td>\n",
              "      <td>may, 2017</td>\n",
              "      <td>76 sec</td>\n",
              "      <td>1</td>\n",
              "      <td>-1</td>\n",
              "      <td>0</td>\n",
              "      <td>unknown</td>\n",
              "      <td>no</td>\n",
              "    </tr>\n",
              "    <tr>\n",
              "      <th>3</th>\n",
              "      <td>47.0</td>\n",
              "      <td>20000</td>\n",
              "      <td>1506</td>\n",
              "      <td>married</td>\n",
              "      <td>blue-collar,unknown</td>\n",
              "      <td>no</td>\n",
              "      <td>no</td>\n",
              "      <td>yes</td>\n",
              "      <td>no</td>\n",
              "      <td>unknown</td>\n",
              "      <td>5</td>\n",
              "      <td>may, 2017</td>\n",
              "      <td>92 sec</td>\n",
              "      <td>1</td>\n",
              "      <td>-1</td>\n",
              "      <td>0</td>\n",
              "      <td>unknown</td>\n",
              "      <td>no</td>\n",
              "    </tr>\n",
              "    <tr>\n",
              "      <th>4</th>\n",
              "      <td>33.0</td>\n",
              "      <td>0</td>\n",
              "      <td>1</td>\n",
              "      <td>single</td>\n",
              "      <td>unknown,unknown</td>\n",
              "      <td>no</td>\n",
              "      <td>no</td>\n",
              "      <td>no</td>\n",
              "      <td>no</td>\n",
              "      <td>unknown</td>\n",
              "      <td>5</td>\n",
              "      <td>may, 2017</td>\n",
              "      <td>198 sec</td>\n",
              "      <td>1</td>\n",
              "      <td>-1</td>\n",
              "      <td>0</td>\n",
              "      <td>unknown</td>\n",
              "      <td>no</td>\n",
              "    </tr>\n",
              "  </tbody>\n",
              "</table>\n",
              "</div>\n",
              "      <button class=\"colab-df-convert\" onclick=\"convertToInteractive('df-c81ecfd9-636d-4894-93ff-b5e98ebe0e10')\"\n",
              "              title=\"Convert this dataframe to an interactive table.\"\n",
              "              style=\"display:none;\">\n",
              "        \n",
              "  <svg xmlns=\"http://www.w3.org/2000/svg\" height=\"24px\"viewBox=\"0 0 24 24\"\n",
              "       width=\"24px\">\n",
              "    <path d=\"M0 0h24v24H0V0z\" fill=\"none\"/>\n",
              "    <path d=\"M18.56 5.44l.94 2.06.94-2.06 2.06-.94-2.06-.94-.94-2.06-.94 2.06-2.06.94zm-11 1L8.5 8.5l.94-2.06 2.06-.94-2.06-.94L8.5 2.5l-.94 2.06-2.06.94zm10 10l.94 2.06.94-2.06 2.06-.94-2.06-.94-.94-2.06-.94 2.06-2.06.94z\"/><path d=\"M17.41 7.96l-1.37-1.37c-.4-.4-.92-.59-1.43-.59-.52 0-1.04.2-1.43.59L10.3 9.45l-7.72 7.72c-.78.78-.78 2.05 0 2.83L4 21.41c.39.39.9.59 1.41.59.51 0 1.02-.2 1.41-.59l7.78-7.78 2.81-2.81c.8-.78.8-2.07 0-2.86zM5.41 20L4 18.59l7.72-7.72 1.47 1.35L5.41 20z\"/>\n",
              "  </svg>\n",
              "      </button>\n",
              "      \n",
              "  <style>\n",
              "    .colab-df-container {\n",
              "      display:flex;\n",
              "      flex-wrap:wrap;\n",
              "      gap: 12px;\n",
              "    }\n",
              "\n",
              "    .colab-df-convert {\n",
              "      background-color: #E8F0FE;\n",
              "      border: none;\n",
              "      border-radius: 50%;\n",
              "      cursor: pointer;\n",
              "      display: none;\n",
              "      fill: #1967D2;\n",
              "      height: 32px;\n",
              "      padding: 0 0 0 0;\n",
              "      width: 32px;\n",
              "    }\n",
              "\n",
              "    .colab-df-convert:hover {\n",
              "      background-color: #E2EBFA;\n",
              "      box-shadow: 0px 1px 2px rgba(60, 64, 67, 0.3), 0px 1px 3px 1px rgba(60, 64, 67, 0.15);\n",
              "      fill: #174EA6;\n",
              "    }\n",
              "\n",
              "    [theme=dark] .colab-df-convert {\n",
              "      background-color: #3B4455;\n",
              "      fill: #D2E3FC;\n",
              "    }\n",
              "\n",
              "    [theme=dark] .colab-df-convert:hover {\n",
              "      background-color: #434B5C;\n",
              "      box-shadow: 0px 1px 3px 1px rgba(0, 0, 0, 0.15);\n",
              "      filter: drop-shadow(0px 1px 2px rgba(0, 0, 0, 0.3));\n",
              "      fill: #FFFFFF;\n",
              "    }\n",
              "  </style>\n",
              "\n",
              "      <script>\n",
              "        const buttonEl =\n",
              "          document.querySelector('#df-c81ecfd9-636d-4894-93ff-b5e98ebe0e10 button.colab-df-convert');\n",
              "        buttonEl.style.display =\n",
              "          google.colab.kernel.accessAllowed ? 'block' : 'none';\n",
              "\n",
              "        async function convertToInteractive(key) {\n",
              "          const element = document.querySelector('#df-c81ecfd9-636d-4894-93ff-b5e98ebe0e10');\n",
              "          const dataTable =\n",
              "            await google.colab.kernel.invokeFunction('convertToInteractive',\n",
              "                                                     [key], {});\n",
              "          if (!dataTable) return;\n",
              "\n",
              "          const docLinkHtml = 'Like what you see? Visit the ' +\n",
              "            '<a target=\"_blank\" href=https://colab.research.google.com/notebooks/data_table.ipynb>data table notebook</a>'\n",
              "            + ' to learn more about interactive tables.';\n",
              "          element.innerHTML = '';\n",
              "          dataTable['output_type'] = 'display_data';\n",
              "          await google.colab.output.renderOutput(dataTable, element);\n",
              "          const docLink = document.createElement('div');\n",
              "          docLink.innerHTML = docLinkHtml;\n",
              "          element.appendChild(docLink);\n",
              "        }\n",
              "      </script>\n",
              "    </div>\n",
              "  </div>\n",
              "  "
            ]
          },
          "metadata": {},
          "execution_count": 28
        }
      ],
      "source": [
        "#drop the customer id column as it is of no use.\n",
        "\n",
        "df.drop(\"customerid\", axis = 1, inplace = True)\n",
        "df.head()"
      ]
    },
    {
      "cell_type": "code",
      "execution_count": 29,
      "metadata": {
        "id": "ScM8A1-WpIdm"
      },
      "outputs": [],
      "source": [
        "#convert the age variable data type from float to integer.\n",
        "df['age'] = df['age'].astype(int)"
      ]
    },
    {
      "cell_type": "code",
      "execution_count": 30,
      "metadata": {
        "id": "Il2pmd37pIdn",
        "colab": {
          "base_uri": "https://localhost:8080/"
        },
        "outputId": "4e3c63a1-d7b4-4a7d-ec18-a8bed9f76956"
      },
      "outputs": [
        {
          "output_type": "execute_result",
          "data": {
            "text/plain": [
              "40.93576315847745"
            ]
          },
          "metadata": {},
          "execution_count": 30
        }
      ],
      "source": [
        "#print the average age of customers\n",
        "df['age'].mean()"
      ]
    },
    {
      "cell_type": "code",
      "source": [
        "#print the average age of customers\n",
        "df['age'].mode()[0]"
      ],
      "metadata": {
        "colab": {
          "base_uri": "https://localhost:8080/"
        },
        "id": "bjHuE2LflTOX",
        "outputId": "cb58db9c-52ec-4700-ac7a-3b4583f603f7"
      },
      "execution_count": 31,
      "outputs": [
        {
          "output_type": "execute_result",
          "data": {
            "text/plain": [
              "32"
            ]
          },
          "metadata": {},
          "execution_count": 31
        }
      ]
    },
    {
      "cell_type": "code",
      "source": [
        "#print the average age of customers\n",
        "df['age'].median()\n"
      ],
      "metadata": {
        "colab": {
          "base_uri": "https://localhost:8080/"
        },
        "id": "U-JqO8V1lXoG",
        "outputId": "b8241d0e-8a7c-4b5f-f5b8-da175484cc2b"
      },
      "execution_count": 32,
      "outputs": [
        {
          "output_type": "execute_result",
          "data": {
            "text/plain": [
              "39.0"
            ]
          },
          "metadata": {},
          "execution_count": 32
        }
      ]
    },
    {
      "cell_type": "markdown",
      "metadata": {
        "id": "SPEkzyxhpIdp"
      },
      "source": [
        "#### Dividing \"jobedu\" column into job and education categories. "
      ]
    },
    {
      "cell_type": "code",
      "execution_count": 33,
      "metadata": {
        "id": "XeG16QUlpIdp"
      },
      "outputs": [],
      "source": [
        "# Extract job in newly created 'job' column from \"jobedu\" column.\n",
        "\n",
        "df['job']= df.jobedu.apply(lambda x: x.split(\",\")[0])\n"
      ]
    },
    {
      "cell_type": "code",
      "execution_count": 34,
      "metadata": {
        "id": "p1IwNUKYpIdp"
      },
      "outputs": [],
      "source": [
        "# Extract education in newly created 'education' column from \"jobedu\" column.\n",
        "\n",
        "df['education']= df.jobedu.apply(lambda x: x.split(\",\")[1])"
      ]
    },
    {
      "cell_type": "code",
      "execution_count": 35,
      "metadata": {
        "id": "m35R1tpjpIdp",
        "colab": {
          "base_uri": "https://localhost:8080/",
          "height": 357
        },
        "outputId": "dfb94356-745a-472e-c7ae-fb2b3f9bc6f9"
      },
      "outputs": [
        {
          "output_type": "execute_result",
          "data": {
            "text/plain": [
              "   age  salary  balance  marital targeted default housing loan  contact  day  \\\n",
              "0   58  100000     2143  married      yes      no     yes   no  unknown    5   \n",
              "1   44   60000       29   single      yes      no     yes   no  unknown    5   \n",
              "2   33  120000        2  married      yes      no     yes  yes  unknown    5   \n",
              "3   47   20000     1506  married       no      no     yes   no  unknown    5   \n",
              "4   33       0        1   single       no      no      no   no  unknown    5   \n",
              "\n",
              "       month duration  campaign  pdays  previous poutcome response  \\\n",
              "0  may, 2017  261 sec         1     -1         0  unknown       no   \n",
              "1  may, 2017  151 sec         1     -1         0  unknown       no   \n",
              "2  may, 2017   76 sec         1     -1         0  unknown       no   \n",
              "3  may, 2017   92 sec         1     -1         0  unknown       no   \n",
              "4  may, 2017  198 sec         1     -1         0  unknown       no   \n",
              "\n",
              "            job  education  \n",
              "0    management   tertiary  \n",
              "1    technician  secondary  \n",
              "2  entrepreneur  secondary  \n",
              "3   blue-collar    unknown  \n",
              "4       unknown    unknown  "
            ],
            "text/html": [
              "\n",
              "  <div id=\"df-3903829c-54a9-4665-9d47-e8c5a42be7be\">\n",
              "    <div class=\"colab-df-container\">\n",
              "      <div>\n",
              "<style scoped>\n",
              "    .dataframe tbody tr th:only-of-type {\n",
              "        vertical-align: middle;\n",
              "    }\n",
              "\n",
              "    .dataframe tbody tr th {\n",
              "        vertical-align: top;\n",
              "    }\n",
              "\n",
              "    .dataframe thead th {\n",
              "        text-align: right;\n",
              "    }\n",
              "</style>\n",
              "<table border=\"1\" class=\"dataframe\">\n",
              "  <thead>\n",
              "    <tr style=\"text-align: right;\">\n",
              "      <th></th>\n",
              "      <th>age</th>\n",
              "      <th>salary</th>\n",
              "      <th>balance</th>\n",
              "      <th>marital</th>\n",
              "      <th>targeted</th>\n",
              "      <th>default</th>\n",
              "      <th>housing</th>\n",
              "      <th>loan</th>\n",
              "      <th>contact</th>\n",
              "      <th>day</th>\n",
              "      <th>month</th>\n",
              "      <th>duration</th>\n",
              "      <th>campaign</th>\n",
              "      <th>pdays</th>\n",
              "      <th>previous</th>\n",
              "      <th>poutcome</th>\n",
              "      <th>response</th>\n",
              "      <th>job</th>\n",
              "      <th>education</th>\n",
              "    </tr>\n",
              "  </thead>\n",
              "  <tbody>\n",
              "    <tr>\n",
              "      <th>0</th>\n",
              "      <td>58</td>\n",
              "      <td>100000</td>\n",
              "      <td>2143</td>\n",
              "      <td>married</td>\n",
              "      <td>yes</td>\n",
              "      <td>no</td>\n",
              "      <td>yes</td>\n",
              "      <td>no</td>\n",
              "      <td>unknown</td>\n",
              "      <td>5</td>\n",
              "      <td>may, 2017</td>\n",
              "      <td>261 sec</td>\n",
              "      <td>1</td>\n",
              "      <td>-1</td>\n",
              "      <td>0</td>\n",
              "      <td>unknown</td>\n",
              "      <td>no</td>\n",
              "      <td>management</td>\n",
              "      <td>tertiary</td>\n",
              "    </tr>\n",
              "    <tr>\n",
              "      <th>1</th>\n",
              "      <td>44</td>\n",
              "      <td>60000</td>\n",
              "      <td>29</td>\n",
              "      <td>single</td>\n",
              "      <td>yes</td>\n",
              "      <td>no</td>\n",
              "      <td>yes</td>\n",
              "      <td>no</td>\n",
              "      <td>unknown</td>\n",
              "      <td>5</td>\n",
              "      <td>may, 2017</td>\n",
              "      <td>151 sec</td>\n",
              "      <td>1</td>\n",
              "      <td>-1</td>\n",
              "      <td>0</td>\n",
              "      <td>unknown</td>\n",
              "      <td>no</td>\n",
              "      <td>technician</td>\n",
              "      <td>secondary</td>\n",
              "    </tr>\n",
              "    <tr>\n",
              "      <th>2</th>\n",
              "      <td>33</td>\n",
              "      <td>120000</td>\n",
              "      <td>2</td>\n",
              "      <td>married</td>\n",
              "      <td>yes</td>\n",
              "      <td>no</td>\n",
              "      <td>yes</td>\n",
              "      <td>yes</td>\n",
              "      <td>unknown</td>\n",
              "      <td>5</td>\n",
              "      <td>may, 2017</td>\n",
              "      <td>76 sec</td>\n",
              "      <td>1</td>\n",
              "      <td>-1</td>\n",
              "      <td>0</td>\n",
              "      <td>unknown</td>\n",
              "      <td>no</td>\n",
              "      <td>entrepreneur</td>\n",
              "      <td>secondary</td>\n",
              "    </tr>\n",
              "    <tr>\n",
              "      <th>3</th>\n",
              "      <td>47</td>\n",
              "      <td>20000</td>\n",
              "      <td>1506</td>\n",
              "      <td>married</td>\n",
              "      <td>no</td>\n",
              "      <td>no</td>\n",
              "      <td>yes</td>\n",
              "      <td>no</td>\n",
              "      <td>unknown</td>\n",
              "      <td>5</td>\n",
              "      <td>may, 2017</td>\n",
              "      <td>92 sec</td>\n",
              "      <td>1</td>\n",
              "      <td>-1</td>\n",
              "      <td>0</td>\n",
              "      <td>unknown</td>\n",
              "      <td>no</td>\n",
              "      <td>blue-collar</td>\n",
              "      <td>unknown</td>\n",
              "    </tr>\n",
              "    <tr>\n",
              "      <th>4</th>\n",
              "      <td>33</td>\n",
              "      <td>0</td>\n",
              "      <td>1</td>\n",
              "      <td>single</td>\n",
              "      <td>no</td>\n",
              "      <td>no</td>\n",
              "      <td>no</td>\n",
              "      <td>no</td>\n",
              "      <td>unknown</td>\n",
              "      <td>5</td>\n",
              "      <td>may, 2017</td>\n",
              "      <td>198 sec</td>\n",
              "      <td>1</td>\n",
              "      <td>-1</td>\n",
              "      <td>0</td>\n",
              "      <td>unknown</td>\n",
              "      <td>no</td>\n",
              "      <td>unknown</td>\n",
              "      <td>unknown</td>\n",
              "    </tr>\n",
              "  </tbody>\n",
              "</table>\n",
              "</div>\n",
              "      <button class=\"colab-df-convert\" onclick=\"convertToInteractive('df-3903829c-54a9-4665-9d47-e8c5a42be7be')\"\n",
              "              title=\"Convert this dataframe to an interactive table.\"\n",
              "              style=\"display:none;\">\n",
              "        \n",
              "  <svg xmlns=\"http://www.w3.org/2000/svg\" height=\"24px\"viewBox=\"0 0 24 24\"\n",
              "       width=\"24px\">\n",
              "    <path d=\"M0 0h24v24H0V0z\" fill=\"none\"/>\n",
              "    <path d=\"M18.56 5.44l.94 2.06.94-2.06 2.06-.94-2.06-.94-.94-2.06-.94 2.06-2.06.94zm-11 1L8.5 8.5l.94-2.06 2.06-.94-2.06-.94L8.5 2.5l-.94 2.06-2.06.94zm10 10l.94 2.06.94-2.06 2.06-.94-2.06-.94-.94-2.06-.94 2.06-2.06.94z\"/><path d=\"M17.41 7.96l-1.37-1.37c-.4-.4-.92-.59-1.43-.59-.52 0-1.04.2-1.43.59L10.3 9.45l-7.72 7.72c-.78.78-.78 2.05 0 2.83L4 21.41c.39.39.9.59 1.41.59.51 0 1.02-.2 1.41-.59l7.78-7.78 2.81-2.81c.8-.78.8-2.07 0-2.86zM5.41 20L4 18.59l7.72-7.72 1.47 1.35L5.41 20z\"/>\n",
              "  </svg>\n",
              "      </button>\n",
              "      \n",
              "  <style>\n",
              "    .colab-df-container {\n",
              "      display:flex;\n",
              "      flex-wrap:wrap;\n",
              "      gap: 12px;\n",
              "    }\n",
              "\n",
              "    .colab-df-convert {\n",
              "      background-color: #E8F0FE;\n",
              "      border: none;\n",
              "      border-radius: 50%;\n",
              "      cursor: pointer;\n",
              "      display: none;\n",
              "      fill: #1967D2;\n",
              "      height: 32px;\n",
              "      padding: 0 0 0 0;\n",
              "      width: 32px;\n",
              "    }\n",
              "\n",
              "    .colab-df-convert:hover {\n",
              "      background-color: #E2EBFA;\n",
              "      box-shadow: 0px 1px 2px rgba(60, 64, 67, 0.3), 0px 1px 3px 1px rgba(60, 64, 67, 0.15);\n",
              "      fill: #174EA6;\n",
              "    }\n",
              "\n",
              "    [theme=dark] .colab-df-convert {\n",
              "      background-color: #3B4455;\n",
              "      fill: #D2E3FC;\n",
              "    }\n",
              "\n",
              "    [theme=dark] .colab-df-convert:hover {\n",
              "      background-color: #434B5C;\n",
              "      box-shadow: 0px 1px 3px 1px rgba(0, 0, 0, 0.15);\n",
              "      filter: drop-shadow(0px 1px 2px rgba(0, 0, 0, 0.3));\n",
              "      fill: #FFFFFF;\n",
              "    }\n",
              "  </style>\n",
              "\n",
              "      <script>\n",
              "        const buttonEl =\n",
              "          document.querySelector('#df-3903829c-54a9-4665-9d47-e8c5a42be7be button.colab-df-convert');\n",
              "        buttonEl.style.display =\n",
              "          google.colab.kernel.accessAllowed ? 'block' : 'none';\n",
              "\n",
              "        async function convertToInteractive(key) {\n",
              "          const element = document.querySelector('#df-3903829c-54a9-4665-9d47-e8c5a42be7be');\n",
              "          const dataTable =\n",
              "            await google.colab.kernel.invokeFunction('convertToInteractive',\n",
              "                                                     [key], {});\n",
              "          if (!dataTable) return;\n",
              "\n",
              "          const docLinkHtml = 'Like what you see? Visit the ' +\n",
              "            '<a target=\"_blank\" href=https://colab.research.google.com/notebooks/data_table.ipynb>data table notebook</a>'\n",
              "            + ' to learn more about interactive tables.';\n",
              "          element.innerHTML = '';\n",
              "          dataTable['output_type'] = 'display_data';\n",
              "          await google.colab.output.renderOutput(dataTable, element);\n",
              "          const docLink = document.createElement('div');\n",
              "          docLink.innerHTML = docLinkHtml;\n",
              "          element.appendChild(docLink);\n",
              "        }\n",
              "      </script>\n",
              "    </div>\n",
              "  </div>\n",
              "  "
            ]
          },
          "metadata": {},
          "execution_count": 35
        }
      ],
      "source": [
        "#drop the \"jobedu\" column from the dataframe.\n",
        "\n",
        "df.drop(\"jobedu\", axis = 1, inplace = True)\n",
        "df.head()\n"
      ]
    },
    {
      "cell_type": "markdown",
      "source": [
        "#### Dividing \"month\" column into month and Year categories. "
      ],
      "metadata": {
        "id": "nzXaPBhuqIAC"
      }
    },
    {
      "cell_type": "code",
      "source": [
        "# Extract year in newly created :\n",
        "df['year']= df.month.apply(lambda x: x.split(\",\")[1])"
      ],
      "metadata": {
        "id": "J5hAKaAbqD8K"
      },
      "execution_count": 36,
      "outputs": []
    },
    {
      "cell_type": "code",
      "source": [
        "# Revise Month column to only show months data\n",
        "df['month']= df.month.apply(lambda x: x.split(\",\")[0])"
      ],
      "metadata": {
        "id": "jWTftaYMqPoa"
      },
      "execution_count": 37,
      "outputs": []
    },
    {
      "cell_type": "code",
      "source": [
        "df.head()"
      ],
      "metadata": {
        "colab": {
          "base_uri": "https://localhost:8080/",
          "height": 270
        },
        "id": "Wks7_ehCqraU",
        "outputId": "f514cf56-7460-41b3-eea1-513e2431e6de"
      },
      "execution_count": 38,
      "outputs": [
        {
          "output_type": "execute_result",
          "data": {
            "text/plain": [
              "   age  salary  balance  marital targeted default housing loan  contact  day  \\\n",
              "0   58  100000     2143  married      yes      no     yes   no  unknown    5   \n",
              "1   44   60000       29   single      yes      no     yes   no  unknown    5   \n",
              "2   33  120000        2  married      yes      no     yes  yes  unknown    5   \n",
              "3   47   20000     1506  married       no      no     yes   no  unknown    5   \n",
              "4   33       0        1   single       no      no      no   no  unknown    5   \n",
              "\n",
              "  month duration  campaign  pdays  previous poutcome response           job  \\\n",
              "0   may  261 sec         1     -1         0  unknown       no    management   \n",
              "1   may  151 sec         1     -1         0  unknown       no    technician   \n",
              "2   may   76 sec         1     -1         0  unknown       no  entrepreneur   \n",
              "3   may   92 sec         1     -1         0  unknown       no   blue-collar   \n",
              "4   may  198 sec         1     -1         0  unknown       no       unknown   \n",
              "\n",
              "   education   year  \n",
              "0   tertiary   2017  \n",
              "1  secondary   2017  \n",
              "2  secondary   2017  \n",
              "3    unknown   2017  \n",
              "4    unknown   2017  "
            ],
            "text/html": [
              "\n",
              "  <div id=\"df-bc79e443-0242-4988-aec1-e3662c0481cd\">\n",
              "    <div class=\"colab-df-container\">\n",
              "      <div>\n",
              "<style scoped>\n",
              "    .dataframe tbody tr th:only-of-type {\n",
              "        vertical-align: middle;\n",
              "    }\n",
              "\n",
              "    .dataframe tbody tr th {\n",
              "        vertical-align: top;\n",
              "    }\n",
              "\n",
              "    .dataframe thead th {\n",
              "        text-align: right;\n",
              "    }\n",
              "</style>\n",
              "<table border=\"1\" class=\"dataframe\">\n",
              "  <thead>\n",
              "    <tr style=\"text-align: right;\">\n",
              "      <th></th>\n",
              "      <th>age</th>\n",
              "      <th>salary</th>\n",
              "      <th>balance</th>\n",
              "      <th>marital</th>\n",
              "      <th>targeted</th>\n",
              "      <th>default</th>\n",
              "      <th>housing</th>\n",
              "      <th>loan</th>\n",
              "      <th>contact</th>\n",
              "      <th>day</th>\n",
              "      <th>month</th>\n",
              "      <th>duration</th>\n",
              "      <th>campaign</th>\n",
              "      <th>pdays</th>\n",
              "      <th>previous</th>\n",
              "      <th>poutcome</th>\n",
              "      <th>response</th>\n",
              "      <th>job</th>\n",
              "      <th>education</th>\n",
              "      <th>year</th>\n",
              "    </tr>\n",
              "  </thead>\n",
              "  <tbody>\n",
              "    <tr>\n",
              "      <th>0</th>\n",
              "      <td>58</td>\n",
              "      <td>100000</td>\n",
              "      <td>2143</td>\n",
              "      <td>married</td>\n",
              "      <td>yes</td>\n",
              "      <td>no</td>\n",
              "      <td>yes</td>\n",
              "      <td>no</td>\n",
              "      <td>unknown</td>\n",
              "      <td>5</td>\n",
              "      <td>may</td>\n",
              "      <td>261 sec</td>\n",
              "      <td>1</td>\n",
              "      <td>-1</td>\n",
              "      <td>0</td>\n",
              "      <td>unknown</td>\n",
              "      <td>no</td>\n",
              "      <td>management</td>\n",
              "      <td>tertiary</td>\n",
              "      <td>2017</td>\n",
              "    </tr>\n",
              "    <tr>\n",
              "      <th>1</th>\n",
              "      <td>44</td>\n",
              "      <td>60000</td>\n",
              "      <td>29</td>\n",
              "      <td>single</td>\n",
              "      <td>yes</td>\n",
              "      <td>no</td>\n",
              "      <td>yes</td>\n",
              "      <td>no</td>\n",
              "      <td>unknown</td>\n",
              "      <td>5</td>\n",
              "      <td>may</td>\n",
              "      <td>151 sec</td>\n",
              "      <td>1</td>\n",
              "      <td>-1</td>\n",
              "      <td>0</td>\n",
              "      <td>unknown</td>\n",
              "      <td>no</td>\n",
              "      <td>technician</td>\n",
              "      <td>secondary</td>\n",
              "      <td>2017</td>\n",
              "    </tr>\n",
              "    <tr>\n",
              "      <th>2</th>\n",
              "      <td>33</td>\n",
              "      <td>120000</td>\n",
              "      <td>2</td>\n",
              "      <td>married</td>\n",
              "      <td>yes</td>\n",
              "      <td>no</td>\n",
              "      <td>yes</td>\n",
              "      <td>yes</td>\n",
              "      <td>unknown</td>\n",
              "      <td>5</td>\n",
              "      <td>may</td>\n",
              "      <td>76 sec</td>\n",
              "      <td>1</td>\n",
              "      <td>-1</td>\n",
              "      <td>0</td>\n",
              "      <td>unknown</td>\n",
              "      <td>no</td>\n",
              "      <td>entrepreneur</td>\n",
              "      <td>secondary</td>\n",
              "      <td>2017</td>\n",
              "    </tr>\n",
              "    <tr>\n",
              "      <th>3</th>\n",
              "      <td>47</td>\n",
              "      <td>20000</td>\n",
              "      <td>1506</td>\n",
              "      <td>married</td>\n",
              "      <td>no</td>\n",
              "      <td>no</td>\n",
              "      <td>yes</td>\n",
              "      <td>no</td>\n",
              "      <td>unknown</td>\n",
              "      <td>5</td>\n",
              "      <td>may</td>\n",
              "      <td>92 sec</td>\n",
              "      <td>1</td>\n",
              "      <td>-1</td>\n",
              "      <td>0</td>\n",
              "      <td>unknown</td>\n",
              "      <td>no</td>\n",
              "      <td>blue-collar</td>\n",
              "      <td>unknown</td>\n",
              "      <td>2017</td>\n",
              "    </tr>\n",
              "    <tr>\n",
              "      <th>4</th>\n",
              "      <td>33</td>\n",
              "      <td>0</td>\n",
              "      <td>1</td>\n",
              "      <td>single</td>\n",
              "      <td>no</td>\n",
              "      <td>no</td>\n",
              "      <td>no</td>\n",
              "      <td>no</td>\n",
              "      <td>unknown</td>\n",
              "      <td>5</td>\n",
              "      <td>may</td>\n",
              "      <td>198 sec</td>\n",
              "      <td>1</td>\n",
              "      <td>-1</td>\n",
              "      <td>0</td>\n",
              "      <td>unknown</td>\n",
              "      <td>no</td>\n",
              "      <td>unknown</td>\n",
              "      <td>unknown</td>\n",
              "      <td>2017</td>\n",
              "    </tr>\n",
              "  </tbody>\n",
              "</table>\n",
              "</div>\n",
              "      <button class=\"colab-df-convert\" onclick=\"convertToInteractive('df-bc79e443-0242-4988-aec1-e3662c0481cd')\"\n",
              "              title=\"Convert this dataframe to an interactive table.\"\n",
              "              style=\"display:none;\">\n",
              "        \n",
              "  <svg xmlns=\"http://www.w3.org/2000/svg\" height=\"24px\"viewBox=\"0 0 24 24\"\n",
              "       width=\"24px\">\n",
              "    <path d=\"M0 0h24v24H0V0z\" fill=\"none\"/>\n",
              "    <path d=\"M18.56 5.44l.94 2.06.94-2.06 2.06-.94-2.06-.94-.94-2.06-.94 2.06-2.06.94zm-11 1L8.5 8.5l.94-2.06 2.06-.94-2.06-.94L8.5 2.5l-.94 2.06-2.06.94zm10 10l.94 2.06.94-2.06 2.06-.94-2.06-.94-.94-2.06-.94 2.06-2.06.94z\"/><path d=\"M17.41 7.96l-1.37-1.37c-.4-.4-.92-.59-1.43-.59-.52 0-1.04.2-1.43.59L10.3 9.45l-7.72 7.72c-.78.78-.78 2.05 0 2.83L4 21.41c.39.39.9.59 1.41.59.51 0 1.02-.2 1.41-.59l7.78-7.78 2.81-2.81c.8-.78.8-2.07 0-2.86zM5.41 20L4 18.59l7.72-7.72 1.47 1.35L5.41 20z\"/>\n",
              "  </svg>\n",
              "      </button>\n",
              "      \n",
              "  <style>\n",
              "    .colab-df-container {\n",
              "      display:flex;\n",
              "      flex-wrap:wrap;\n",
              "      gap: 12px;\n",
              "    }\n",
              "\n",
              "    .colab-df-convert {\n",
              "      background-color: #E8F0FE;\n",
              "      border: none;\n",
              "      border-radius: 50%;\n",
              "      cursor: pointer;\n",
              "      display: none;\n",
              "      fill: #1967D2;\n",
              "      height: 32px;\n",
              "      padding: 0 0 0 0;\n",
              "      width: 32px;\n",
              "    }\n",
              "\n",
              "    .colab-df-convert:hover {\n",
              "      background-color: #E2EBFA;\n",
              "      box-shadow: 0px 1px 2px rgba(60, 64, 67, 0.3), 0px 1px 3px 1px rgba(60, 64, 67, 0.15);\n",
              "      fill: #174EA6;\n",
              "    }\n",
              "\n",
              "    [theme=dark] .colab-df-convert {\n",
              "      background-color: #3B4455;\n",
              "      fill: #D2E3FC;\n",
              "    }\n",
              "\n",
              "    [theme=dark] .colab-df-convert:hover {\n",
              "      background-color: #434B5C;\n",
              "      box-shadow: 0px 1px 3px 1px rgba(0, 0, 0, 0.15);\n",
              "      filter: drop-shadow(0px 1px 2px rgba(0, 0, 0, 0.3));\n",
              "      fill: #FFFFFF;\n",
              "    }\n",
              "  </style>\n",
              "\n",
              "      <script>\n",
              "        const buttonEl =\n",
              "          document.querySelector('#df-bc79e443-0242-4988-aec1-e3662c0481cd button.colab-df-convert');\n",
              "        buttonEl.style.display =\n",
              "          google.colab.kernel.accessAllowed ? 'block' : 'none';\n",
              "\n",
              "        async function convertToInteractive(key) {\n",
              "          const element = document.querySelector('#df-bc79e443-0242-4988-aec1-e3662c0481cd');\n",
              "          const dataTable =\n",
              "            await google.colab.kernel.invokeFunction('convertToInteractive',\n",
              "                                                     [key], {});\n",
              "          if (!dataTable) return;\n",
              "\n",
              "          const docLinkHtml = 'Like what you see? Visit the ' +\n",
              "            '<a target=\"_blank\" href=https://colab.research.google.com/notebooks/data_table.ipynb>data table notebook</a>'\n",
              "            + ' to learn more about interactive tables.';\n",
              "          element.innerHTML = '';\n",
              "          dataTable['output_type'] = 'display_data';\n",
              "          await google.colab.output.renderOutput(dataTable, element);\n",
              "          const docLink = document.createElement('div');\n",
              "          docLink.innerHTML = docLinkHtml;\n",
              "          element.appendChild(docLink);\n",
              "        }\n",
              "      </script>\n",
              "    </div>\n",
              "  </div>\n",
              "  "
            ]
          },
          "metadata": {},
          "execution_count": 38
        }
      ]
    },
    {
      "cell_type": "markdown",
      "metadata": {
        "id": "hte53mT8pIdp"
      },
      "source": [
        "### Segment- 4, Impute/Remove missing values "
      ]
    },
    {
      "cell_type": "markdown",
      "metadata": {
        "id": "nAZObGmWpIdq"
      },
      "source": [
        "Take aways from the lecture on missing values:\n",
        "\n",
        "- **Set values as missing values**: Identify values that indicate missing data, for example, treat blank strings, \"NA\", \"XX\", \"999\", etc., as missing.\n",
        "- **Adding is good, exaggerating is bad**: You should try to get information from reliable external sources as much as possible, but if you can’t, then it is better to retain missing values rather than exaggerating the existing rows/columns.\n",
        "- **Delete rows and columns**: Rows can be deleted if the number of missing values is insignificant, as this would not impact the overall analysis results. Columns can be removed if the missing values are quite significant in number.\n",
        "- **Fill partial missing values using business judgement**: Such values include missing time zone, century, etc. These values can be identified easily.\n",
        "\n",
        "Types of missing values:\n",
        "- **MCAR**: It stands for Missing completely at random (the reason behind the missing value is not dependent on any other feature).\n",
        "- **MAR**: It stands for Missing at random (the reason behind the missing value may be associated with some other features).\n",
        "- **MNAR**: It stands for Missing not at random (there is a specific reason behind the missing value).\n"
      ]
    },
    {
      "cell_type": "markdown",
      "metadata": {
        "id": "IFtOGrdnpIdq"
      },
      "source": [
        "#### handling missing values in age column."
      ]
    },
    {
      "cell_type": "code",
      "execution_count": 39,
      "metadata": {
        "id": "oZp3dgo6pIdq"
      },
      "outputs": [],
      "source": [
        "#count the missing values in age column.\n"
      ]
    },
    {
      "cell_type": "code",
      "execution_count": 40,
      "metadata": {
        "id": "e6W8ePuapIdr"
      },
      "outputs": [],
      "source": [
        "#pring the shape of dataframe inp0\n"
      ]
    },
    {
      "cell_type": "code",
      "execution_count": 41,
      "metadata": {
        "id": "fnZwHRRPpIdr"
      },
      "outputs": [],
      "source": [
        "#calculate the percentage of missing values in age column.\n"
      ]
    },
    {
      "cell_type": "markdown",
      "metadata": {
        "id": "IWJHeIxOpIdr"
      },
      "source": [
        "Drop the records with age missing. "
      ]
    },
    {
      "cell_type": "code",
      "execution_count": 42,
      "metadata": {
        "id": "JmM4q4impIdr"
      },
      "outputs": [],
      "source": [
        "#drop the records with age missing in inp0 and copy in inp1 dataframe.\n"
      ]
    },
    {
      "cell_type": "markdown",
      "metadata": {
        "id": "im6nJKrwpIdr"
      },
      "source": [
        "#### handling missing values in month column"
      ]
    },
    {
      "cell_type": "code",
      "execution_count": 43,
      "metadata": {
        "id": "EMcIwg8apIds"
      },
      "outputs": [],
      "source": [
        "#count the missing values in month column in inp1.\n"
      ]
    },
    {
      "cell_type": "code",
      "execution_count": 44,
      "metadata": {
        "id": "MGhdGWvFpIds"
      },
      "outputs": [],
      "source": [
        "#print the percentage of each month in the data frame inp1.\n"
      ]
    },
    {
      "cell_type": "code",
      "execution_count": 45,
      "metadata": {
        "id": "h29jQQaWpIds"
      },
      "outputs": [],
      "source": [
        "#find the mode of month in inp1\n"
      ]
    },
    {
      "cell_type": "code",
      "execution_count": 46,
      "metadata": {
        "id": "ApHL07eipIds"
      },
      "outputs": [],
      "source": [
        "# fill the missing values with mode value of month in inp1.\n"
      ]
    },
    {
      "cell_type": "code",
      "execution_count": 47,
      "metadata": {
        "id": "-WQuoHwRpIdt"
      },
      "outputs": [],
      "source": [
        "#let's see the null values in the month column.\n"
      ]
    },
    {
      "cell_type": "markdown",
      "metadata": {
        "id": "u_tCe06lpIdt"
      },
      "source": [
        "#### handling missing values in response column "
      ]
    },
    {
      "cell_type": "code",
      "execution_count": 48,
      "metadata": {
        "id": "ChgeOhEqpIdt"
      },
      "outputs": [],
      "source": [
        "#count the missing values in response column in inp1.\n"
      ]
    },
    {
      "cell_type": "code",
      "execution_count": 49,
      "metadata": {
        "id": "3Te6tzgEpIdt"
      },
      "outputs": [],
      "source": [
        "#calculate the percentage of missing values in response column. \n"
      ]
    },
    {
      "cell_type": "markdown",
      "metadata": {
        "id": "rXxN8ApLpIdt"
      },
      "source": [
        "Target variable is better of not imputed.\n",
        "- Drop the records with missing values."
      ]
    },
    {
      "cell_type": "code",
      "execution_count": 50,
      "metadata": {
        "id": "ByNb0ibNpIdu"
      },
      "outputs": [],
      "source": [
        "#drop the records with response missings in inp1.\n"
      ]
    },
    {
      "cell_type": "code",
      "execution_count": 51,
      "metadata": {
        "id": "YRiaT_LspIdu"
      },
      "outputs": [],
      "source": [
        "#calculate the missing values in each column of data frame: inp1.\n"
      ]
    },
    {
      "cell_type": "markdown",
      "source": [
        "# Univariate Analysis"
      ],
      "metadata": {
        "id": "v770zuAF8n6M"
      }
    },
    {
      "cell_type": "markdown",
      "metadata": {
        "id": "5N4Wdt_bpIdu"
      },
      "source": [
        "#### pdays column"
      ]
    },
    {
      "cell_type": "code",
      "execution_count": 52,
      "metadata": {
        "id": "3XzVAsxKpIdu",
        "colab": {
          "base_uri": "https://localhost:8080/"
        },
        "outputId": "17d0af65-6b43-4e2a-aacb-535f304f792b"
      },
      "outputs": [
        {
          "output_type": "execute_result",
          "data": {
            "text/plain": [
              "count    45161.000000\n",
              "mean        40.182015\n",
              "std        100.079372\n",
              "min         -1.000000\n",
              "25%         -1.000000\n",
              "50%         -1.000000\n",
              "75%         -1.000000\n",
              "max        871.000000\n",
              "Name: pdays, dtype: float64"
            ]
          },
          "metadata": {},
          "execution_count": 52
        }
      ],
      "source": [
        "#describe the pdays column of inp1.\n",
        "df.pdays.describe()"
      ]
    },
    {
      "cell_type": "markdown",
      "metadata": {
        "id": "R5oPO78zpIdv"
      },
      "source": [
        "-1 indicates the missing values.\n",
        "Missing value does not always be present as null.\n",
        "How to handle it:\n",
        "\n",
        "Objective is:\n",
        "- you should ignore the missing values in the calculations\n",
        "- simply make it missing - replace -1 with NaN.\n",
        "- all summary statistics- mean, median etc. we will ignore the missing values of pdays."
      ]
    },
    {
      "cell_type": "code",
      "source": [
        "# Replace -1 with NAN\n",
        "\n",
        "df.loc[df.pdays < 0, \"pdays\"] = np.NaN"
      ],
      "metadata": {
        "id": "e53rr5Nrx58R"
      },
      "execution_count": 53,
      "outputs": []
    },
    {
      "cell_type": "code",
      "source": [
        "df.pdays.describe()"
      ],
      "metadata": {
        "colab": {
          "base_uri": "https://localhost:8080/"
        },
        "id": "5rPX7GZ2yNkW",
        "outputId": "b476a716-1b72-44af-9de3-667f3e1e198f"
      },
      "execution_count": 54,
      "outputs": [
        {
          "output_type": "execute_result",
          "data": {
            "text/plain": [
              "count    8246.000000\n",
              "mean      224.542202\n",
              "std       115.210792\n",
              "min         1.000000\n",
              "25%       133.000000\n",
              "50%       195.000000\n",
              "75%       327.000000\n",
              "max       871.000000\n",
              "Name: pdays, dtype: float64"
            ]
          },
          "metadata": {},
          "execution_count": 54
        }
      ]
    },
    {
      "cell_type": "code",
      "execution_count": 55,
      "metadata": {
        "id": "5UbAiTQ4pIdv"
      },
      "outputs": [],
      "source": [
        "#describe the pdays column with considering the -1 values.\n"
      ]
    },
    {
      "cell_type": "markdown",
      "source": [
        ""
      ],
      "metadata": {
        "id": "iaMp6YeX8jp2"
      }
    },
    {
      "cell_type": "markdown",
      "metadata": {
        "id": "SVd6lsy3pIdv"
      },
      "source": [
        "### Segment- 5, Handling Outliers "
      ]
    },
    {
      "cell_type": "markdown",
      "metadata": {
        "id": "2GKZQBQGpIdv"
      },
      "source": [
        "Major approaches to the treat outliers:\n",
        " \t\t\n",
        "- **Imputation**\n",
        "- **Deletion of outliers**\n",
        "- **Binning of values**\n",
        "- **Cap the outlier**\n"
      ]
    },
    {
      "cell_type": "markdown",
      "metadata": {
        "id": "rSYLPoxapIdv"
      },
      "source": [
        "#### Age variable "
      ]
    },
    {
      "cell_type": "code",
      "execution_count": 56,
      "metadata": {
        "id": "4aKfoC2OpIdw",
        "colab": {
          "base_uri": "https://localhost:8080/"
        },
        "outputId": "4571f391-1828-45d6-ca49-18b167a30757"
      },
      "outputs": [
        {
          "output_type": "execute_result",
          "data": {
            "text/plain": [
              "count    45161.000000\n",
              "mean        40.935763\n",
              "std         10.618790\n",
              "min         18.000000\n",
              "25%         33.000000\n",
              "50%         39.000000\n",
              "75%         48.000000\n",
              "max         95.000000\n",
              "Name: age, dtype: float64"
            ]
          },
          "metadata": {},
          "execution_count": 56
        }
      ],
      "source": [
        "#describe the age variable in inp1.\n",
        "df.age.describe()"
      ]
    },
    {
      "cell_type": "code",
      "execution_count": 57,
      "metadata": {
        "id": "e_Ah8SN5pIdw",
        "colab": {
          "base_uri": "https://localhost:8080/",
          "height": 320
        },
        "outputId": "6c08d48e-3533-4351-9b0a-b1281e8c83bb"
      },
      "outputs": [
        {
          "output_type": "display_data",
          "data": {
            "text/plain": [
              "<Figure size 720x360 with 1 Axes>"
            ],
            "image/png": "[encoded data removed]"
          },
          "metadata": {
            "needs_background": "light"
          }
        }
      ],
      "source": [
        "#plot the histogram of age variable.\n",
        "plt.figure(figsize = [10,5])\n",
        "df.age.plot.hist()\n",
        "plt.show()"
      ]
    },
    {
      "cell_type": "code",
      "execution_count": 58,
      "metadata": {
        "id": "Aam7iH9ppIdw",
        "colab": {
          "base_uri": "https://localhost:8080/",
          "height": 334
        },
        "outputId": "98a17ac9-0b29-4d9a-d1a6-74bd4f67a2e3"
      },
      "outputs": [
        {
          "output_type": "display_data",
          "data": {
            "text/plain": [
              "<Figure size 720x360 with 1 Axes>"
            ],
            "image/png": "[encoded data removed]"
          },
          "metadata": {
            "needs_background": "light"
          }
        }
      ],
      "source": [
        "#plot the boxplot of age variable.\n",
        "plt.figure(figsize = [10,5])\n",
        "sns.boxplot(df.age)\n",
        "plt.show()"
      ]
    },
    {
      "cell_type": "markdown",
      "source": [
        "Insights:\n"
      ],
      "metadata": {
        "id": "mg6nli5_9qWI"
      }
    },
    {
      "cell_type": "markdown",
      "metadata": {
        "id": "ufnU_SUBpIdw"
      },
      "source": [
        "#### Salary variable "
      ]
    },
    {
      "cell_type": "code",
      "execution_count": 59,
      "metadata": {
        "id": "dQAdsgnYpIdw"
      },
      "outputs": [],
      "source": [
        "#describe the salary variable of inp1.\n"
      ]
    },
    {
      "cell_type": "code",
      "execution_count": 60,
      "metadata": {
        "id": "ziFeLKe8pIdx"
      },
      "outputs": [],
      "source": [
        "#plot the boxplot of salary variable.\n"
      ]
    },
    {
      "cell_type": "markdown",
      "metadata": {
        "id": "9kLrAYrwpIdx"
      },
      "source": [
        "#### Balance variable "
      ]
    },
    {
      "cell_type": "code",
      "execution_count": 61,
      "metadata": {
        "id": "0KKRUXZ1pIdx",
        "colab": {
          "base_uri": "https://localhost:8080/"
        },
        "outputId": "606920e6-1203-4d1a-bab5-da5dd884a830"
      },
      "outputs": [
        {
          "output_type": "execute_result",
          "data": {
            "text/plain": [
              "count     45161.000000\n",
              "mean       1362.850690\n",
              "std        3045.939589\n",
              "min       -8019.000000\n",
              "25%          72.000000\n",
              "50%         448.000000\n",
              "75%        1428.000000\n",
              "max      102127.000000\n",
              "Name: balance, dtype: float64"
            ]
          },
          "metadata": {},
          "execution_count": 61
        }
      ],
      "source": [
        "#describe the balance variable\n",
        "df.balance.describe()"
      ]
    },
    {
      "cell_type": "markdown",
      "source": [
        "balance in Negative, something is fishy"
      ],
      "metadata": {
        "id": "zK55dtNl-V2U"
      }
    },
    {
      "cell_type": "code",
      "execution_count": 62,
      "metadata": {
        "id": "UK9BsTKipIdx",
        "colab": {
          "base_uri": "https://localhost:8080/",
          "height": 279
        },
        "outputId": "b73788ca-e949-47b7-d1a1-7fca12eef36b"
      },
      "outputs": [
        {
          "output_type": "display_data",
          "data": {
            "text/plain": [
              "<Figure size 576x288 with 1 Axes>"
            ],
            "image/png": "[encoded data removed]"
          },
          "metadata": {
            "needs_background": "light"
          }
        }
      ],
      "source": [
        "#plot the boxplot of balance variable.\n",
        "plt.figure(figsize=[8,4])\n",
        "sns.boxplot(df.balance)\n",
        "plt.show()"
      ]
    },
    {
      "cell_type": "code",
      "execution_count": 63,
      "metadata": {
        "id": "46rhl-kspIdx",
        "colab": {
          "base_uri": "https://localhost:8080/",
          "height": 171
        },
        "outputId": "4fff61e1-2ee6-4047-a266-25a74c473ad3"
      },
      "outputs": [
        {
          "output_type": "display_data",
          "data": {
            "text/plain": [
              "<Figure size 576x144 with 1 Axes>"
            ],
            "image/png": "[encoded data removed]"
          },
          "metadata": {
            "needs_background": "light"
          }
        }
      ],
      "source": [
        "#plot the boxplot of balance variable after scaling in 8:2.\n",
        "plt.figure(figsize=[8,2])\n",
        "sns.boxplot(df.balance)\n",
        "plt.show()"
      ]
    },
    {
      "cell_type": "code",
      "source": [
        "df.balance.plot.hist()"
      ],
      "metadata": {
        "colab": {
          "base_uri": "https://localhost:8080/",
          "height": 283
        },
        "id": "wjrFl2hMAvw_",
        "outputId": "1c8cd81f-6709-4ded-b650-a117f34a70fd"
      },
      "execution_count": 64,
      "outputs": [
        {
          "output_type": "execute_result",
          "data": {
            "text/plain": [
              "<matplotlib.axes._subplots.AxesSubplot at 0x7ff797e83dd0>"
            ]
          },
          "metadata": {},
          "execution_count": 64
        },
        {
          "output_type": "display_data",
          "data": {
            "text/plain": [
              "<Figure size 432x288 with 1 Axes>"
            ],
            "image/png": "[encoded data removed]"
          },
          "metadata": {
            "needs_background": "light"
          }
        }
      ]
    },
    {
      "cell_type": "code",
      "execution_count": 65,
      "metadata": {
        "id": "yhnKDEaDpIdy",
        "colab": {
          "base_uri": "https://localhost:8080/"
        },
        "outputId": "3e729742-83f3-47e8-b312-701c359091b5"
      },
      "outputs": [
        {
          "output_type": "execute_result",
          "data": {
            "text/plain": [
              "0.50      448.0\n",
              "0.70     1126.0\n",
              "0.90     3576.0\n",
              "0.95     5769.0\n",
              "0.99    13173.4\n",
              "Name: balance, dtype: float64"
            ]
          },
          "metadata": {},
          "execution_count": 65
        }
      ],
      "source": [
        "#print the quantile (0.5, 0.7, 0.9, 0.95 and 0.99) of balance variable\n",
        "\n",
        "df.balance.quantile([.5,.7,.9, .95, .99])\n"
      ]
    },
    {
      "cell_type": "markdown",
      "source": [
        "So based on the histogram, boxplot, and 99% quantile value, lets analyse the records which are above 13173 balance. For more accurate we can take a standard value of 15000."
      ],
      "metadata": {
        "id": "wwPAw8nzA6R_"
      }
    },
    {
      "cell_type": "code",
      "source": [
        "df[df.balance > 15000]. describe()"
      ],
      "metadata": {
        "colab": {
          "base_uri": "https://localhost:8080/",
          "height": 300
        },
        "id": "NLklZetGBd4D",
        "outputId": "8f6a83b6-4ba1-4949-edf0-0ef9d79f1b09"
      },
      "execution_count": 66,
      "outputs": [
        {
          "output_type": "execute_result",
          "data": {
            "text/plain": [
              "              age         salary        balance         day    campaign  \\\n",
              "count  351.000000     351.000000     351.000000  351.000000  351.000000   \n",
              "mean    45.341880   70008.547009   24295.780627   16.022792    2.749288   \n",
              "std     12.114333   34378.272805   12128.560693    8.101819    3.036886   \n",
              "min     23.000000       0.000000   15030.000000    1.000000    1.000000   \n",
              "25%     35.000000   50000.000000   17074.000000    9.000000    1.000000   \n",
              "50%     44.000000   60000.000000   20723.000000   18.000000    2.000000   \n",
              "75%     55.000000  100000.000000   26254.000000   21.000000    3.000000   \n",
              "max     84.000000  120000.000000  102127.000000   31.000000   31.000000   \n",
              "\n",
              "            pdays    previous  \n",
              "count   62.000000  351.000000  \n",
              "mean   188.516129    0.555556  \n",
              "std    118.796388    1.784590  \n",
              "min     31.000000    0.000000  \n",
              "25%     96.250000    0.000000  \n",
              "50%    167.500000    0.000000  \n",
              "75%    246.500000    0.000000  \n",
              "max    589.000000   23.000000  "
            ],
            "text/html": [
              "\n",
              "  <div id=\"df-4642a7a7-80d5-423d-9067-5c05012c1060\">\n",
              "    <div class=\"colab-df-container\">\n",
              "      <div>\n",
              "<style scoped>\n",
              "    .dataframe tbody tr th:only-of-type {\n",
              "        vertical-align: middle;\n",
              "    }\n",
              "\n",
              "    .dataframe tbody tr th {\n",
              "        vertical-align: top;\n",
              "    }\n",
              "\n",
              "    .dataframe thead th {\n",
              "        text-align: right;\n",
              "    }\n",
              "</style>\n",
              "<table border=\"1\" class=\"dataframe\">\n",
              "  <thead>\n",
              "    <tr style=\"text-align: right;\">\n",
              "      <th></th>\n",
              "      <th>age</th>\n",
              "      <th>salary</th>\n",
              "      <th>balance</th>\n",
              "      <th>day</th>\n",
              "      <th>campaign</th>\n",
              "      <th>pdays</th>\n",
              "      <th>previous</th>\n",
              "    </tr>\n",
              "  </thead>\n",
              "  <tbody>\n",
              "    <tr>\n",
              "      <th>count</th>\n",
              "      <td>351.000000</td>\n",
              "      <td>351.000000</td>\n",
              "      <td>351.000000</td>\n",
              "      <td>351.000000</td>\n",
              "      <td>351.000000</td>\n",
              "      <td>62.000000</td>\n",
              "      <td>351.000000</td>\n",
              "    </tr>\n",
              "    <tr>\n",
              "      <th>mean</th>\n",
              "      <td>45.341880</td>\n",
              "      <td>70008.547009</td>\n",
              "      <td>24295.780627</td>\n",
              "      <td>16.022792</td>\n",
              "      <td>2.749288</td>\n",
              "      <td>188.516129</td>\n",
              "      <td>0.555556</td>\n",
              "    </tr>\n",
              "    <tr>\n",
              "      <th>std</th>\n",
              "      <td>12.114333</td>\n",
              "      <td>34378.272805</td>\n",
              "      <td>12128.560693</td>\n",
              "      <td>8.101819</td>\n",
              "      <td>3.036886</td>\n",
              "      <td>118.796388</td>\n",
              "      <td>1.784590</td>\n",
              "    </tr>\n",
              "    <tr>\n",
              "      <th>min</th>\n",
              "      <td>23.000000</td>\n",
              "      <td>0.000000</td>\n",
              "      <td>15030.000000</td>\n",
              "      <td>1.000000</td>\n",
              "      <td>1.000000</td>\n",
              "      <td>31.000000</td>\n",
              "      <td>0.000000</td>\n",
              "    </tr>\n",
              "    <tr>\n",
              "      <th>25%</th>\n",
              "      <td>35.000000</td>\n",
              "      <td>50000.000000</td>\n",
              "      <td>17074.000000</td>\n",
              "      <td>9.000000</td>\n",
              "      <td>1.000000</td>\n",
              "      <td>96.250000</td>\n",
              "      <td>0.000000</td>\n",
              "    </tr>\n",
              "    <tr>\n",
              "      <th>50%</th>\n",
              "      <td>44.000000</td>\n",
              "      <td>60000.000000</td>\n",
              "      <td>20723.000000</td>\n",
              "      <td>18.000000</td>\n",
              "      <td>2.000000</td>\n",
              "      <td>167.500000</td>\n",
              "      <td>0.000000</td>\n",
              "    </tr>\n",
              "    <tr>\n",
              "      <th>75%</th>\n",
              "      <td>55.000000</td>\n",
              "      <td>100000.000000</td>\n",
              "      <td>26254.000000</td>\n",
              "      <td>21.000000</td>\n",
              "      <td>3.000000</td>\n",
              "      <td>246.500000</td>\n",
              "      <td>0.000000</td>\n",
              "    </tr>\n",
              "    <tr>\n",
              "      <th>max</th>\n",
              "      <td>84.000000</td>\n",
              "      <td>120000.000000</td>\n",
              "      <td>102127.000000</td>\n",
              "      <td>31.000000</td>\n",
              "      <td>31.000000</td>\n",
              "      <td>589.000000</td>\n",
              "      <td>23.000000</td>\n",
              "    </tr>\n",
              "  </tbody>\n",
              "</table>\n",
              "</div>\n",
              "      <button class=\"colab-df-convert\" onclick=\"convertToInteractive('df-4642a7a7-80d5-423d-9067-5c05012c1060')\"\n",
              "              title=\"Convert this dataframe to an interactive table.\"\n",
              "              style=\"display:none;\">\n",
              "        \n",
              "  <svg xmlns=\"http://www.w3.org/2000/svg\" height=\"24px\"viewBox=\"0 0 24 24\"\n",
              "       width=\"24px\">\n",
              "    <path d=\"M0 0h24v24H0V0z\" fill=\"none\"/>\n",
              "    <path d=\"M18.56 5.44l.94 2.06.94-2.06 2.06-.94-2.06-.94-.94-2.06-.94 2.06-2.06.94zm-11 1L8.5 8.5l.94-2.06 2.06-.94-2.06-.94L8.5 2.5l-.94 2.06-2.06.94zm10 10l.94 2.06.94-2.06 2.06-.94-2.06-.94-.94-2.06-.94 2.06-2.06.94z\"/><path d=\"M17.41 7.96l-1.37-1.37c-.4-.4-.92-.59-1.43-.59-.52 0-1.04.2-1.43.59L10.3 9.45l-7.72 7.72c-.78.78-.78 2.05 0 2.83L4 21.41c.39.39.9.59 1.41.59.51 0 1.02-.2 1.41-.59l7.78-7.78 2.81-2.81c.8-.78.8-2.07 0-2.86zM5.41 20L4 18.59l7.72-7.72 1.47 1.35L5.41 20z\"/>\n",
              "  </svg>\n",
              "      </button>\n",
              "      \n",
              "  <style>\n",
              "    .colab-df-container {\n",
              "      display:flex;\n",
              "      flex-wrap:wrap;\n",
              "      gap: 12px;\n",
              "    }\n",
              "\n",
              "    .colab-df-convert {\n",
              "      background-color: #E8F0FE;\n",
              "      border: none;\n",
              "      border-radius: 50%;\n",
              "      cursor: pointer;\n",
              "      display: none;\n",
              "      fill: #1967D2;\n",
              "      height: 32px;\n",
              "      padding: 0 0 0 0;\n",
              "      width: 32px;\n",
              "    }\n",
              "\n",
              "    .colab-df-convert:hover {\n",
              "      background-color: #E2EBFA;\n",
              "      box-shadow: 0px 1px 2px rgba(60, 64, 67, 0.3), 0px 1px 3px 1px rgba(60, 64, 67, 0.15);\n",
              "      fill: #174EA6;\n",
              "    }\n",
              "\n",
              "    [theme=dark] .colab-df-convert {\n",
              "      background-color: #3B4455;\n",
              "      fill: #D2E3FC;\n",
              "    }\n",
              "\n",
              "    [theme=dark] .colab-df-convert:hover {\n",
              "      background-color: #434B5C;\n",
              "      box-shadow: 0px 1px 3px 1px rgba(0, 0, 0, 0.15);\n",
              "      filter: drop-shadow(0px 1px 2px rgba(0, 0, 0, 0.3));\n",
              "      fill: #FFFFFF;\n",
              "    }\n",
              "  </style>\n",
              "\n",
              "      <script>\n",
              "        const buttonEl =\n",
              "          document.querySelector('#df-4642a7a7-80d5-423d-9067-5c05012c1060 button.colab-df-convert');\n",
              "        buttonEl.style.display =\n",
              "          google.colab.kernel.accessAllowed ? 'block' : 'none';\n",
              "\n",
              "        async function convertToInteractive(key) {\n",
              "          const element = document.querySelector('#df-4642a7a7-80d5-423d-9067-5c05012c1060');\n",
              "          const dataTable =\n",
              "            await google.colab.kernel.invokeFunction('convertToInteractive',\n",
              "                                                     [key], {});\n",
              "          if (!dataTable) return;\n",
              "\n",
              "          const docLinkHtml = 'Like what you see? Visit the ' +\n",
              "            '<a target=\"_blank\" href=https://colab.research.google.com/notebooks/data_table.ipynb>data table notebook</a>'\n",
              "            + ' to learn more about interactive tables.';\n",
              "          element.innerHTML = '';\n",
              "          dataTable['output_type'] = 'display_data';\n",
              "          await google.colab.output.renderOutput(dataTable, element);\n",
              "          const docLink = document.createElement('div');\n",
              "          docLink.innerHTML = docLinkHtml;\n",
              "          element.appendChild(docLink);\n",
              "        }\n",
              "      </script>\n",
              "    </div>\n",
              "  </div>\n",
              "  "
            ]
          },
          "metadata": {},
          "execution_count": 66
        }
      ]
    },
    {
      "cell_type": "markdown",
      "source": [
        "Seeing these values, its clear that people with High salary or maybe business owners are in this range of people maintaining high balance!. But there are chances of this impacting our analysis, so on use case basis we can keep the range limited to 99 percentile."
      ],
      "metadata": {
        "id": "isdVauOSCwlx"
      }
    },
    {
      "cell_type": "code",
      "source": [
        "df[df.balance < 0]. describe()"
      ],
      "metadata": {
        "colab": {
          "base_uri": "https://localhost:8080/",
          "height": 300
        },
        "id": "Oio-hnuGDhF0",
        "outputId": "6599fd1b-ea9d-4412-a555-29ea40419fd3"
      },
      "execution_count": 67,
      "outputs": [
        {
          "output_type": "execute_result",
          "data": {
            "text/plain": [
              "               age         salary      balance          day     campaign  \\\n",
              "count  3758.000000    3758.000000  3758.000000  3758.000000  3758.000000   \n",
              "mean     39.467270   54129.590208  -317.028206    16.443055     2.919106   \n",
              "std       9.065513   29983.137349   367.579973     8.578115     3.456233   \n",
              "min      20.000000       0.000000 -8019.000000     1.000000     1.000000   \n",
              "25%      32.000000   20000.000000  -421.750000     9.000000     1.000000   \n",
              "50%      38.000000   60000.000000  -230.000000    16.000000     2.000000   \n",
              "75%      46.000000   70000.000000   -93.000000    24.000000     3.000000   \n",
              "max      63.000000  120000.000000    -1.000000    31.000000    43.000000   \n",
              "\n",
              "            pdays     previous  \n",
              "count  487.000000  3758.000000  \n",
              "mean   279.094456     0.407131  \n",
              "std     93.657194     1.610873  \n",
              "min      2.000000     0.000000  \n",
              "25%    206.000000     0.000000  \n",
              "50%    308.000000     0.000000  \n",
              "75%    350.000000     0.000000  \n",
              "max    670.000000    25.000000  "
            ],
            "text/html": [
              "\n",
              "  <div id=\"df-5685c638-24c9-4838-8f67-5018bbd61281\">\n",
              "    <div class=\"colab-df-container\">\n",
              "      <div>\n",
              "<style scoped>\n",
              "    .dataframe tbody tr th:only-of-type {\n",
              "        vertical-align: middle;\n",
              "    }\n",
              "\n",
              "    .dataframe tbody tr th {\n",
              "        vertical-align: top;\n",
              "    }\n",
              "\n",
              "    .dataframe thead th {\n",
              "        text-align: right;\n",
              "    }\n",
              "</style>\n",
              "<table border=\"1\" class=\"dataframe\">\n",
              "  <thead>\n",
              "    <tr style=\"text-align: right;\">\n",
              "      <th></th>\n",
              "      <th>age</th>\n",
              "      <th>salary</th>\n",
              "      <th>balance</th>\n",
              "      <th>day</th>\n",
              "      <th>campaign</th>\n",
              "      <th>pdays</th>\n",
              "      <th>previous</th>\n",
              "    </tr>\n",
              "  </thead>\n",
              "  <tbody>\n",
              "    <tr>\n",
              "      <th>count</th>\n",
              "      <td>3758.000000</td>\n",
              "      <td>3758.000000</td>\n",
              "      <td>3758.000000</td>\n",
              "      <td>3758.000000</td>\n",
              "      <td>3758.000000</td>\n",
              "      <td>487.000000</td>\n",
              "      <td>3758.000000</td>\n",
              "    </tr>\n",
              "    <tr>\n",
              "      <th>mean</th>\n",
              "      <td>39.467270</td>\n",
              "      <td>54129.590208</td>\n",
              "      <td>-317.028206</td>\n",
              "      <td>16.443055</td>\n",
              "      <td>2.919106</td>\n",
              "      <td>279.094456</td>\n",
              "      <td>0.407131</td>\n",
              "    </tr>\n",
              "    <tr>\n",
              "      <th>std</th>\n",
              "      <td>9.065513</td>\n",
              "      <td>29983.137349</td>\n",
              "      <td>367.579973</td>\n",
              "      <td>8.578115</td>\n",
              "      <td>3.456233</td>\n",
              "      <td>93.657194</td>\n",
              "      <td>1.610873</td>\n",
              "    </tr>\n",
              "    <tr>\n",
              "      <th>min</th>\n",
              "      <td>20.000000</td>\n",
              "      <td>0.000000</td>\n",
              "      <td>-8019.000000</td>\n",
              "      <td>1.000000</td>\n",
              "      <td>1.000000</td>\n",
              "      <td>2.000000</td>\n",
              "      <td>0.000000</td>\n",
              "    </tr>\n",
              "    <tr>\n",
              "      <th>25%</th>\n",
              "      <td>32.000000</td>\n",
              "      <td>20000.000000</td>\n",
              "      <td>-421.750000</td>\n",
              "      <td>9.000000</td>\n",
              "      <td>1.000000</td>\n",
              "      <td>206.000000</td>\n",
              "      <td>0.000000</td>\n",
              "    </tr>\n",
              "    <tr>\n",
              "      <th>50%</th>\n",
              "      <td>38.000000</td>\n",
              "      <td>60000.000000</td>\n",
              "      <td>-230.000000</td>\n",
              "      <td>16.000000</td>\n",
              "      <td>2.000000</td>\n",
              "      <td>308.000000</td>\n",
              "      <td>0.000000</td>\n",
              "    </tr>\n",
              "    <tr>\n",
              "      <th>75%</th>\n",
              "      <td>46.000000</td>\n",
              "      <td>70000.000000</td>\n",
              "      <td>-93.000000</td>\n",
              "      <td>24.000000</td>\n",
              "      <td>3.000000</td>\n",
              "      <td>350.000000</td>\n",
              "      <td>0.000000</td>\n",
              "    </tr>\n",
              "    <tr>\n",
              "      <th>max</th>\n",
              "      <td>63.000000</td>\n",
              "      <td>120000.000000</td>\n",
              "      <td>-1.000000</td>\n",
              "      <td>31.000000</td>\n",
              "      <td>43.000000</td>\n",
              "      <td>670.000000</td>\n",
              "      <td>25.000000</td>\n",
              "    </tr>\n",
              "  </tbody>\n",
              "</table>\n",
              "</div>\n",
              "      <button class=\"colab-df-convert\" onclick=\"convertToInteractive('df-5685c638-24c9-4838-8f67-5018bbd61281')\"\n",
              "              title=\"Convert this dataframe to an interactive table.\"\n",
              "              style=\"display:none;\">\n",
              "        \n",
              "  <svg xmlns=\"http://www.w3.org/2000/svg\" height=\"24px\"viewBox=\"0 0 24 24\"\n",
              "       width=\"24px\">\n",
              "    <path d=\"M0 0h24v24H0V0z\" fill=\"none\"/>\n",
              "    <path d=\"M18.56 5.44l.94 2.06.94-2.06 2.06-.94-2.06-.94-.94-2.06-.94 2.06-2.06.94zm-11 1L8.5 8.5l.94-2.06 2.06-.94-2.06-.94L8.5 2.5l-.94 2.06-2.06.94zm10 10l.94 2.06.94-2.06 2.06-.94-2.06-.94-.94-2.06-.94 2.06-2.06.94z\"/><path d=\"M17.41 7.96l-1.37-1.37c-.4-.4-.92-.59-1.43-.59-.52 0-1.04.2-1.43.59L10.3 9.45l-7.72 7.72c-.78.78-.78 2.05 0 2.83L4 21.41c.39.39.9.59 1.41.59.51 0 1.02-.2 1.41-.59l7.78-7.78 2.81-2.81c.8-.78.8-2.07 0-2.86zM5.41 20L4 18.59l7.72-7.72 1.47 1.35L5.41 20z\"/>\n",
              "  </svg>\n",
              "      </button>\n",
              "      \n",
              "  <style>\n",
              "    .colab-df-container {\n",
              "      display:flex;\n",
              "      flex-wrap:wrap;\n",
              "      gap: 12px;\n",
              "    }\n",
              "\n",
              "    .colab-df-convert {\n",
              "      background-color: #E8F0FE;\n",
              "      border: none;\n",
              "      border-radius: 50%;\n",
              "      cursor: pointer;\n",
              "      display: none;\n",
              "      fill: #1967D2;\n",
              "      height: 32px;\n",
              "      padding: 0 0 0 0;\n",
              "      width: 32px;\n",
              "    }\n",
              "\n",
              "    .colab-df-convert:hover {\n",
              "      background-color: #E2EBFA;\n",
              "      box-shadow: 0px 1px 2px rgba(60, 64, 67, 0.3), 0px 1px 3px 1px rgba(60, 64, 67, 0.15);\n",
              "      fill: #174EA6;\n",
              "    }\n",
              "\n",
              "    [theme=dark] .colab-df-convert {\n",
              "      background-color: #3B4455;\n",
              "      fill: #D2E3FC;\n",
              "    }\n",
              "\n",
              "    [theme=dark] .colab-df-convert:hover {\n",
              "      background-color: #434B5C;\n",
              "      box-shadow: 0px 1px 3px 1px rgba(0, 0, 0, 0.15);\n",
              "      filter: drop-shadow(0px 1px 2px rgba(0, 0, 0, 0.3));\n",
              "      fill: #FFFFFF;\n",
              "    }\n",
              "  </style>\n",
              "\n",
              "      <script>\n",
              "        const buttonEl =\n",
              "          document.querySelector('#df-5685c638-24c9-4838-8f67-5018bbd61281 button.colab-df-convert');\n",
              "        buttonEl.style.display =\n",
              "          google.colab.kernel.accessAllowed ? 'block' : 'none';\n",
              "\n",
              "        async function convertToInteractive(key) {\n",
              "          const element = document.querySelector('#df-5685c638-24c9-4838-8f67-5018bbd61281');\n",
              "          const dataTable =\n",
              "            await google.colab.kernel.invokeFunction('convertToInteractive',\n",
              "                                                     [key], {});\n",
              "          if (!dataTable) return;\n",
              "\n",
              "          const docLinkHtml = 'Like what you see? Visit the ' +\n",
              "            '<a target=\"_blank\" href=https://colab.research.google.com/notebooks/data_table.ipynb>data table notebook</a>'\n",
              "            + ' to learn more about interactive tables.';\n",
              "          element.innerHTML = '';\n",
              "          dataTable['output_type'] = 'display_data';\n",
              "          await google.colab.output.renderOutput(dataTable, element);\n",
              "          const docLink = document.createElement('div');\n",
              "          docLink.innerHTML = docLinkHtml;\n",
              "          element.appendChild(docLink);\n",
              "        }\n",
              "      </script>\n",
              "    </div>\n",
              "  </div>\n",
              "  "
            ]
          },
          "metadata": {},
          "execution_count": 67
        }
      ]
    },
    {
      "cell_type": "markdown",
      "metadata": {
        "id": "Wywu7KZqpIdy"
      },
      "source": [
        "### Segment- 6, Standardising values "
      ]
    },
    {
      "cell_type": "markdown",
      "metadata": {
        "id": "o_EKa_nqpIdy"
      },
      "source": [
        "Checklist for data standardization exercises:\n",
        "- **Standardise units**: Ensure all observations under one variable are expressed in a common and consistent unit, e.g., convert lbs to kg, miles/hr to km/hr, etc.\n",
        "- **Scale values if required**: Make sure all the observations under one variable have a common scale.\n",
        "- **Standardise precision** for better presentation of data, e.g., change 4.5312341 kg to 4.53 kg.\n",
        "- **Remove extra characters** such as common prefixes/suffixes, leading/trailing/multiple spaces, etc. These are irrelevant to analysis.\n",
        "- **Standardise case**: String variables may take various casing styles, e.g., UPPERCASE, lowercase, Title Case, Sentence case, etc.\n",
        "- **Standardise format**: It is important to standardise the format of other elements such as date, name, etce.g., change 23/10/16 to 2016/10/23, “Modi, Narendra” to “Narendra Modi\", etc."
      ]
    },
    {
      "cell_type": "markdown",
      "metadata": {
        "id": "xSFok6agpIdy"
      },
      "source": [
        "#### Duration variable"
      ]
    },
    {
      "cell_type": "code",
      "execution_count": 68,
      "metadata": {
        "id": "ISWgOBlTpIdz",
        "colab": {
          "base_uri": "https://localhost:8080/"
        },
        "outputId": "4c166b51-06ca-4fa4-cab6-6abbbc6563da"
      },
      "outputs": [
        {
          "output_type": "execute_result",
          "data": {
            "text/plain": [
              "count       45161\n",
              "unique       2646\n",
              "top       1.5 min\n",
              "freq          138\n",
              "Name: duration, dtype: object"
            ]
          },
          "metadata": {},
          "execution_count": 68
        }
      ],
      "source": [
        "#describe the duration variable of inp1\n",
        "df.duration.describe()"
      ]
    },
    {
      "cell_type": "code",
      "execution_count": 122,
      "metadata": {
        "id": "c3xDQz5KpIdz"
      },
      "outputs": [],
      "source": [
        "#convert the duration variable into single unit i.e. Seconds. and remove the sec or min prefix.\n",
        "\n",
        "df.duration =df.duration.apply(\n",
        "    lambda x: \n",
        "    float(x.split()[0])*60 if x.find(\"min\")>0\n",
        "    else float(x.split()[0])\n",
        "    )\n",
        "\n"
      ]
    },
    {
      "cell_type": "code",
      "source": [
        "df.duration.describe()"
      ],
      "metadata": {
        "id": "i6ybsaTInz3D",
        "outputId": "5b192101-26cc-4f97-a2d1-c7d2c940ecf3",
        "colab": {
          "base_uri": "https://localhost:8080/"
        }
      },
      "execution_count": 123,
      "outputs": [
        {
          "output_type": "execute_result",
          "data": {
            "text/plain": [
              "count    45161.000000\n",
              "mean       258.166427\n",
              "std        257.587748\n",
              "min          0.000000\n",
              "25%        103.000000\n",
              "50%        180.000000\n",
              "75%        319.000000\n",
              "max       4918.000000\n",
              "Name: duration, dtype: float64"
            ]
          },
          "metadata": {},
          "execution_count": 123
        }
      ]
    },
    {
      "cell_type": "code",
      "execution_count": 125,
      "metadata": {
        "id": "zAZAKJ8KpIdz",
        "colab": {
          "base_uri": "https://localhost:8080/",
          "height": 283
        },
        "outputId": "9176972d-4249-49b7-a134-e8972c865fe1"
      },
      "outputs": [
        {
          "output_type": "execute_result",
          "data": {
            "text/plain": [
              "<matplotlib.axes._subplots.AxesSubplot at 0x7ff7958ccc90>"
            ]
          },
          "metadata": {},
          "execution_count": 125
        },
        {
          "output_type": "display_data",
          "data": {
            "text/plain": [
              "<Figure size 432x288 with 1 Axes>"
            ],
            "image/png": "[encoded data removed]"
          },
          "metadata": {
            "needs_background": "light"
          }
        }
      ],
      "source": [
        "#describe the duration variable\n",
        "\n",
        "\n",
        "df.duration.plot.hist()\n"
      ]
    },
    {
      "cell_type": "code",
      "source": [
        "df.duration.quantile([.25,.50, .75,.99])\n"
      ],
      "metadata": {
        "id": "urMdFMUOpQqU",
        "outputId": "a4c80fb9-9974-43db-a653-d87fc8af0b2c",
        "colab": {
          "base_uri": "https://localhost:8080/"
        }
      },
      "execution_count": 129,
      "outputs": [
        {
          "output_type": "execute_result",
          "data": {
            "text/plain": [
              "0.25     103.0\n",
              "0.50     180.0\n",
              "0.75     319.0\n",
              "0.99    1269.8\n",
              "Name: duration, dtype: float64"
            ]
          },
          "metadata": {},
          "execution_count": 129
        }
      ]
    },
    {
      "cell_type": "code",
      "source": [
        "sns.boxplot(df.duration)"
      ],
      "metadata": {
        "id": "PyiVdbxVpU12",
        "outputId": "9d547531-9bf4-4f14-8ca3-5721d9dffd7e",
        "colab": {
          "base_uri": "https://localhost:8080/",
          "height": 297
        }
      },
      "execution_count": 128,
      "outputs": [
        {
          "output_type": "execute_result",
          "data": {
            "text/plain": [
              "<matplotlib.axes._subplots.AxesSubplot at 0x7ff79572b590>"
            ]
          },
          "metadata": {},
          "execution_count": 128
        },
        {
          "output_type": "display_data",
          "data": {
            "text/plain": [
              "<Figure size 432x288 with 1 Axes>"
            ],
            "image/png": "[encoded data removed]"
          },
          "metadata": {
            "needs_background": "light"
          }
        }
      ]
    },
    {
      "cell_type": "code",
      "source": [
        "dur = df.duration.quantile([.25,.50, .75,.99])\n",
        "dur\n"
      ],
      "metadata": {
        "id": "FfifHAPgpijF",
        "outputId": "65de457b-36a5-4926-c2cc-5585719d5ddf",
        "colab": {
          "base_uri": "https://localhost:8080/"
        }
      },
      "execution_count": 144,
      "outputs": [
        {
          "output_type": "execute_result",
          "data": {
            "text/plain": [
              "0.25     103.0\n",
              "0.50     180.0\n",
              "0.75     319.0\n",
              "0.99    1269.8\n",
              "Name: duration, dtype: float64"
            ]
          },
          "metadata": {},
          "execution_count": 144
        }
      ]
    },
    {
      "cell_type": "markdown",
      "metadata": {
        "id": "Lom_U7x-pIdz"
      },
      "source": [
        "## Session- 3, Univariate Analysis "
      ]
    },
    {
      "cell_type": "markdown",
      "metadata": {
        "id": "35fgeqE3pIdz"
      },
      "source": [
        "### Segment- 2, Categorical unordered univariate analysis "
      ]
    },
    {
      "cell_type": "markdown",
      "metadata": {
        "id": "aRV3Hny7pId0"
      },
      "source": [
        "Unordered data do not have the notion of high-low, more-less etc. Example:\n",
        "- Type of loan taken by a person = home, personal, auto etc.\n",
        "- Organisation of a person = Sales, marketing, HR etc.\n",
        "- Job category of persone.\n",
        "- Marital status of any one.\n"
      ]
    },
    {
      "cell_type": "markdown",
      "metadata": {
        "id": "SVtcNxwmpId0"
      },
      "source": [
        "#### Marital status "
      ]
    },
    {
      "cell_type": "code",
      "source": [
        "df.marital.value_counts()"
      ],
      "metadata": {
        "id": "jpLtm7y2t-ML",
        "outputId": "2bc73078-bbf9-4a0c-bb9d-2d697e58069a",
        "colab": {
          "base_uri": "https://localhost:8080/"
        }
      },
      "execution_count": 160,
      "outputs": [
        {
          "output_type": "execute_result",
          "data": {
            "text/plain": [
              "married     27185\n",
              "single      12778\n",
              "divorced     5198\n",
              "Name: marital, dtype: int64"
            ]
          },
          "metadata": {},
          "execution_count": 160
        }
      ]
    },
    {
      "cell_type": "code",
      "execution_count": 161,
      "metadata": {
        "id": "uu9BAyDYpId1",
        "colab": {
          "base_uri": "https://localhost:8080/"
        },
        "outputId": "8d30cd43-36e0-4971-8d25-c7569b3b8a63"
      },
      "outputs": [
        {
          "output_type": "execute_result",
          "data": {
            "text/plain": [
              "married     0.601957\n",
              "single      0.282943\n",
              "divorced    0.115099\n",
              "Name: marital, dtype: float64"
            ]
          },
          "metadata": {},
          "execution_count": 161
        }
      ],
      "source": [
        "#calculate the percentage of each marital status category. \n",
        "df.marital.value_counts(normalize=True)"
      ]
    },
    {
      "cell_type": "code",
      "execution_count": 162,
      "metadata": {
        "id": "1KB4iMMspId1",
        "colab": {
          "base_uri": "https://localhost:8080/",
          "height": 265
        },
        "outputId": "44158561-6481-4911-d9d3-3c56063f4f77"
      },
      "outputs": [
        {
          "output_type": "display_data",
          "data": {
            "text/plain": [
              "<Figure size 432x288 with 1 Axes>"
            ],
            "image/png": "[encoded data removed]"
          },
          "metadata": {
            "needs_background": "light"
          }
        }
      ],
      "source": [
        "#plot the bar graph of percentage marital status categories\n",
        "df.marital.value_counts().plot.barh()\n",
        "plt.show()"
      ]
    },
    {
      "cell_type": "code",
      "source": [
        "df.marital.value_counts().plot.bar()\n",
        "plt.show()"
      ],
      "metadata": {
        "id": "YNMJyd-VudZa",
        "outputId": "cfa64a24-2930-42f9-ed98-d7b2ed3fc069",
        "colab": {
          "base_uri": "https://localhost:8080/",
          "height": 298
        }
      },
      "execution_count": 163,
      "outputs": [
        {
          "output_type": "display_data",
          "data": {
            "text/plain": [
              "<Figure size 432x288 with 1 Axes>"
            ],
            "image/png": "[encoded data removed]"
          },
          "metadata": {
            "needs_background": "light"
          }
        }
      ]
    },
    {
      "cell_type": "code",
      "source": [
        "df.marital.value_counts().plot.pie()\n",
        "plt.show()"
      ],
      "metadata": {
        "id": "IOzwrozUxQmi",
        "outputId": "30602ff6-e2af-42fe-bc4c-4fdd5871090e",
        "colab": {
          "base_uri": "https://localhost:8080/",
          "height": 248
        }
      },
      "execution_count": 164,
      "outputs": [
        {
          "output_type": "display_data",
          "data": {
            "text/plain": [
              "<Figure size 432x288 with 1 Axes>"
            ],
            "image/png": "[encoded data removed]"
          },
          "metadata": {}
        }
      ]
    },
    {
      "cell_type": "markdown",
      "metadata": {
        "id": "PL8tiaqcpId2"
      },
      "source": [
        "#### Job  "
      ]
    },
    {
      "cell_type": "code",
      "source": [
        "df.job.value_counts()"
      ],
      "metadata": {
        "id": "gy514hh7xGwf",
        "outputId": "6cfeafe6-2f49-4c1e-d67f-bc7289fa1f08",
        "colab": {
          "base_uri": "https://localhost:8080/"
        }
      },
      "execution_count": 165,
      "outputs": [
        {
          "output_type": "execute_result",
          "data": {
            "text/plain": [
              "blue-collar      9722\n",
              "management       9451\n",
              "technician       7589\n",
              "admin.           5165\n",
              "services         4148\n",
              "retired          2262\n",
              "self-employed    1574\n",
              "entrepreneur     1484\n",
              "unemployed       1302\n",
              "housemaid        1238\n",
              "student           938\n",
              "unknown           288\n",
              "Name: job, dtype: int64"
            ]
          },
          "metadata": {},
          "execution_count": 165
        }
      ]
    },
    {
      "cell_type": "code",
      "execution_count": 172,
      "metadata": {
        "id": "lWqNYm57pId2",
        "colab": {
          "base_uri": "https://localhost:8080/"
        },
        "outputId": "c5041200-45fb-41e5-8af7-7562253b0cd5"
      },
      "outputs": [
        {
          "output_type": "execute_result",
          "data": {
            "text/plain": [
              "blue-collar      0.216656\n",
              "management       0.210617\n",
              "technician       0.169122\n",
              "admin.           0.115103\n",
              "services         0.092439\n",
              "retired          0.050409\n",
              "self-employed    0.035077\n",
              "entrepreneur     0.033071\n",
              "unemployed       0.029015\n",
              "housemaid        0.027589\n",
              "student          0.020903\n",
              "Name: job, dtype: float64"
            ]
          },
          "metadata": {},
          "execution_count": 172
        }
      ],
      "source": [
        "#calculate the percentage of each job status category.\n",
        "df.job[~ (df.job== \"unknown\")].value_counts(normalize = True)"
      ]
    },
    {
      "cell_type": "code",
      "execution_count": 174,
      "metadata": {
        "id": "2-rEr78TpId2",
        "colab": {
          "base_uri": "https://localhost:8080/",
          "height": 344
        },
        "outputId": "d8bde372-204d-4097-8753-172555ab3191"
      },
      "outputs": [
        {
          "output_type": "execute_result",
          "data": {
            "text/plain": [
              "<matplotlib.axes._subplots.AxesSubplot at 0x7ff794d32690>"
            ]
          },
          "metadata": {},
          "execution_count": 174
        },
        {
          "output_type": "display_data",
          "data": {
            "text/plain": [
              "<Figure size 432x288 with 1 Axes>"
            ],
            "image/png": "[encoded data removed]"
          },
          "metadata": {
            "needs_background": "light"
          }
        }
      ],
      "source": [
        "#plot the bar graph of percentage job categories\n",
        "df.job[~ (df.job== \"unknown\")].value_counts(normalize = True).plot.bar()"
      ]
    },
    {
      "cell_type": "markdown",
      "metadata": {
        "id": "lp_kkZ5PpId3"
      },
      "source": [
        "### Segment- 3, Categorical ordered univariate analysis "
      ]
    },
    {
      "cell_type": "markdown",
      "metadata": {
        "id": "PPhvzkAnpId3"
      },
      "source": [
        "Ordered variables have some kind of ordering. Some examples of bank marketing dataset are:\n",
        "- Age group= <30, 30-40, 40-50 and so on.\n",
        "- Month = Jan-Feb-Mar etc.\n",
        "- Education = primary, secondary and so on."
      ]
    },
    {
      "cell_type": "markdown",
      "metadata": {
        "id": "LGcj9PTBpId3"
      },
      "source": [
        "#### Education"
      ]
    },
    {
      "cell_type": "code",
      "execution_count": 75,
      "metadata": {
        "id": "8HZO4sF1pId3"
      },
      "outputs": [],
      "source": [
        "#calculate the percentage of each education category.\n"
      ]
    },
    {
      "cell_type": "code",
      "execution_count": 76,
      "metadata": {
        "id": "Npy1J9bDpId4"
      },
      "outputs": [],
      "source": [
        "#plot the pie chart of education categories\n"
      ]
    },
    {
      "cell_type": "markdown",
      "metadata": {
        "id": "IxtvRlU5pId4"
      },
      "source": [
        "#### poutcome "
      ]
    },
    {
      "cell_type": "code",
      "execution_count": 77,
      "metadata": {
        "id": "ssGYk9nopId5"
      },
      "outputs": [],
      "source": [
        "#calculate the percentage of each poutcome category.\n"
      ]
    },
    {
      "cell_type": "markdown",
      "metadata": {
        "id": "3BepI-hRpId5"
      },
      "source": [
        "#### Response the target variable "
      ]
    },
    {
      "cell_type": "code",
      "execution_count": 78,
      "metadata": {
        "id": "oj-IbA70pId5"
      },
      "outputs": [],
      "source": [
        "#calculate the percentage of each response category.\n"
      ]
    },
    {
      "cell_type": "code",
      "execution_count": 79,
      "metadata": {
        "id": "MQcdfPeEpId6"
      },
      "outputs": [],
      "source": [
        "#plot the pie chart of response categories\n"
      ]
    },
    {
      "cell_type": "markdown",
      "metadata": {
        "id": "8FY7MujHpId6"
      },
      "source": [
        "## Session- 4, Bivariate and Multivariate Analysis"
      ]
    },
    {
      "cell_type": "markdown",
      "metadata": {
        "id": "R8lRNl9tpId6"
      },
      "source": [
        "### Segment-2, Numeric- numeric analysis "
      ]
    },
    {
      "cell_type": "markdown",
      "metadata": {
        "id": "karbzQHspId6"
      },
      "source": [
        "There are three ways to analyse the numeric- numeric data types simultaneously.\n",
        "- **Scatter plot**: describes the pattern that how one variable is varying with other variable.\n",
        "- **Correlation matrix**: to describe the linearity of two numeric variables.\n",
        "- **Pair plot**: group of scatter plots of all numeric variables in the data frame."
      ]
    },
    {
      "cell_type": "code",
      "execution_count": 175,
      "metadata": {
        "id": "_zL_XJUZpId6",
        "colab": {
          "base_uri": "https://localhost:8080/",
          "height": 283
        },
        "outputId": "bf1b54c1-74da-408e-b0d9-c5f35a7cfb7f"
      },
      "outputs": [
        {
          "output_type": "execute_result",
          "data": {
            "text/plain": [
              "<matplotlib.collections.PathCollection at 0x7ff79501afd0>"
            ]
          },
          "metadata": {},
          "execution_count": 175
        },
        {
          "output_type": "display_data",
          "data": {
            "text/plain": [
              "<Figure size 432x288 with 1 Axes>"
            ],
            "image/png": "[encoded data removed]"
          },
          "metadata": {
            "needs_background": "light"
          }
        }
      ],
      "source": [
        "#plot the scatter plot of balance and salary variable in inp1\n",
        "plt.scatter(df.salary, df.balance)"
      ]
    },
    {
      "cell_type": "code",
      "execution_count": 81,
      "metadata": {
        "id": "QDQP50OEpId7"
      },
      "outputs": [],
      "source": [
        "#plot the scatter plot of balance and age variable in inp1\n"
      ]
    },
    {
      "cell_type": "code",
      "execution_count": 176,
      "metadata": {
        "id": "P4ia2q1kpId7",
        "colab": {
          "base_uri": "https://localhost:8080/",
          "height": 568
        },
        "outputId": "7a378d73-44cb-4851-88a2-ec49ed4eb0bb"
      },
      "outputs": [
        {
          "output_type": "execute_result",
          "data": {
            "text/plain": [
              "<seaborn.axisgrid.PairGrid at 0x7ff794f5f610>"
            ]
          },
          "metadata": {},
          "execution_count": 176
        },
        {
          "output_type": "display_data",
          "data": {
            "text/plain": [
              "<Figure size 540x540 with 12 Axes>"
            ],
            "image/png": "[encoded data removed]"
          },
          "metadata": {
            "needs_background": "light"
          }
        }
      ],
      "source": [
        "#plot the pair plot of salary, balance and age in inp1 dataframe.\n",
        "sns.pairplot(data = df, vars=['salary', \"balance\", \"age\"])"
      ]
    },
    {
      "cell_type": "markdown",
      "metadata": {
        "id": "eIAx-YAxpId7"
      },
      "source": [
        "#### Correlation heat map "
      ]
    },
    {
      "cell_type": "code",
      "execution_count": 188,
      "metadata": {
        "id": "TYdVtnQkpId7",
        "colab": {
          "base_uri": "https://localhost:8080/",
          "height": 269
        },
        "outputId": "a13fbafd-6503-4e30-8ecb-7d100cacff3c"
      },
      "outputs": [
        {
          "output_type": "display_data",
          "data": {
            "text/plain": [
              "<Figure size 432x288 with 2 Axes>"
            ],
            "image/png": "[encoded data removed]"
          },
          "metadata": {
            "needs_background": "light"
          }
        }
      ],
      "source": [
        "#plot the correlation matrix of salary, balance and age in inp1 dataframe.\n",
        "sns.heatmap(df[['salary',\"age\", \"balance\"]].corr(),annot = True,cmap ='Reds')\n",
        "plt.show()"
      ]
    },
    {
      "cell_type": "markdown",
      "metadata": {
        "id": "2kvue1L3pId7"
      },
      "source": [
        "### Segment- 4, Numerical categorical variable"
      ]
    },
    {
      "cell_type": "markdown",
      "metadata": {
        "id": "KXb9weIEpId8"
      },
      "source": [
        "#### Salary vs response "
      ]
    },
    {
      "cell_type": "code",
      "execution_count": 84,
      "metadata": {
        "id": "gRCEE7BopId8"
      },
      "outputs": [],
      "source": [
        "#groupby the response to find the mean of the salary with response no & yes seperatly.\n"
      ]
    },
    {
      "cell_type": "code",
      "execution_count": 85,
      "metadata": {
        "id": "es5o1p5qpId8"
      },
      "outputs": [],
      "source": [
        "#groupby the response to find the median of the salary with response no & yes seperatly.\n"
      ]
    },
    {
      "cell_type": "code",
      "execution_count": 86,
      "metadata": {
        "id": "kNLW72MPpId8"
      },
      "outputs": [],
      "source": [
        "#plot the box plot of salary for yes & no responses.\n"
      ]
    },
    {
      "cell_type": "markdown",
      "metadata": {
        "id": "qdqLUTsDpId9"
      },
      "source": [
        "#### Balance vs response "
      ]
    },
    {
      "cell_type": "code",
      "execution_count": 87,
      "metadata": {
        "id": "IxVoTdwlpId9"
      },
      "outputs": [],
      "source": [
        "#plot the box plot of balance for yes & no responses.\n"
      ]
    },
    {
      "cell_type": "code",
      "execution_count": 88,
      "metadata": {
        "id": "AV0IVfdApId9"
      },
      "outputs": [],
      "source": [
        "#groupby the response to find the mean of the balance with response no & yes seperatly.\n"
      ]
    },
    {
      "cell_type": "code",
      "execution_count": 89,
      "metadata": {
        "id": "qE9pZ-typId9"
      },
      "outputs": [],
      "source": [
        "#groupby the response to find the median of the balance with response no & yes seperatly.\n"
      ]
    },
    {
      "cell_type": "markdown",
      "metadata": {
        "id": "l5mwQJDYpId9"
      },
      "source": [
        "##### 75th percentile "
      ]
    },
    {
      "cell_type": "code",
      "execution_count": 90,
      "metadata": {
        "id": "-gs6Qe39pId9"
      },
      "outputs": [],
      "source": [
        "#function to find the 75th percentile.\n",
        "def p75(x):\n",
        "    return np.quantile(x, 0.75)"
      ]
    },
    {
      "cell_type": "code",
      "execution_count": 91,
      "metadata": {
        "id": "7-4PkhITpId-"
      },
      "outputs": [],
      "source": [
        "#calculate the mean, median and 75th percentile of balance with response\n"
      ]
    },
    {
      "cell_type": "code",
      "execution_count": 92,
      "metadata": {
        "id": "tSOM2SUTpId-"
      },
      "outputs": [],
      "source": [
        "#plot the bar graph of balance's mean an median with response.\n"
      ]
    },
    {
      "cell_type": "markdown",
      "metadata": {
        "id": "4E7RBcntpId-"
      },
      "source": [
        "#### Education vs salary "
      ]
    },
    {
      "cell_type": "code",
      "execution_count": 93,
      "metadata": {
        "id": "FRiuNpu3pId-"
      },
      "outputs": [],
      "source": [
        "#groupby the education to find the mean of the salary education category.\n"
      ]
    },
    {
      "cell_type": "code",
      "execution_count": 94,
      "metadata": {
        "id": "T9VgeM2ipId-"
      },
      "outputs": [],
      "source": [
        "#groupby the education to find the median of the salary for each education category.\n"
      ]
    },
    {
      "cell_type": "markdown",
      "metadata": {
        "id": "1sXzvj1DpId_"
      },
      "source": [
        "#### Job vs salary"
      ]
    },
    {
      "cell_type": "code",
      "execution_count": 95,
      "metadata": {
        "id": "t2cbfX9RpId_"
      },
      "outputs": [],
      "source": [
        "#groupby the job to find the mean of the salary for each job category.\n"
      ]
    },
    {
      "cell_type": "markdown",
      "metadata": {
        "id": "b80EStKNpId_"
      },
      "source": [
        "### Segment- 5, Categorical categorical variable "
      ]
    },
    {
      "cell_type": "code",
      "execution_count": 96,
      "metadata": {
        "id": "edOtlUaYpId_"
      },
      "outputs": [],
      "source": [
        "#create response_flag of numerical data type where response \"yes\"= 1, \"no\"= 0\n"
      ]
    },
    {
      "cell_type": "markdown",
      "metadata": {
        "id": "9T44bGQYpId_"
      },
      "source": [
        "#### Education vs response rate"
      ]
    },
    {
      "cell_type": "code",
      "execution_count": 97,
      "metadata": {
        "id": "90jHe1zbpIeA"
      },
      "outputs": [],
      "source": [
        "#calculate the mean of response_flag with different education categories.\n"
      ]
    },
    {
      "cell_type": "markdown",
      "metadata": {
        "id": "Bll-tXxTpIeA"
      },
      "source": [
        "#### Marital vs response rate "
      ]
    },
    {
      "cell_type": "code",
      "execution_count": 98,
      "metadata": {
        "id": "ifarQo2HpIeA"
      },
      "outputs": [],
      "source": [
        "#calculate the mean of response_flag with different marital status categories.\n"
      ]
    },
    {
      "cell_type": "code",
      "execution_count": 99,
      "metadata": {
        "id": "WQw7wxX0pIeA"
      },
      "outputs": [],
      "source": [
        "#plot the bar graph of marital status with average value of response_flag\n"
      ]
    },
    {
      "cell_type": "markdown",
      "metadata": {
        "id": "VypVzO0CpIeA"
      },
      "source": [
        "#### Loans vs response rate "
      ]
    },
    {
      "cell_type": "code",
      "execution_count": 100,
      "metadata": {
        "id": "Yj67TMi8pIeB"
      },
      "outputs": [],
      "source": [
        "#plot the bar graph of personal loan status with average value of response_flag\n"
      ]
    },
    {
      "cell_type": "markdown",
      "metadata": {
        "id": "s0i1mKPipIeB"
      },
      "source": [
        "#### Housing loans vs response rate "
      ]
    },
    {
      "cell_type": "code",
      "execution_count": 101,
      "metadata": {
        "id": "1PjOgni3pIeB"
      },
      "outputs": [],
      "source": [
        "#plot the bar graph of housing loan status with average value of response_flag\n"
      ]
    },
    {
      "cell_type": "markdown",
      "metadata": {
        "id": "9Dfa9WyFpIeB"
      },
      "source": [
        "#### Age vs response "
      ]
    },
    {
      "cell_type": "code",
      "execution_count": 102,
      "metadata": {
        "id": "QynJzBSnpIeB"
      },
      "outputs": [],
      "source": [
        "#plot the boxplot of age with response_flag\n"
      ]
    },
    {
      "cell_type": "markdown",
      "metadata": {
        "id": "0LMwzZ6VpIeC"
      },
      "source": [
        "##### making buckets from age columns "
      ]
    },
    {
      "cell_type": "code",
      "execution_count": 103,
      "metadata": {
        "id": "rF0iFBfbpIeC"
      },
      "outputs": [],
      "source": [
        "#create the buckets of <30, 30-40, 40-50 50-60 and 60+ from age column.\n"
      ]
    },
    {
      "cell_type": "code",
      "execution_count": 104,
      "metadata": {
        "id": "_vx27euopIeC"
      },
      "outputs": [],
      "source": [
        "#plot the percentage of each buckets and average values of response_flag in each buckets. plot in subplots.\n"
      ]
    },
    {
      "cell_type": "code",
      "execution_count": 105,
      "metadata": {
        "id": "f1wcR2MfpIeC"
      },
      "outputs": [],
      "source": [
        "#plot the bar graph of job categories with response_flag mean value.\n"
      ]
    },
    {
      "cell_type": "markdown",
      "metadata": {
        "id": "IVrXfH_3pIeD"
      },
      "source": [
        "### Segment-6, Multivariate analysis "
      ]
    },
    {
      "cell_type": "markdown",
      "metadata": {
        "id": "r2s7zwdupIeD"
      },
      "source": [
        "#### Education vs marital vs response "
      ]
    },
    {
      "cell_type": "code",
      "execution_count": 106,
      "metadata": {
        "id": "nldA_-xGpIeE"
      },
      "outputs": [],
      "source": [
        "#create heat map of education vs marital vs response_flag\n"
      ]
    },
    {
      "cell_type": "markdown",
      "metadata": {
        "id": "Y5O6sj8MpIeE"
      },
      "source": [
        "#### Job vs marital vs response "
      ]
    },
    {
      "cell_type": "code",
      "execution_count": 107,
      "metadata": {
        "id": "qZv9UCg8pIeE"
      },
      "outputs": [],
      "source": [
        "#create the heat map of Job vs marital vs response_flag.\n"
      ]
    },
    {
      "cell_type": "markdown",
      "metadata": {
        "id": "-qjr1R3GpIeE"
      },
      "source": [
        "#### Education vs poutcome vs response"
      ]
    },
    {
      "cell_type": "code",
      "execution_count": 108,
      "metadata": {
        "id": "18yi7EjHpIeF"
      },
      "outputs": [],
      "source": [
        "#create the heat map of education vs poutcome vs response_flag.\n"
      ]
    }
  ],
  "metadata": {
    "kernelspec": {
      "display_name": "Python 3",
      "language": "python",
      "name": "python3"
    },
    "language_info": {
      "codemirror_mode": {
        "name": "ipython",
        "version": 3
      },
      "file_extension": ".py",
      "mimetype": "text/x-python",
      "name": "python",
      "nbconvert_exporter": "python",
      "pygments_lexer": "ipython3",
      "version": "3.7.3"
    },
    "colab": {
      "name": "Bank TeleMarketing Campaign_EDA.ipynb",
      "provenance": [],
      "collapsed_sections": [
        "xSFok6agpIdy",
        "SVtcNxwmpId0",
        "PL8tiaqcpId2",
        "LGcj9PTBpId3",
        "IxtvRlU5pId4",
        "3BepI-hRpId5",
        "eIAx-YAxpId7",
        "KXb9weIEpId8",
        "qdqLUTsDpId9",
        "4E7RBcntpId-",
        "1sXzvj1DpId_",
        "9T44bGQYpId_",
        "Bll-tXxTpIeA",
        "VypVzO0CpIeA",
        "s0i1mKPipIeB",
        "9Dfa9WyFpIeB",
        "r2s7zwdupIeD",
        "Y5O6sj8MpIeE",
        "-qjr1R3GpIeE"
      ],
      "include_colab_link": true
    }
  },
  "nbformat": 4,
  "nbformat_minor": 0
}